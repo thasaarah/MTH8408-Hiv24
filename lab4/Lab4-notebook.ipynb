{
 "cells": [
  {
   "cell_type": "markdown",
   "metadata": {},
   "source": [
    " # MTH8408 : Méthodes d'optimisation et contrôle optimal\n",
    " ## Laboratoire 4: Optimisation sans contraintes et méthodes itératives\n",
    "Tangi Migot et Paul Raynaud"
   ]
  },
  {
   "cell_type": "code",
   "execution_count": 2,
   "metadata": {},
   "outputs": [
    {
     "name": "stderr",
     "output_type": "stream",
     "text": [
      "\u001b[32m\u001b[1m  Activating\u001b[22m\u001b[39m project at `c:\\Documents\\optimisation\\MTH8408-Hiv24\\lab4`\n"
     ]
    },
    {
     "name": "stderr",
     "output_type": "stream",
     "text": [
      "\u001b[32m\u001b[1m    Updating\u001b[22m\u001b[39m registry at `C:\\Users\\thasa\\.julia\\registries\\General.toml`\n"
     ]
    },
    {
     "name": "stderr",
     "output_type": "stream",
     "text": [
      "\u001b[32m\u001b[1m   Installed\u001b[22m\u001b[39m IntelOpenMP_jll ───────── v2024.0.2+0\n",
      "\u001b[32m\u001b[1m   Installed\u001b[22m\u001b[39m Calculus ──────────────── v0.5.1\n"
     ]
    },
    {
     "name": "stderr",
     "output_type": "stream",
     "text": [
      "\u001b[32m\u001b[1m   Installed\u001b[22m\u001b[39m PDMats ────────────────── v0.11.31\n",
      "\u001b[32m\u001b[1m   Installed\u001b[22m\u001b[39m StatsFuns ─────────────── v1.3.1\n",
      "\u001b[32m\u001b[1m   Installed\u001b[22m\u001b[39m OffsetArrays ──────────── v1.13.0\n",
      "\u001b[32m\u001b[1m   Installed\u001b[22m\u001b[39m HypergeometricFunctions ─ v0.3.23\n",
      "\u001b[32m\u001b[1m   Installed\u001b[22m\u001b[39m FFTW ──────────────────── v1.8.0\n",
      "\u001b[32m\u001b[1m   Installed\u001b[22m\u001b[39m Media ─────────────────── v0.5.0\n"
     ]
    },
    {
     "name": "stderr",
     "output_type": "stream",
     "text": [
      "\u001b[32m\u001b[1m   Installed\u001b[22m\u001b[39m Rmath_jll ─────────────── v0.4.0+0\n"
     ]
    },
    {
     "name": "stderr",
     "output_type": "stream",
     "text": [
      "\u001b[32m\u001b[1m   Installed\u001b[22m\u001b[39m Loess ─────────────────── v0.6.3\n",
      "\u001b[32m\u001b[1m   Installed\u001b[22m\u001b[39m Distances ─────────────── v0.10.11\n",
      "\u001b[32m\u001b[1m   Installed\u001b[22m\u001b[39m Ipopt_jll ─────────────── v300.1400.1400+0\n",
      "\u001b[32m\u001b[1m   Installed\u001b[22m\u001b[39m Compat ────────────────── v4.13.0\n"
     ]
    },
    {
     "name": "stderr",
     "output_type": "stream",
     "text": [
      "\u001b[32m\u001b[1m   Installed\u001b[22m\u001b[39m Ratios ────────────────── v0.4.5\n"
     ]
    },
    {
     "name": "stderr",
     "output_type": "stream",
     "text": [
      "\u001b[32m\u001b[1m   Installed\u001b[22m\u001b[39m MUMPS_seq_jll ─────────── v500.600.201+0\n"
     ]
    },
    {
     "name": "stderr",
     "output_type": "stream",
     "text": [
      "\u001b[32m\u001b[1m   Installed\u001b[22m\u001b[39m SPRAL_jll ─────────────── v2024.1.18+0\n",
      "\u001b[32m\u001b[1m   Installed\u001b[22m\u001b[39m Hexagons ──────────────── v0.2.0\n",
      "\u001b[32m\u001b[1m   Installed\u001b[22m\u001b[39m MKL_jll ───────────────── v2024.0.0+0\n"
     ]
    },
    {
     "name": "stderr",
     "output_type": "stream",
     "text": [
      "\u001b[32m\u001b[1m   Installed\u001b[22m\u001b[39m AbstractFFTs ──────────── v1.5.0\n",
      "\u001b[32m\u001b[1m   Installed\u001b[22m\u001b[39m CategoricalArrays ─────── v0.10.8\n"
     ]
    },
    {
     "name": "stderr",
     "output_type": "stream",
     "text": [
      "\u001b[32m\u001b[1m   Installed\u001b[22m\u001b[39m Gadfly ────────────────── v1.4.0\n"
     ]
    },
    {
     "name": "stderr",
     "output_type": "stream",
     "text": [
      "\u001b[32m\u001b[1m   Installed\u001b[22m\u001b[39m FFTW_jll ──────────────── v3.3.10+0\n",
      "\u001b[32m\u001b[1m   Installed\u001b[22m\u001b[39m KernelDensity ─────────── v0.6.8\n",
      "\u001b[32m\u001b[1m   Installed\u001b[22m\u001b[39m CoupledFields ─────────── v0.2.0\n",
      "\u001b[32m\u001b[1m   Installed\u001b[22m\u001b[39m LogExpFunctions ───────── v0.3.27\n"
     ]
    },
    {
     "name": "stderr",
     "output_type": "stream",
     "text": [
      "\u001b[32m\u001b[1m   Installed\u001b[22m\u001b[39m Rmath ─────────────────── v0.7.1\n",
      "\u001b[32m\u001b[1m   Installed\u001b[22m\u001b[39m Adapt ─────────────────── v4.0.1\n"
     ]
    },
    {
     "name": "stderr",
     "output_type": "stream",
     "text": [
      "\u001b[32m\u001b[1m   Installed\u001b[22m\u001b[39m DualNumbers ───────────── v0.6.8\n"
     ]
    },
    {
     "name": "stderr",
     "output_type": "stream",
     "text": [
      "\u001b[32m\u001b[1m   Installed\u001b[22m\u001b[39m IndirectArrays ────────── v1.0.0\n",
      "\u001b[32m\u001b[1m   Installed\u001b[22m\u001b[39m IterTools ─────────────── v1.10.0\n"
     ]
    },
    {
     "name": "stderr",
     "output_type": "stream",
     "text": [
      "\u001b[32m\u001b[1m   Installed\u001b[22m\u001b[39m AxisAlgorithms ────────── v1.1.0\n"
     ]
    },
    {
     "name": "stderr",
     "output_type": "stream",
     "text": [
      "\u001b[32m\u001b[1m   Installed\u001b[22m\u001b[39m Ipopt ─────────────────── v1.6.1\n"
     ]
    },
    {
     "name": "stderr",
     "output_type": "stream",
     "text": [
      "\u001b[32m\u001b[1m   Installed\u001b[22m\u001b[39m QuadGK ────────────────── v2.9.4\n"
     ]
    },
    {
     "name": "stderr",
     "output_type": "stream",
     "text": [
      "\u001b[32m\u001b[1m   Installed\u001b[22m\u001b[39m FillArrays ────────────── v1.9.3\n"
     ]
    },
    {
     "name": "stderr",
     "output_type": "stream",
     "text": [
      "\u001b[32m\u001b[1m   Installed\u001b[22m\u001b[39m Compose ───────────────── v0.9.5\n"
     ]
    },
    {
     "name": "stderr",
     "output_type": "stream",
     "text": [
      "\u001b[32m\u001b[1m   Installed\u001b[22m\u001b[39m WoodburyMatrices ──────── v1.0.0\n",
      "\u001b[32m\u001b[1m   Installed\u001b[22m\u001b[39m Juno ──────────────────── v0.8.4\n"
     ]
    },
    {
     "name": "stderr",
     "output_type": "stream",
     "text": [
      "\u001b[32m\u001b[1m   Installed\u001b[22m\u001b[39m ChainRulesCore ────────── v1.21.1\n",
      "\u001b[32m\u001b[1m   Installed\u001b[22m\u001b[39m Distributions ─────────── v0.25.107\n",
      "\u001b[32m\u001b[1m   Installed\u001b[22m\u001b[39m Interpolations ────────── v0.15.1\n"
     ]
    },
    {
     "name": "stderr",
     "output_type": "stream",
     "text": [
      "\u001b[32m\u001b[1m    Updating\u001b[22m\u001b[39m `C:\\Documents\\optimisation\\MTH8408-Hiv24\\lab4\\Project.toml`\n",
      "  \u001b[90m[54578032] \u001b[39m\u001b[92m+ ADNLPModels v0.7.0\u001b[39m\n",
      "  \u001b[90m[c91e804a] \u001b[39m\u001b[92m+ Gadfly v1.4.0\u001b[39m\n",
      "  \u001b[90m[7073ff75] \u001b[39m\u001b[92m+ IJulia v1.24.2\u001b[39m\n",
      "  \u001b[90m[b6b21f68] \u001b[39m\u001b[92m+ Ipopt v1.6.1\u001b[39m\n",
      "  \u001b[90m[4076af6c] \u001b[39m\u001b[92m+ JuMP v1.20.0\u001b[39m\n",
      "  \u001b[90m[ba0b0d4f] \u001b[39m\u001b[92m+ Krylov v0.9.5\u001b[39m\n",
      "  \u001b[90m[a4795742] \u001b[39m\u001b[92m+ NLPModels v0.20.0\u001b[39m\n",
      "  \u001b[90m[f4238b75] \u001b[39m\u001b[92m+ NLPModelsIpopt v0.10.1\u001b[39m\n",
      "  \u001b[90m[792afdf1] \u001b[39m\u001b[92m+ NLPModelsJuMP v0.12.5\u001b[39m\n",
      "  \u001b[90m[ff4d7338] \u001b[39m\u001b[92m+ SolverCore v0.3.7\u001b[39m\n",
      "\u001b[32m\u001b[1m    Updating\u001b[22m\u001b[39m `C:\\Documents\\optimisation\\MTH8408-Hiv24\\lab4\\Manifest.toml`"
     ]
    },
    {
     "name": "stderr",
     "output_type": "stream",
     "text": [
      "\n",
      "  \u001b[90m[54578032] \u001b[39m\u001b[92m+ ADNLPModels v0.7.0\u001b[39m\n",
      "  \u001b[90m[14f7f29c] \u001b[39m\u001b[92m+ AMD v0.5.3\u001b[39m\n",
      "  \u001b[90m[621f4979] \u001b[39m\u001b[92m+ AbstractFFTs v1.5.0\u001b[39m\n",
      "  \u001b[90m[79e6a3ab] \u001b[39m\u001b[92m+ Adapt v4.0.1\u001b[39m\n",
      "  \u001b[90m[13072b0f] \u001b[39m\u001b[92m+ AxisAlgorithms v1.1.0\u001b[39m\n",
      "  \u001b[90m[6e4b80f9] \u001b[39m\u001b[92m+ BenchmarkTools v1.4.0\u001b[39m\n",
      "  \u001b[90m[49dc2e85] \u001b[39m\u001b[92m+ Calculus v0.5.1\u001b[39m\n",
      "  \u001b[90m[324d7699] \u001b[39m\u001b[92m+ CategoricalArrays v0.10.8\u001b[39m\n",
      "  \u001b[90m[d360d2e6] \u001b[39m\u001b[92m+ ChainRulesCore v1.21.1\u001b[39m\n",
      "  \u001b[90m[523fee87] \u001b[39m\u001b[92m+ CodecBzip2 v0.8.2\u001b[39m\n",
      "  \u001b[90m[944b1d66] \u001b[39m\u001b[92m+ CodecZlib v0.7.4\u001b[39m\n",
      "  \u001b[90m[ffa27691] \u001b[39m\u001b[92m+ ColPack v0.3.0\u001b[39m\n",
      "  \u001b[90m[3da002f7] \u001b[39m\u001b[92m+ ColorTypes v0.11.4\u001b[39m\n",
      "  \u001b[90m[5ae59095] \u001b[39m\u001b[92m+ Colors v0.12.10\u001b[39m\n",
      "  \u001b[90m[bbf7d656] \u001b[39m\u001b[92m+ CommonSubexpressions v0.3.0\u001b[39m\n",
      "  \u001b[90m[34da2185] \u001b[39m\u001b[92m+ Compat v4.13.0\u001b[39m\n",
      "  \u001b[90m[a81c6b42] \u001b[39m\u001b[92m+ Compose v0.9.5\u001b[39m\n",
      "  \u001b[90m[8f4d0f93] \u001b[39m\u001b[92m+ Conda v1.10.0\u001b[39m\n",
      "  \u001b[90m[d38c429a] \u001b[39m\u001b[92m+ Contour v0.6.2\u001b[39m\n",
      "  \u001b[90m[7ad07ef1] \u001b[39m\u001b[92m+ CoupledFields v0.2.0\u001b[39m\n",
      "  \u001b[90m[9a962f9c] \u001b[39m\u001b[92m+ DataAPI v1.16.0\u001b[39m\n",
      "  \u001b[90m[864edb3b] \u001b[39m\u001b[92m+ DataStructures v0.18.16\u001b[39m\n",
      "  \u001b[90m[163ba53b] \u001b[39m\u001b[92m+ DiffResults v1.1.0\u001b[39m\n",
      "  \u001b[90m[b552c78f] \u001b[39m\u001b[92m+ DiffRules v1.15.1\u001b[39m\n",
      "  \u001b[90m[b4f34e82] \u001b[39m\u001b[92m+ Distances v0.10.11\u001b[39m\n",
      "  \u001b[90m[31c24e10] \u001b[39m\u001b[92m+ Distributions v0.25.107\u001b[39m\n",
      "  \u001b[90m[ffbed154] \u001b[39m\u001b[92m+ DocStringExtensions v0.9.3\u001b[39m\n",
      "  \u001b[90m[fa6b7ba4] \u001b[39m\u001b[92m+ DualNumbers v0.6.8\u001b[39m\n",
      "  \u001b[90m[e2ba6199] \u001b[39m\u001b[92m+ ExprTools v0.1.10\u001b[39m\n",
      "  \u001b[90m[7a1cc6ca] \u001b[39m\u001b[92m+ FFTW v1.8.0\u001b[39m\n",
      "  \u001b[90m[9aa1b823] \u001b[39m\u001b[92m+ FastClosures v0.3.2\u001b[39m\n",
      "  \u001b[90m[1a297f60] \u001b[39m\u001b[92m+ FillArrays v1.9.3\u001b[39m\n",
      "  \u001b[90m[53c48c17] \u001b[39m\u001b[92m+ FixedPointNumbers v0.8.4\u001b[39m\n",
      "  \u001b[90m[f6369f11] \u001b[39m\u001b[92m+ ForwardDiff v0.10.36\u001b[39m\n",
      "  \u001b[90m[069b7b12] \u001b[39m\u001b[92m+ FunctionWrappers v1.1.3\u001b[39m\n",
      "  \u001b[90m[c91e804a] \u001b[39m\u001b[92m+ Gadfly v1.4.0\u001b[39m\n",
      "  \u001b[90m[42e2da0e] \u001b[39m\u001b[92m+ Grisu v1.0.2\u001b[39m\n",
      "  \u001b[90m[a1b4810d] \u001b[39m\u001b[92m+ Hexagons v0.2.0\u001b[39m\n",
      "  \u001b[90m[34004b35] \u001b[39m\u001b[92m+ HypergeometricFunctions v0.3.23\u001b[39m\n",
      "  \u001b[90m[7073ff75] \u001b[39m\u001b[92m+ IJulia v1.24.2\u001b[39m\n",
      "  \u001b[90m[9b13fd28] \u001b[39m\u001b[92m+ IndirectArrays v1.0.0\u001b[39m\n",
      "  \u001b[90m[a98d9a8b] \u001b[39m\u001b[92m+ Interpolations v0.15.1\u001b[39m\n",
      "  \u001b[90m[b6b21f68] \u001b[39m\u001b[92m+ Ipopt v1.6.1\u001b[39m\n",
      "  \u001b[90m[92d709cd] \u001b[39m\u001b[92m+ IrrationalConstants v0.2.2\u001b[39m\n",
      "  \u001b[90m[c8e1da08] \u001b[39m\u001b[92m+ IterTools v1.10.0\u001b[39m\n",
      "  \u001b[90m[692b3bcd] \u001b[39m\u001b[92m+ JLLWrappers v1.5.0\u001b[39m\n",
      "  \u001b[90m[682c06a0] \u001b[39m\u001b[92m+ JSON v0.21.4\u001b[39m\n",
      "  \u001b[90m[4076af6c] \u001b[39m\u001b[92m+ JuMP v1.20.0\u001b[39m\n",
      "  \u001b[90m[e5e0dc1b] \u001b[39m\u001b[92m+ Juno v0.8.4\u001b[39m\n",
      "  \u001b[90m[5ab0869b] \u001b[39m\u001b[92m+ KernelDensity v0.6.8\u001b[39m\n",
      "  \u001b[90m[ba0b0d4f] \u001b[39m\u001b[92m+ Krylov v0.9.5\u001b[39m\n",
      "  \u001b[90m[40e66cde] \u001b[39m\u001b[92m+ LDLFactorizations v0.10.1\u001b[39m\n",
      "  \u001b[90m[5c8ed15e] \u001b[39m\u001b[92m+ LinearOperators v2.6.0\u001b[39m\n",
      "  \u001b[90m[4345ca2d] \u001b[39m\u001b[92m+ Loess v0.6.3\u001b[39m\n",
      "  \u001b[90m[2ab3a3ac] \u001b[39m\u001b[92m+ LogExpFunctions v0.3.27\u001b[39m\n",
      "  \u001b[90m[1914dd2f] \u001b[39m\u001b[92m+ MacroTools v0.5.13\u001b[39m\n",
      "  \u001b[90m[b8f27783] \u001b[39m\u001b[92m+ MathOptInterface v1.25.3\u001b[39m\n",
      "  \u001b[90m[739be429] \u001b[39m\u001b[92m+ MbedTLS v1.1.9\u001b[39m\n",
      "  \u001b[90m[442fdcdd] \u001b[39m\u001b[92m+ Measures v0.3.2\u001b[39m\n",
      "  \u001b[90m[e89f7d12] \u001b[39m\u001b[92m+ Media v0.5.0\u001b[39m\n",
      "  \u001b[90m[e1d29d7a] \u001b[39m\u001b[92m+ Missings v1.1.0\u001b[39m\n",
      "  \u001b[90m[d8a4904e] \u001b[39m\u001b[92m+ MutableArithmetics v1.4.1\u001b[39m\n",
      "  \u001b[90m[a4795742] \u001b[39m\u001b[92m+ NLPModels v0.20.0\u001b[39m\n",
      "  \u001b[90m[f4238b75] \u001b[39m\u001b[92m+ NLPModelsIpopt v0.10.1\u001b[39m\n",
      "  \u001b[90m[792afdf1] \u001b[39m\u001b[92m+ NLPModelsJuMP v0.12.5\u001b[39m\n",
      "  \u001b[90m[77ba4419] \u001b[39m\u001b[92m+ NaNMath v1.0.2\u001b[39m\n",
      "  \u001b[90m[6fe1bfb0] \u001b[39m\u001b[92m+ OffsetArrays v1.13.0\u001b[39m\n",
      "  \u001b[90m[bac558e1] \u001b[39m\u001b[92m+ OrderedCollections v1.6.3\u001b[39m\n",
      "  \u001b[90m[90014a1f] \u001b[39m\u001b[92m+ PDMats v0.11.31\u001b[39m\n",
      "  \u001b[90m[69de0a69] \u001b[39m\u001b[92m+ Parsers v2.8.1\u001b[39m\n",
      "  \u001b[90m[aea7be01] \u001b[39m\u001b[92m+ PrecompileTools v1.2.0\u001b[39m\n",
      "  \u001b[90m[21216c6a] \u001b[39m\u001b[92m+ Preferences v1.4.1\u001b[39m\n",
      "  \u001b[90m[1fd47b50] \u001b[39m\u001b[92m+ QuadGK v2.9.4\u001b[39m\n",
      "  \u001b[90m[c84ed2f1] \u001b[39m\u001b[92m+ Ratios v0.4.5\u001b[39m\n",
      "  \u001b[90m[189a3867] \u001b[39m\u001b[92m+ Reexport v1.2.2\u001b[39m\n",
      "  \u001b[90m[ae029012] \u001b[39m\u001b[92m+ Requires v1.3.0\u001b[39m\n",
      "  \u001b[90m[37e2e3b7] \u001b[39m\u001b[92m+ ReverseDiff v1.15.1\u001b[39m\n",
      "  \u001b[90m[79098fc4] \u001b[39m\u001b[92m+ Rmath v0.7.1\u001b[39m\n",
      "  \u001b[90m[992d4aef] \u001b[39m\u001b[92m+ Showoff v1.0.3\u001b[39m\n",
      "  \u001b[90m[b85f4697] \u001b[39m\u001b[92m+ SoftGlobalScope v1.1.0\u001b[39m\n",
      "  \u001b[90m[ff4d7338] \u001b[39m\u001b[92m+ SolverCore v0.3.7\u001b[39m\n",
      "  \u001b[90m[a2af1166] \u001b[39m\u001b[92m+ SortingAlgorithms v1.2.1\u001b[39m\n",
      "  \u001b[90m[276daf66] \u001b[39m\u001b[92m+ SpecialFunctions v2.3.1\u001b[39m\n",
      "  \u001b[90m[90137ffa] \u001b[39m\u001b[92m+ StaticArrays v1.9.2\u001b[39m\n",
      "  \u001b[90m[1e83bf80] \u001b[39m\u001b[92m+ StaticArraysCore v1.4.2\u001b[39m\n",
      "  \u001b[90m[82ae8749] \u001b[39m\u001b[92m+ StatsAPI v1.7.0\u001b[39m\n",
      "\u001b[33m⌅\u001b[39m \u001b[90m[2913bbd2] \u001b[39m\u001b[92m+ StatsBase v0.33.21\u001b[39m\n",
      "  \u001b[90m[4c63d2b9] \u001b[39m\u001b[92m+ StatsFuns v1.3.1\u001b[39m\n",
      "  \u001b[90m[a759f4b9] \u001b[39m\u001b[92m+ TimerOutputs v0.5.23\u001b[39m\n",
      "  \u001b[90m[3bb67fe8] \u001b[39m\u001b[92m+ TranscodingStreams v0.10.3\u001b[39m\n",
      "  \u001b[90m[81def892] \u001b[39m\u001b[92m+ VersionParsing v1.3.0\u001b[39m\n",
      "  \u001b[90m[efce3f68] \u001b[39m\u001b[92m+ WoodburyMatrices v1.0.0\u001b[39m\n",
      "  \u001b[90m[c2297ded] \u001b[39m\u001b[92m+ ZMQ v1.2.2\u001b[39m\n",
      "  \u001b[90m[ae81ac8f] \u001b[39m\u001b[92m+ ASL_jll v0.1.3+0\u001b[39m\n",
      "  \u001b[90m[6e34b625] \u001b[39m\u001b[92m+ Bzip2_jll v1.0.8+1\u001b[39m\n",
      "  \u001b[90m[f218ff0c] \u001b[39m\u001b[92m+ ColPack_jll v0.3.0+0\u001b[39m\n",
      "  \u001b[90m[f5851436] \u001b[39m\u001b[92m+ FFTW_jll v3.3.10+0\u001b[39m\n",
      "  \u001b[90m[e33a78d0] \u001b[39m\u001b[92m+ Hwloc_jll v2.10.0+0\u001b[39m\n",
      "  \u001b[90m[1d5cc7b8] \u001b[39m\u001b[92m+ IntelOpenMP_jll v2024.0.2+0\u001b[39m\n",
      "  \u001b[90m[9cc047cb] \u001b[39m\u001b[92m+ Ipopt_jll v300.1400.1400+0\u001b[39m\n",
      "  \u001b[90m[d00139f3] \u001b[39m\u001b[92m+ METIS_jll v5.1.2+0\u001b[39m\n",
      "  \u001b[90m[856f044c] \u001b[39m\u001b[92m+ MKL_jll v2024.0.0+0\u001b[39m\n",
      "  \u001b[90m[d7ed1dd3] \u001b[39m\u001b[92m+ MUMPS_seq_jll v500.600.201+0\u001b[39m\n",
      "\u001b[33m⌅\u001b[39m \u001b[90m[656ef2d0] \u001b[39m\u001b[92m+ OpenBLAS32_jll v0.3.24+0\u001b[39m\n",
      "  \u001b[90m[efe28fd5] \u001b[39m\u001b[92m+ OpenSpecFun_jll v0.5.5+0\u001b[39m\n",
      "  \u001b[90m[f50d1b31] \u001b[39m\u001b[92m+ Rmath_jll v0.4.0+0\u001b[39m\n",
      "  \u001b[90m[319450e9] \u001b[39m\u001b[92m+ SPRAL_jll v2024.1.18+0\u001b[39m\n",
      "  \u001b[90m[8f1865be] \u001b[39m\u001b[92m+ ZeroMQ_jll v4.3.4+0\u001b[39m\n",
      "  \u001b[90m[a9144af2] \u001b[39m\u001b[92m+ libsodium_jll v1.0.20+0\u001b[39m\n",
      "  \u001b[90m[0dad84c5] \u001b[39m\u001b[92m+ ArgTools v1.1.1\u001b[39m\n",
      "  \u001b[90m[56f22d72] \u001b[39m\u001b[92m+ Artifacts\u001b[39m\n",
      "  \u001b[90m[2a0f44e3] \u001b[39m\u001b[92m+ Base64\u001b[39m\n",
      "  \u001b[90m[ade2ca70] \u001b[39m\u001b[92m+ Dates\u001b[39m\n",
      "  \u001b[90m[8ba89e20] \u001b[39m\u001b[92m+ Distributed\u001b[39m\n",
      "  \u001b[90m[f43a241f] \u001b[39m\u001b[92m+ Downloads v1.6.0\u001b[39m\n",
      "  \u001b[90m[7b1f6079] \u001b[39m\u001b[92m+ FileWatching\u001b[39m\n",
      "  \u001b[90m[9fa8497b] \u001b[39m\u001b[92m+ Future\u001b[39m\n",
      "  \u001b[90m[b77e0a4c] \u001b[39m\u001b[92m+ InteractiveUtils\u001b[39m\n",
      "  \u001b[90m[4af54fe1] \u001b[39m\u001b[92m+ LazyArtifacts\u001b[39m\n",
      "  \u001b[90m[b27032c2] \u001b[39m\u001b[92m+ LibCURL v0.6.4\u001b[39m\n",
      "  \u001b[90m[76f85450] \u001b[39m\u001b[92m+ LibGit2\u001b[39m\n",
      "  \u001b[90m[8f399da3] \u001b[39m\u001b[92m+ Libdl\u001b[39m\n",
      "  \u001b[90m[37e2e46d] \u001b[39m\u001b[92m+ LinearAlgebra\u001b[39m\n",
      "  \u001b[90m[56ddb016] \u001b[39m\u001b[92m+ Logging\u001b[39m\n",
      "  \u001b[90m[d6f4376e] \u001b[39m\u001b[92m+ Markdown\u001b[39m\n",
      "  \u001b[90m[a63ad114] \u001b[39m\u001b[92m+ Mmap\u001b[39m\n",
      "  \u001b[90m[ca575930] \u001b[39m\u001b[92m+ NetworkOptions v1.2.0\u001b[39m\n",
      "  \u001b[90m[44cfe95a] \u001b[39m\u001b[92m+ Pkg v1.10.0\u001b[39m\n",
      "  \u001b[90m[de0858da] \u001b[39m\u001b[92m+ Printf\u001b[39m\n",
      "  \u001b[90m[9abbd945] \u001b[39m\u001b[92m+ Profile\u001b[39m\n",
      "  \u001b[90m[3fa0cd96] \u001b[39m\u001b[92m+ REPL\u001b[39m\n",
      "  \u001b[90m[9a3f8284] \u001b[39m\u001b[92m+ Random\u001b[39m\n",
      "  \u001b[90m[ea8e919c] \u001b[39m\u001b[92m+ SHA v0.7.0\u001b[39m\n",
      "  \u001b[90m[9e88b42a] \u001b[39m\u001b[92m+ Serialization\u001b[39m\n",
      "  \u001b[90m[1a1011a3] \u001b[39m\u001b[92m+ SharedArrays\u001b[39m\n",
      "  \u001b[90m[6462fe0b] \u001b[39m\u001b[92m+ Sockets\u001b[39m\n",
      "  \u001b[90m[2f01184e] \u001b[39m\u001b[92m+ SparseArrays v1.10.0\u001b[39m\n",
      "  \u001b[90m[10745b16] \u001b[39m\u001b[92m+ Statistics v1.10.0\u001b[39m\n",
      "  \u001b[90m[4607b0f0] \u001b[39m\u001b[92m+ SuiteSparse\u001b[39m\n",
      "  \u001b[90m[fa267f1f] \u001b[39m\u001b[92m+ TOML v1.0.3\u001b[39m\n",
      "  \u001b[90m[a4e569a6] \u001b[39m\u001b[92m+ Tar v1.10.0\u001b[39m\n",
      "  \u001b[90m[8dfed614] \u001b[39m\u001b[92m+ Test\u001b[39m\n",
      "  \u001b[90m[cf7118a7] \u001b[39m\u001b[92m+ UUIDs\u001b[39m\n",
      "  \u001b[90m[4ec0a83e] \u001b[39m\u001b[92m+ Unicode\u001b[39m\n",
      "  \u001b[90m[e66e0078] \u001b[39m\u001b[92m+ CompilerSupportLibraries_jll v1.0.5+1\u001b[39m\n",
      "  \u001b[90m[deac9b47] \u001b[39m\u001b[92m+ LibCURL_jll v8.4.0+0\u001b[39m\n",
      "  \u001b[90m[e37daf67] \u001b[39m\u001b[92m+ LibGit2_jll v1.6.4+0\u001b[39m\n",
      "  \u001b[90m[29816b5a] \u001b[39m\u001b[92m+ LibSSH2_jll v1.11.0+1\u001b[39m\n",
      "  \u001b[90m[c8ffd9c3] \u001b[39m\u001b[92m+ MbedTLS_jll v2.28.2+1\u001b[39m\n",
      "  \u001b[90m[14a3606d] \u001b[39m\u001b[92m+ MozillaCACerts_jll v2023.1.10\u001b[39m\n",
      "  \u001b[90m[4536629a] \u001b[39m\u001b[92m+ OpenBLAS_jll v0.3.23+2\u001b[39m\n",
      "  \u001b[90m[05823500] \u001b[39m\u001b[92m+ OpenLibm_jll v0.8.1+2\u001b[39m\n",
      "  \u001b[90m[bea87d4a] \u001b[39m\u001b[92m+ SuiteSparse_jll v7.2.1+1\u001b[39m\n",
      "  \u001b[90m[83775a58] \u001b[39m\u001b[92m+ Zlib_jll v1.2.13+1\u001b[39m\n",
      "  \u001b[90m[8e850b90] \u001b[39m\u001b[92m+ libblastrampoline_jll v5.8.0+1\u001b[39m\n",
      "  \u001b[90m[8e850ede] \u001b[39m\u001b[92m+ nghttp2_jll v1.52.0+1\u001b[39m\n",
      "  \u001b[90m[3f19e933] \u001b[39m\u001b[92m+ p7zip_jll v17.4.0+2\u001b[39m\n",
      "\u001b[36m\u001b[1m        Info\u001b[22m\u001b[39m Packages marked with \u001b[33m⌅\u001b[39m have new versions available but compatibility constraints restrict them from upgrading. To see why use `status --outdated -m`\n"
     ]
    },
    {
     "name": "stderr",
     "output_type": "stream",
     "text": [
      "\u001b[32m\u001b[1mPrecompiling\u001b[22m\u001b[39m "
     ]
    },
    {
     "name": "stderr",
     "output_type": "stream",
     "text": [
      "project...\n"
     ]
    },
    {
     "name": "stderr",
     "output_type": "stream",
     "text": [
      "\u001b[32m  ✓ \u001b[39m\u001b[90mAdapt\u001b[39m\n",
      "\u001b[32m  ✓ \u001b[39m\u001b[90mCompat\u001b[39m\n",
      "\u001b[32m  ✓ \u001b[39m\u001b[90mIndirectArrays\u001b[39m\n"
     ]
    },
    {
     "name": "stderr",
     "output_type": "stream",
     "text": [
      "\u001b[32m  ✓ \u001b[39m\u001b[90mAbstractFFTs\u001b[39m\n"
     ]
    },
    {
     "name": "stderr",
     "output_type": "stream",
     "text": [
      "\u001b[32m  ✓ \u001b[39m\u001b[90mIterTools\u001b[39m\n",
      "\u001b[32m  ✓ \u001b[39m\u001b[90mCalculus\u001b[39m\n"
     ]
    },
    {
     "name": "stderr",
     "output_type": "stream",
     "text": [
      "\u001b[32m  ✓ \u001b[39m\u001b[90mFillArrays\u001b[39m\n"
     ]
    },
    {
     "name": "stderr",
     "output_type": "stream",
     "text": [
      "\u001b[32m  ✓ \u001b[39m\u001b[90mRatios\u001b[39m\n"
     ]
    },
    {
     "name": "stderr",
     "output_type": "stream",
     "text": [
      "\u001b[32m  ✓ \u001b[39m\u001b[90mHexagons\u001b[39m\n"
     ]
    },
    {
     "name": "stderr",
     "output_type": "stream",
     "text": [
      "\u001b[32m  ✓ \u001b[39m\u001b[90mLogExpFunctions\u001b[39m\n"
     ]
    },
    {
     "name": "stderr",
     "output_type": "stream",
     "text": [
      "\u001b[32m  ✓ \u001b[39m\u001b[90mMedia\u001b[39m\n"
     ]
    },
    {
     "name": "stderr",
     "output_type": "stream",
     "text": [
      "\u001b[32m  ✓ \u001b[39m\u001b[90mOffsetArrays\u001b[39m\n"
     ]
    },
    {
     "name": "stderr",
     "output_type": "stream",
     "text": [
      "\u001b[32m  ✓ \u001b[39m\u001b[90mSuiteSparse\u001b[39m\n"
     ]
    },
    {
     "name": "stderr",
     "output_type": "stream",
     "text": [
      "\u001b[32m  ✓ \u001b[39m\u001b[90mWoodburyMatrices\u001b[39m\n"
     ]
    },
    {
     "name": "stderr",
     "output_type": "stream",
     "text": [
      "\u001b[32m  ✓ \u001b[39m\u001b[90mIntelOpenMP_jll\u001b[39m\n"
     ]
    },
    {
     "name": "stderr",
     "output_type": "stream",
     "text": [
      "\u001b[32m  ✓ \u001b[39m\u001b[90mRmath_jll\u001b[39m\n"
     ]
    },
    {
     "name": "stderr",
     "output_type": "stream",
     "text": [
      "\u001b[32m  ✓ \u001b[39m\u001b[90mFFTW_jll\u001b[39m\n"
     ]
    },
    {
     "name": "stderr",
     "output_type": "stream",
     "text": [
      "\u001b[32m  ✓ \u001b[39m\u001b[90mCompat → CompatLinearAlgebraExt\u001b[39m\n"
     ]
    },
    {
     "name": "stderr",
     "output_type": "stream",
     "text": [
      "\u001b[32m  ✓ \u001b[39m\u001b[90mDistances\u001b[39m\n"
     ]
    },
    {
     "name": "stderr",
     "output_type": "stream",
     "text": [
      "\u001b[32m  ✓ \u001b[39m\u001b[90mMUMPS_seq_jll\u001b[39m\n"
     ]
    },
    {
     "name": "stderr",
     "output_type": "stream",
     "text": [
      "\u001b[32m  ✓ \u001b[39m\u001b[90mCategoricalArrays\u001b[39m\n",
      "\u001b[32m  ✓ \u001b[39m\u001b[90mSPRAL_jll\u001b[39m\n"
     ]
    },
    {
     "name": "stderr",
     "output_type": "stream",
     "text": [
      "\u001b[32m  ✓ \u001b[39m\u001b[90mAdapt → AdaptStaticArraysExt\u001b[39m\n"
     ]
    },
    {
     "name": "stderr",
     "output_type": "stream",
     "text": [
      "\u001b[32m  ✓ \u001b[39m\u001b[90mRatios → RatiosFixedPointNumbersExt\u001b[39m\n"
     ]
    },
    {
     "name": "stderr",
     "output_type": "stream",
     "text": [
      "\u001b[32m  ✓ \u001b[39m\u001b[90mOffsetArrays → OffsetArraysAdaptExt\u001b[39m\n"
     ]
    },
    {
     "name": "stderr",
     "output_type": "stream",
     "text": [
      "\u001b[32m  ✓ \u001b[39m\u001b[90mPDMats\u001b[39m\n"
     ]
    },
    {
     "name": "stderr",
     "output_type": "stream",
     "text": [
      "\u001b[32m  ✓ \u001b[39m\u001b[90mJuno\u001b[39m\n",
      "\u001b[32m  ✓ \u001b[39m\u001b[90mAxisAlgorithms\u001b[39m\n"
     ]
    },
    {
     "name": "stderr",
     "output_type": "stream",
     "text": [
      "\u001b[32m  ✓ \u001b[39m\u001b[90mRmath\u001b[39m\n"
     ]
    },
    {
     "name": "stderr",
     "output_type": "stream",
     "text": [
      "\u001b[32m  ✓ \u001b[39m\u001b[90mChainRulesCore\u001b[39m\n"
     ]
    },
    {
     "name": "stderr",
     "output_type": "stream",
     "text": [
      "\u001b[32m  ✓ \u001b[39m\u001b[90mDistances → DistancesSparseArraysExt\u001b[39m\n"
     ]
    },
    {
     "name": "stderr",
     "output_type": "stream",
     "text": [
      "\u001b[32m  ✓ \u001b[39m\u001b[90mCategoricalArrays → CategoricalArraysJSONExt\u001b[39m\n",
      "\u001b[32m  ✓ \u001b[39m\u001b[90mIpopt_jll\u001b[39m\n",
      "\u001b[32m  ✓ \u001b[39m\u001b[90mDataStructures\u001b[39m\n"
     ]
    },
    {
     "name": "stderr",
     "output_type": "stream",
     "text": [
      "\u001b[32m  ✓ \u001b[39m\u001b[90mChainRulesCore → ChainRulesCoreSparseArraysExt\u001b[39m\n",
      "\u001b[32m  ✓ \u001b[39m\u001b[90mAbstractFFTs → AbstractFFTsChainRulesCoreExt\u001b[39m\n"
     ]
    },
    {
     "name": "stderr",
     "output_type": "stream",
     "text": [
      "\u001b[32m  ✓ \u001b[39m\u001b[90mLinearOperators → LinearOperatorsChainRulesCoreExt\u001b[39m\n"
     ]
    },
    {
     "name": "stderr",
     "output_type": "stream",
     "text": [
      "\u001b[32m  ✓ \u001b[39m\u001b[90mSortingAlgorithms\u001b[39m\n"
     ]
    },
    {
     "name": "stderr",
     "output_type": "stream",
     "text": [
      "\u001b[32m  ✓ \u001b[39m\u001b[90mStaticArrays → StaticArraysChainRulesCoreExt\u001b[39m\n"
     ]
    },
    {
     "name": "stderr",
     "output_type": "stream",
     "text": [
      "\u001b[32m  ✓ \u001b[39m\u001b[90mFillArrays → FillArraysPDMatsExt\u001b[39m\n",
      "\u001b[32m  ✓ \u001b[39m\u001b[90mDistances → DistancesChainRulesCoreExt\u001b[39m\n",
      "\u001b[32m  ✓ \u001b[39m\u001b[90mLogExpFunctions → LogExpFunctionsChainRulesCoreExt\u001b[39m\n"
     ]
    },
    {
     "name": "stderr",
     "output_type": "stream",
     "text": [
      "\u001b[32m  ✓ \u001b[39m\u001b[90mQuadGK\u001b[39m\n"
     ]
    },
    {
     "name": "stderr",
     "output_type": "stream",
     "text": [
      "\u001b[32m  ✓ \u001b[39m\u001b[90mAbstractFFTs → AbstractFFTsTestExt\u001b[39m\n"
     ]
    },
    {
     "name": "stderr",
     "output_type": "stream",
     "text": [
      "\u001b[32m  ✓ \u001b[39m\u001b[90mFillArrays → FillArraysSparseArraysExt\u001b[39m\n"
     ]
    },
    {
     "name": "stderr",
     "output_type": "stream",
     "text": [
      "\u001b[32m  ✓ \u001b[39m\u001b[90mLoess\u001b[39m\n"
     ]
    },
    {
     "name": "stderr",
     "output_type": "stream",
     "text": [
      "\u001b[32m  ✓ \u001b[39m\u001b[90mCompose\u001b[39m\n"
     ]
    },
    {
     "name": "stderr",
     "output_type": "stream",
     "text": [
      "\u001b[32m  ✓ \u001b[39m\u001b[90mFillArrays → FillArraysStatisticsExt\u001b[39m\n"
     ]
    },
    {
     "name": "stderr",
     "output_type": "stream",
     "text": [
      "\u001b[32m  ✓ \u001b[39m\u001b[90mInterpolations\u001b[39m\n"
     ]
    },
    {
     "name": "stderr",
     "output_type": "stream",
     "text": [
      "\u001b[32m  ✓ \u001b[39m\u001b[90mStatsBase\u001b[39m\n"
     ]
    },
    {
     "name": "stderr",
     "output_type": "stream",
     "text": [
      "\u001b[32m  ✓ \u001b[39m\u001b[90mSpecialFunctions\u001b[39m\n"
     ]
    },
    {
     "name": "stderr",
     "output_type": "stream",
     "text": [
      "\u001b[32m  ✓ \u001b[39m\u001b[90mCoupledFields\u001b[39m\n"
     ]
    },
    {
     "name": "stderr",
     "output_type": "stream",
     "text": [
      "\u001b[32m  ✓ \u001b[39m\u001b[90mSpecialFunctions → SpecialFunctionsChainRulesCoreExt\u001b[39m\n"
     ]
    },
    {
     "name": "stderr",
     "output_type": "stream",
     "text": [
      "\u001b[32m  ✓ \u001b[39m\u001b[90mDualNumbers\u001b[39m\n"
     ]
    },
    {
     "name": "stderr",
     "output_type": "stream",
     "text": [
      "\u001b[32m  ✓ \u001b[39m\u001b[90mHypergeometricFunctions\u001b[39m\n"
     ]
    },
    {
     "name": "stderr",
     "output_type": "stream",
     "text": [
      "\u001b[32m  ✓ \u001b[39m\u001b[90mForwardDiff\u001b[39m\n"
     ]
    },
    {
     "name": "stderr",
     "output_type": "stream",
     "text": [
      "\u001b[32m  ✓ \u001b[39m\u001b[90mStatsFuns\u001b[39m\n"
     ]
    },
    {
     "name": "stderr",
     "output_type": "stream",
     "text": [
      "\u001b[32m  ✓ \u001b[39m\u001b[90mForwardDiff → ForwardDiffStaticArraysExt\u001b[39m\n"
     ]
    },
    {
     "name": "stderr",
     "output_type": "stream",
     "text": [
      "MKL_jll\u001b[33m Waiting for background task / IO / timer.\u001b[39m\n",
      "[pid 11952] waiting for IO to finish:\n",
      " Handle type        uv_handle_t->data\n",
      " timer              00000271739a0f90->00000271714c1150\n",
      "This means that a package has started a background task or event source that has not finished running. For precompilation to complete successfully, the event source needs to be closed explicitly. See the developer documentation on fixing precompilation hangs for more help.\n"
     ]
    },
    {
     "name": "stderr",
     "output_type": "stream",
     "text": [
      "\u001b[32m  ✓ \u001b[39m\u001b[90mStatsFuns → StatsFunsChainRulesCoreExt\u001b[39m\n"
     ]
    },
    {
     "name": "stderr",
     "output_type": "stream",
     "text": [
      "\u001b[32m  ✓ \u001b[39m\u001b[90mDistributions\u001b[39m\n"
     ]
    },
    {
     "name": "stderr",
     "output_type": "stream",
     "text": [
      "\u001b[32m  ✓ \u001b[39m\u001b[90mDistributions → DistributionsTestExt\u001b[39m\n"
     ]
    },
    {
     "name": "stderr",
     "output_type": "stream",
     "text": [
      "\u001b[32m  ✓ \u001b[39m\u001b[90mDistributions → DistributionsChainRulesCoreExt\u001b[39m\n"
     ]
    },
    {
     "name": "stderr",
     "output_type": "stream",
     "text": [
      "\n",
      "[pid 11952] waiting for IO to finish:\n",
      " Handle type        uv_handle_t->data\n",
      " timer              00000271739a0f90->00000271714c1150\n",
      "This means that a package has started a background task or event source that has not finished running. For precompilation to complete successfully, the event source needs to be closed explicitly. See the developer documentation on fixing precompilation hangs for more help.\n"
     ]
    },
    {
     "name": "stderr",
     "output_type": "stream",
     "text": [
      "\u001b[32m  ✓ \u001b[39m\u001b[90mReverseDiff\u001b[39m\n"
     ]
    },
    {
     "name": "stderr",
     "output_type": "stream",
     "text": [
      "\u001b[32m  ✓ \u001b[39mADNLPModels\n"
     ]
    },
    {
     "name": "stderr",
     "output_type": "stream",
     "text": [
      "\u001b[32m  ✓ \u001b[39m\u001b[90mMKL_jll\u001b[39m\n"
     ]
    },
    {
     "name": "stderr",
     "output_type": "stream",
     "text": [
      "\u001b[32m  ✓ \u001b[39m\u001b[90mFFTW\u001b[39m\n"
     ]
    },
    {
     "name": "stderr",
     "output_type": "stream",
     "text": [
      "\u001b[32m  ✓ \u001b[39m\u001b[90mKernelDensity\u001b[39m\n"
     ]
    },
    {
     "name": "stderr",
     "output_type": "stream",
     "text": [
      "\u001b[32m  ✓ \u001b[39mGadfly\n"
     ]
    },
    {
     "name": "stderr",
     "output_type": "stream",
     "text": [
      "\u001b[32m  ✓ \u001b[39m\u001b[90mMathOptInterface\u001b[39m\n"
     ]
    },
    {
     "name": "stderr",
     "output_type": "stream",
     "text": [
      "\u001b[32m  ✓ \u001b[39mIpopt\n"
     ]
    },
    {
     "name": "stderr",
     "output_type": "stream",
     "text": [
      "\u001b[32m  ✓ \u001b[39mNLPModelsIpopt\n"
     ]
    },
    {
     "name": "stderr",
     "output_type": "stream",
     "text": [
      "\u001b[32m  ✓ \u001b[39mJuMP\n"
     ]
    },
    {
     "name": "stderr",
     "output_type": "stream",
     "text": [
      "\u001b[32m  ✓ \u001b[39mNLPModelsJuMP\n",
      "  73 dependencies successfully precompiled in 120 seconds. 71 already precompiled.\n",
      "  \u001b[33m1\u001b[39m dependency had output during precompilation:\u001b[33m\n",
      "┌ \u001b[39mMKL_jll\u001b[33m\n",
      "│  \u001b[39m\u001b[32m\u001b[1m Downloading\u001b[22m\u001b[39m artifact: MKL\u001b[33m\n",
      "│  \u001b[39m\u001b[33m\n",
      "│  \u001b[39m[pid 11952] waiting for IO to finish:\u001b[33m\n",
      "│  \u001b[39m Handle type        uv_handle_t->data\u001b[33m\n",
      "│  \u001b[39m timer              00000271739a0f90->00000271714c1150\u001b[33m\n",
      "│  \u001b[39mThis means that a package has started a background task or event source that has not finished running. For precompilation to complete successfully, the event source needs to be closed explicitly. See the developer documentation on fixing precompilation hangs for more help.\u001b[33m\n",
      "│  \u001b[39m\u001b[33m\n",
      "│  \u001b[39m[pid 11952] waiting for IO to finish:\u001b[33m\n",
      "│  \u001b[39m Handle type        uv_handle_t->data\u001b[33m\n",
      "│  \u001b[39m timer              00000271739a0f90->00000271714c1150\u001b[33m\n",
      "│  \u001b[39mThis means that a package has started a background task or event source that has not finished running. For precompilation to complete successfully, the event source needs to be closed explicitly. See the developer documentation on fixing precompilation hangs for more help.\u001b[33m\n",
      "└  \u001b[39m"
     ]
    },
    {
     "name": "stdout",
     "output_type": "stream",
     "text": [
      "\u001b[32m\u001b[1mStatus\u001b[22m\u001b[39m `C:\\Documents\\optimisation\\MTH8408-Hiv24\\lab4\\Project.toml`\n",
      "  \u001b[90m[54578032] \u001b[39mADNLPModels v0.7.0\n",
      "  \u001b[90m[c91e804a] \u001b[39mGadfly v1.4.0\n",
      "  \u001b[90m[7073ff75] \u001b[39mIJulia v1.24.2\n",
      "  \u001b[90m[b6b21f68] \u001b[39mIpopt v1.6.1\n",
      "  \u001b[90m[4076af6c] \u001b[39mJuMP v1.20.0\n",
      "  \u001b[90m[ba0b0d4f] \u001b[39mKrylov v0.9.5\n",
      "  \u001b[90m[a4795742] \u001b[39mNLPModels v0.20.0\n",
      "  \u001b[90m[f4238b75] \u001b[39mNLPModelsIpopt v0.10.1"
     ]
    },
    {
     "name": "stderr",
     "output_type": "stream",
     "text": [
      "\n"
     ]
    },
    {
     "name": "stdout",
     "output_type": "stream",
     "text": [
      "\n",
      "  \u001b[90m[792afdf1] \u001b[39mNLPModelsJuMP v0.12.5\n",
      "  \u001b[90m[ff4d7338] \u001b[39mSolverCore v0.3.7\n",
      "  \u001b[90m[37e2e46d] \u001b[39mLinearAlgebra\n",
      "  \u001b[90m[56ddb016] \u001b[39mLogging\n",
      "  \u001b[90m[de0858da] \u001b[39mPrintf\n"
     ]
    }
   ],
   "source": [
    "using Pkg\n",
    "Pkg.activate(\".\") #Accède au fichier Project.toml\n",
    "Pkg.instantiate()\n",
    "Pkg.status()"
   ]
  },
  {
   "cell_type": "code",
   "execution_count": 3,
   "metadata": {},
   "outputs": [],
   "source": [
    "using LinearAlgebra, Krylov, NLPModels, Printf, Logging, SolverCore, Test, ADNLPModels"
   ]
  },
  {
   "cell_type": "markdown",
   "metadata": {},
   "source": [
    "## Exercice 0: Introduction aux NLSModels\n",
    "\n",
    "On a vu dans les lab précédents l'utilisation des NLPModels pour représenter un problème d'optimisation. Dans le cas de l'optimisation de moindre carrées non-linéaires, il existe un type spécifique: **NLSModel**.\n",
    "\n",
    "$\\min_x \\frac{1}{2} \\| F(x) \\|^2$\n",
    "\n",
    "Comme un NLPModel classique on peut faire appels aux fonctions: obj, grad, hprod ...\n",
    "\n",
    "Mais on peut aussi utiliser des fonctions relatives à $F$:\n",
    "https://juliasmoothoptimizers.github.io/NLPModels.jl/stable/#Nonlinear-Least-Squares"
   ]
  },
  {
   "cell_type": "code",
   "execution_count": null,
   "metadata": {},
   "outputs": [],
   "source": [
    "? NLPModels.residual"
   ]
  },
  {
   "cell_type": "markdown",
   "metadata": {},
   "source": [
    "L'équivalent des ADNLPModel pour ce cas est la fonction: ADNLSModel.\n",
    "Lien vers le site: https://juliasmoothoptimizers.github.io/ADNLPModels.jl/stable/"
   ]
  },
  {
   "cell_type": "code",
   "execution_count": null,
   "metadata": {},
   "outputs": [],
   "source": [
    "? ADNLPModels.ADNLSModel"
   ]
  },
  {
   "cell_type": "markdown",
   "metadata": {},
   "source": [
    "En utilisant les ADNLSModels écrire un modèle dont la fonction résidue est donné par FH ci-dessous."
   ]
  },
  {
   "cell_type": "code",
   "execution_count": 7,
   "metadata": {},
   "outputs": [
    {
     "data": {
      "text/plain": [
       "ADNLSModel - Nonlinear least-squares model with automatic differentiation backend ADModelBackend{\n",
       "  ForwardDiffADGradient,\n",
       "  ForwardDiffADHvprod,\n",
       "  EmptyADbackend,\n",
       "  EmptyADbackend,\n",
       "  EmptyADbackend,\n",
       "  ForwardDiffADHessian,\n",
       "  EmptyADbackend,\n",
       "}\n",
       "  Problem name: Generic\n",
       "   All variables: ████████████████████ 2      All constraints: ⋅⋅⋅⋅⋅⋅⋅⋅⋅⋅⋅⋅⋅⋅⋅⋅⋅⋅⋅⋅ 0        All residuals: ████████████████████ 2     \n",
       "            free: ████████████████████ 2                 free: ⋅⋅⋅⋅⋅⋅⋅⋅⋅⋅⋅⋅⋅⋅⋅⋅⋅⋅⋅⋅ 0               linear: ⋅⋅⋅⋅⋅⋅⋅⋅⋅⋅⋅⋅⋅⋅⋅⋅⋅⋅⋅⋅ 0     \n",
       "           lower: ⋅⋅⋅⋅⋅⋅⋅⋅⋅⋅⋅⋅⋅⋅⋅⋅⋅⋅⋅⋅ 0                lower: ⋅⋅⋅⋅⋅⋅⋅⋅⋅⋅⋅⋅⋅⋅⋅⋅⋅⋅⋅⋅ 0            nonlinear: ████████████████████ 2     \n",
       "           upper: ⋅⋅⋅⋅⋅⋅⋅⋅⋅⋅⋅⋅⋅⋅⋅⋅⋅⋅⋅⋅ 0                upper: ⋅⋅⋅⋅⋅⋅⋅⋅⋅⋅⋅⋅⋅⋅⋅⋅⋅⋅⋅⋅ 0                 nnzj: (  0.00% sparsity)   4     \n",
       "         low/upp: ⋅⋅⋅⋅⋅⋅⋅⋅⋅⋅⋅⋅⋅⋅⋅⋅⋅⋅⋅⋅ 0              low/upp: ⋅⋅⋅⋅⋅⋅⋅⋅⋅⋅⋅⋅⋅⋅⋅⋅⋅⋅⋅⋅ 0                 nnzh: (  0.00% sparsity)   3     \n",
       "           fixed: ⋅⋅⋅⋅⋅⋅⋅⋅⋅⋅⋅⋅⋅⋅⋅⋅⋅⋅⋅⋅ 0                fixed: ⋅⋅⋅⋅⋅⋅⋅⋅⋅⋅⋅⋅⋅⋅⋅⋅⋅⋅⋅⋅ 0     \n",
       "          infeas: ⋅⋅⋅⋅⋅⋅⋅⋅⋅⋅⋅⋅⋅⋅⋅⋅⋅⋅⋅⋅ 0               infeas: ⋅⋅⋅⋅⋅⋅⋅⋅⋅⋅⋅⋅⋅⋅⋅⋅⋅⋅⋅⋅ 0     \n",
       "            nnzh: (  0.00% sparsity)   3               linear: ⋅⋅⋅⋅⋅⋅⋅⋅⋅⋅⋅⋅⋅⋅⋅⋅⋅⋅⋅⋅ 0     \n",
       "                                                    nonlinear: ⋅⋅⋅⋅⋅⋅⋅⋅⋅⋅⋅⋅⋅⋅⋅⋅⋅⋅⋅⋅ 0     \n",
       "                                                         nnzj: (------% sparsity)         \n",
       "\n",
       "  Counters:\n",
       "             obj: ⋅⋅⋅⋅⋅⋅⋅⋅⋅⋅⋅⋅⋅⋅⋅⋅⋅⋅⋅⋅ 0                 grad: ⋅⋅⋅⋅⋅⋅⋅⋅⋅⋅⋅⋅⋅⋅⋅⋅⋅⋅⋅⋅ 0                 cons: ⋅⋅⋅⋅⋅⋅⋅⋅⋅⋅⋅⋅⋅⋅⋅⋅⋅⋅⋅⋅ 0     \n",
       "        cons_lin: ⋅⋅⋅⋅⋅⋅⋅⋅⋅⋅⋅⋅⋅⋅⋅⋅⋅⋅⋅⋅ 0             cons_nln: ⋅⋅⋅⋅⋅⋅⋅⋅⋅⋅⋅⋅⋅⋅⋅⋅⋅⋅⋅⋅ 0                 jcon: ⋅⋅⋅⋅⋅⋅⋅⋅⋅⋅⋅⋅⋅⋅⋅⋅⋅⋅⋅⋅ 0     \n",
       "           jgrad: ⋅⋅⋅⋅⋅⋅⋅⋅⋅⋅⋅⋅⋅⋅⋅⋅⋅⋅⋅⋅ 0                  jac: ⋅⋅⋅⋅⋅⋅⋅⋅⋅⋅⋅⋅⋅⋅⋅⋅⋅⋅⋅⋅ 0              jac_lin: ⋅⋅⋅⋅⋅⋅⋅⋅⋅⋅⋅⋅⋅⋅⋅⋅⋅⋅⋅⋅ 0     \n",
       "         jac_nln: ⋅⋅⋅⋅⋅⋅⋅⋅⋅⋅⋅⋅⋅⋅⋅⋅⋅⋅⋅⋅ 0                jprod: ⋅⋅⋅⋅⋅⋅⋅⋅⋅⋅⋅⋅⋅⋅⋅⋅⋅⋅⋅⋅ 0            jprod_lin: ⋅⋅⋅⋅⋅⋅⋅⋅⋅⋅⋅⋅⋅⋅⋅⋅⋅⋅⋅⋅ 0     \n",
       "       jprod_nln: ⋅⋅⋅⋅⋅⋅⋅⋅⋅⋅⋅⋅⋅⋅⋅⋅⋅⋅⋅⋅ 0               jtprod: ⋅⋅⋅⋅⋅⋅⋅⋅⋅⋅⋅⋅⋅⋅⋅⋅⋅⋅⋅⋅ 0           jtprod_lin: ⋅⋅⋅⋅⋅⋅⋅⋅⋅⋅⋅⋅⋅⋅⋅⋅⋅⋅⋅⋅ 0     \n",
       "      jtprod_nln: ⋅⋅⋅⋅⋅⋅⋅⋅⋅⋅⋅⋅⋅⋅⋅⋅⋅⋅⋅⋅ 0                 hess: ⋅⋅⋅⋅⋅⋅⋅⋅⋅⋅⋅⋅⋅⋅⋅⋅⋅⋅⋅⋅ 0                hprod: ⋅⋅⋅⋅⋅⋅⋅⋅⋅⋅⋅⋅⋅⋅⋅⋅⋅⋅⋅⋅ 0     \n",
       "           jhess: ⋅⋅⋅⋅⋅⋅⋅⋅⋅⋅⋅⋅⋅⋅⋅⋅⋅⋅⋅⋅ 0               jhprod: ⋅⋅⋅⋅⋅⋅⋅⋅⋅⋅⋅⋅⋅⋅⋅⋅⋅⋅⋅⋅ 0             residual: ⋅⋅⋅⋅⋅⋅⋅⋅⋅⋅⋅⋅⋅⋅⋅⋅⋅⋅⋅⋅ 0     \n",
       "    jac_residual: ⋅⋅⋅⋅⋅⋅⋅⋅⋅⋅⋅⋅⋅⋅⋅⋅⋅⋅⋅⋅ 0       jprod_residual: ⋅⋅⋅⋅⋅⋅⋅⋅⋅⋅⋅⋅⋅⋅⋅⋅⋅⋅⋅⋅ 0      jtprod_residual: ⋅⋅⋅⋅⋅⋅⋅⋅⋅⋅⋅⋅⋅⋅⋅⋅⋅⋅⋅⋅ 0     \n",
       "   hess_residual: ⋅⋅⋅⋅⋅⋅⋅⋅⋅⋅⋅⋅⋅⋅⋅⋅⋅⋅⋅⋅ 0       jhess_residual: ⋅⋅⋅⋅⋅⋅⋅⋅⋅⋅⋅⋅⋅⋅⋅⋅⋅⋅⋅⋅ 0       hprod_residual: ⋅⋅⋅⋅⋅⋅⋅⋅⋅⋅⋅⋅⋅⋅⋅⋅⋅⋅⋅⋅ 0     \n"
      ]
     },
     "metadata": {},
     "output_type": "display_data"
    }
   ],
   "source": [
    "#Test problem:\n",
    "FH(x) = [x[2]+x[1].^2-11, x[1]+x[2].^2-7]\n",
    "x0H = [10., 20.]\n",
    "###########################\n",
    "#Utilise FH et x0H pour créer un ADNLSModel\n",
    "himmelblau_nls = ADNLSModel(FH, x0H, 2)\n",
    "###########################"
   ]
  },
  {
   "cell_type": "markdown",
   "metadata": {},
   "source": [
    "## Exercice 1: Gauss-Newton\n",
    "\n",
    "Dans cet exercice, on complète une implémentation de la méthode Gauss-Newton avec région de confiance (paramétrée par $\\Delta$) discutée en cours.\n",
    "\n",
    "Il faut compléter les morceaux:\n",
    "- utiliser les fonctions des NLSModels pour obtenir F et sa jacobienne (ici on utilise pas la jacobienne mais juste le produit jacobienne-vecteur).\n",
    "Parcourez la documentation de NLPModels pour déterminer la fonction adéquat, indice les fonctions pour les NLSModels indiquent des `nls` au lieu de `nlp` dans la documentation.\n",
    "- Utiliser la fonction `lsmr` du package `Krylov.jl` pour résoudre le système linéaire avec une contrainte de `radius`. Lisez la [documentation de `lsmr`](https://jso.dev/Krylov.jl/stable/solvers/ls/#LSMR)."
   ]
  },
  {
   "cell_type": "code",
   "execution_count": 8,
   "metadata": {},
   "outputs": [
    {
     "data": {
      "text/plain": [
       "gauss_newton (generic function with 1 method)"
      ]
     },
     "metadata": {},
     "output_type": "display_data"
    }
   ],
   "source": [
    "function gauss_newton(nlp      :: AbstractNLSModel, \n",
    "                      x        :: AbstractVector, \n",
    "                      ϵ        :: AbstractFloat;\n",
    "                      η₁       :: AbstractFloat = 1e-3, \n",
    "                      η₂       :: AbstractFloat = 0.66, \n",
    "                      σ₁       :: AbstractFloat = 0.25, \n",
    "                      σ₂       :: AbstractFloat = 2.0,\n",
    "                      max_eval :: Int = 1_000, \n",
    "                      max_time :: AbstractFloat = 60.,\n",
    "                      max_iter :: Int = typemax(Int64)\n",
    "                      )\n",
    "    ######################################################\n",
    "    Fx = residual(nlp, x) # le résidu\n",
    "    Jx = jac_op_residual(nlp, x) # operateur qui représente le jacobien du résidu\n",
    "    ######################################################\n",
    "    normFx = norm(Fx)\n",
    "\n",
    "    Δ = 1.\n",
    "\n",
    "    iter = 0    \n",
    "\n",
    "    el_time = 0.0\n",
    "    tired   = neval_residual(nlp) > max_eval || el_time > max_time\n",
    "    status  = :unknown\n",
    "\n",
    "    start_time = time()\n",
    "    too_small  = false\n",
    "    normdual   = norm(Jx' * Fx)\n",
    "    optimal    = min(normFx, normdual) ≤ ϵ\n",
    "\n",
    "    @info log_header([:iter, :nf, :primal, :status, :nd, :Δ],\n",
    "    [Int, Int, Float64, String, Float64, Float64],\n",
    "    hdr_override=Dict(:nf => \"#F\", :primal => \"‖F(x)‖\", :nd => \"‖d‖\"))\n",
    "\n",
    "    while !(optimal || tired || too_small)\n",
    "\n",
    "        #################################\n",
    "        #Compute a direction satisfying the trust-region constraint\n",
    "        (d, stats)  = lsmr(Jx, -Fx; radius=Δ)\n",
    "        #################################\n",
    "      \n",
    "        too_small = norm(d) < 1e-15\n",
    "        if too_small #the direction is too small\n",
    "            status = :too_small\n",
    "        else\n",
    "            xp      = x + d\n",
    "            ###########################\n",
    "            Fxp     = residual(nlp, xp) # évalue le résidu en xp\n",
    "            ###########################\n",
    "            normFxp = norm(Fxp)\n",
    "\n",
    "            Pred = 0.5 * (normFx^2 - norm(Jx * d + Fx)^2)\n",
    "            Ared = 0.5 * (normFx^2 - normFxp^2)\n",
    "\n",
    "            if Ared/Pred < η₁\n",
    "                Δ = max(1e-8, Δ * σ₁)\n",
    "                status = :reduce_Δ\n",
    "            else #success\n",
    "                x  = xp\n",
    "                ###########################\n",
    "                Jx = jac_residual(nlp, x) # réevalue le jacobien en x\n",
    "                ###########################\n",
    "                Fx = Fxp\n",
    "                normFx = normFxp\n",
    "                status = :success\n",
    "                if Ared/Pred > η₂ && norm(d) >= 0.99 * Δ\n",
    "                    Δ *= σ₂\n",
    "                end\n",
    "            end\n",
    "        end\n",
    "\n",
    "        @info log_row(Any[iter, neval_residual(nlp), normFx, status, norm(d), Δ])\n",
    "\n",
    "        el_time      = time() - start_time\n",
    "        iter   += 1\n",
    "\n",
    "        many_evals   = neval_residual(nlp) > max_eval\n",
    "        iter_limit   = iter > max_iter\n",
    "        tired        = many_evals || el_time > max_time || iter_limit\n",
    "        normdual     = norm(Jx' * Fx)\n",
    "        optimal      = min(normFx, normdual) ≤ ϵ\n",
    "    end\n",
    "\n",
    "    status = if optimal \n",
    "        :first_order\n",
    "    elseif tired\n",
    "        if neval_residual(nlp) > max_eval\n",
    "            :max_eval\n",
    "        elseif el_time > max_time\n",
    "            :max_time\n",
    "        elseif iter > max_iter\n",
    "            :max_iter\n",
    "        else\n",
    "            :unknown_tired\n",
    "        end\n",
    "    elseif too_small\n",
    "        :stalled\n",
    "    else\n",
    "        :unknown\n",
    "    end\n",
    "\n",
    "    return GenericExecutionStats(nlp; status, solution = x,\n",
    "                                 objective = normFx^2 / 2,\n",
    "                                 dual_feas = normdual,\n",
    "                                 iter = iter, \n",
    "                                 elapsed_time = el_time)\n",
    "end"
   ]
  },
  {
   "cell_type": "code",
   "execution_count": 9,
   "metadata": {},
   "outputs": [
    {
     "name": "stderr",
     "output_type": "stream",
     "text": [
      "┌ Info:   iter      #F    ‖F(x)‖           status       ‖d‖         Δ  \n",
      "└ @ Main c:\\Documents\\optimisation\\MTH8408-Hiv24\\lab4\\Lab4-notebook.ipynb:31\n",
      "┌ Info:      0       2   3.8e+02          success   1.0e+00   2.0e+00\n",
      "└ @ Main c:\\Documents\\optimisation\\MTH8408-Hiv24\\lab4\\Lab4-notebook.ipynb:72\n"
     ]
    },
    {
     "name": "stderr",
     "output_type": "stream",
     "text": [
      "┌ Info:      1       3   3.1e+02          success   2.0e+00   4.0e+00\n",
      "└ @ Main c:\\Documents\\optimisation\\MTH8408-Hiv24\\lab4\\Lab4-notebook.ipynb:72\n",
      "┌ Info:      2       4   1.9e+02          success   4.0e+00   8.0e+00\n",
      "└ @ Main c:\\Documents\\optimisation\\MTH8408-Hiv24\\lab4\\Lab4-notebook.ipynb:72\n",
      "┌ Info:      3       5   4.5e+01          success   7.7e+00   8.0e+00\n",
      "└ @ Main c:\\Documents\\optimisation\\MTH8408-Hiv24\\lab4\\Lab4-notebook.ipynb:72\n",
      "┌ Info:      4       6   9.5e+00          success   3.4e+00   8.0e+00\n",
      "└ @ Main c:\\Documents\\optimisation\\MTH8408-Hiv24\\lab4\\Lab4-notebook.ipynb:72\n",
      "┌ Info:      5       7   1.6e+00          success   1.3e+00   8.0e+00\n",
      "└ @ Main c:\\Documents\\optimisation\\MTH8408-Hiv24\\lab4\\Lab4-notebook.ipynb:72\n",
      "┌ Info:      6       8   1.2e-01          success   3.5e-01   8.0e+00\n",
      "└ @ Main c:\\Documents\\optimisation\\MTH8408-Hiv24\\lab4\\Lab4-notebook.ipynb:72\n",
      "┌ Info:      7       9   8.8e-04          success   3.0e-02   8.0e+00\n",
      "└ @ Main c:\\Documents\\optimisation\\MTH8408-Hiv24\\lab4\\Lab4-notebook.ipynb:72\n",
      "┌ Info:      8      10   5.3e-08          success   2.3e-04   8.0e+00\n",
      "└ @ Main c:\\Documents\\optimisation\\MTH8408-Hiv24\\lab4\\Lab4-notebook.ipynb:72\n"
     ]
    },
    {
     "data": {
      "text/plain": [
       "\u001b[32m\u001b[1mTest Passed\u001b[22m\u001b[39m"
      ]
     },
     "metadata": {},
     "output_type": "display_data"
    }
   ],
   "source": [
    "stats = gauss_newton(himmelblau_nls, himmelblau_nls.meta.x0, 1e-6)\n",
    "@test stats.status == :first_order"
   ]
  },
  {
   "cell_type": "code",
   "execution_count": 10,
   "metadata": {},
   "outputs": [
    {
     "name": "stderr",
     "output_type": "stream",
     "text": [
      "┌ Info:   iter      #F    ‖F(x)‖           status       ‖d‖         Δ  \n",
      "└ @ Main c:\\Documents\\optimisation\\MTH8408-Hiv24\\lab4\\Lab4-notebook.ipynb:31\n"
     ]
    },
    {
     "name": "stdout",
     "output_type": "stream",
     "text": [
      "  0.918693 seconds (1.02 M allocations: 69.451 MiB, 1.96% gc time, 99.78% compilation time)\n"
     ]
    },
    {
     "name": "stderr",
     "output_type": "stream",
     "text": [
      "┌ Info:      0       2   4.9e+01          success   1.0e+00   2.0e+00\n",
      "└ @ Main c:\\Documents\\optimisation\\MTH8408-Hiv24\\lab4\\Lab4-notebook.ipynb:72\n",
      "┌ Info:      1       3   1.2e+01          success   2.0e+00   4.0e+00\n",
      "└ @ Main c:\\Documents\\optimisation\\MTH8408-Hiv24\\lab4\\Lab4-notebook.ipynb:72\n",
      "┌ Info:      2       4   8.3e+00          success   2.5e+00   4.0e+00\n",
      "└ @ Main c:\\Documents\\optimisation\\MTH8408-Hiv24\\lab4\\Lab4-notebook.ipynb:72\n",
      "┌ Info:      3       5   3.2e-12          success   8.3e-01   4.0e+00\n",
      "└ @ Main c:\\Documents\\optimisation\\MTH8408-Hiv24\\lab4\\Lab4-notebook.ipynb:72\n"
     ]
    },
    {
     "name": "stderr",
     "output_type": "stream",
     "text": [
      "┌ Info:   iter      #F    ‖F(x)‖           status       ‖d‖         Δ  \n",
      "└ @ Main c:\\Documents\\optimisation\\MTH8408-Hiv24\\lab4\\Lab4-notebook.ipynb:31\n"
     ]
    },
    {
     "name": "stdout",
     "output_type": "stream",
     "text": [
      "  1.258939 seconds (1.88 M allocations: 129.253 MiB, 6.63% gc time, 99.86% compilation time)\n"
     ]
    },
    {
     "name": "stderr",
     "output_type": "stream",
     "text": [
      "┌ Info:      0       2   3.0e+00          success   1.0e+00   2.0e+00\n",
      "└ @ Main c:\\Documents\\optimisation\\MTH8408-Hiv24\\lab4\\Lab4-notebook.ipynb:72\n",
      "┌ Info:      1       3   1.0e+00          success   2.0e+00   4.0e+00\n",
      "└ @ Main c:\\Documents\\optimisation\\MTH8408-Hiv24\\lab4\\Lab4-notebook.ipynb:72\n",
      "┌ Info:      2       4   0.0e+00          success   1.0e+00   4.0e+00\n",
      "└ @ Main c:\\Documents\\optimisation\\MTH8408-Hiv24\\lab4\\Lab4-notebook.ipynb:72\n"
     ]
    },
    {
     "name": "stderr",
     "output_type": "stream",
     "text": [
      "┌ Info:   iter      #F    ‖F(x)‖           status       ‖d‖         Δ  \n",
      "└ @ Main c:\\Documents\\optimisation\\MTH8408-Hiv24\\lab4\\Lab4-notebook.ipynb:31\n",
      "┌ Info:      0       2   7.6e+00          success   1.0e+00   2.0e+00\n",
      "└ @ Main c:\\Documents\\optimisation\\MTH8408-Hiv24\\lab4\\Lab4-notebook.ipynb:72\n",
      "┌ Info:      1       3   9.6e-01          success   1.1e+00   2.0e+00\n",
      "└ @ Main c:\\Documents\\optimisation\\MTH8408-Hiv24\\lab4\\Lab4-notebook.ipynb:72\n",
      "┌ Info:      2       4   4.6e-02          success   2.1e-01   2.0e+00\n",
      "└ @ Main c:\\Documents\\optimisation\\MTH8408-Hiv24\\lab4\\Lab4-notebook.ipynb:72\n",
      "┌ Info:      3       5   1.4e-04          success   1.2e-02   2.0e+00\n",
      "└ @ Main c:\\Documents\\optimisation\\MTH8408-Hiv24\\lab4\\Lab4-notebook.ipynb:72\n",
      "┌ Info:      4       6   1.4e-09          success   3.8e-05   2.0e+00\n",
      "└ @ Main c:\\Documents\\optimisation\\MTH8408-Hiv24\\lab4\\Lab4-notebook.ipynb:72\n"
     ]
    },
    {
     "name": "stdout",
     "output_type": "stream",
     "text": [
      "  0.694434 seconds (971.76 k allocations: 66.551 MiB, 2.57% gc time, 99.79% compilation time)\n"
     ]
    },
    {
     "name": "stderr",
     "output_type": "stream",
     "text": [
      "┌ Info:   iter      #F    ‖F(x)‖           status       ‖d‖         Δ  \n",
      "└ @ Main c:\\Documents\\optimisation\\MTH8408-Hiv24\\lab4\\Lab4-notebook.ipynb:31\n"
     ]
    },
    {
     "name": "stderr",
     "output_type": "stream",
     "text": [
      "┌ Info:      0       2   2.9e+02          success   1.0e+00   2.0e+00\n",
      "└ @ Main c:\\Documents\\optimisation\\MTH8408-Hiv24\\lab4\\Lab4-notebook.ipynb:72\n",
      "┌ Info:      1       3   1.8e+02          success   2.0e+00   4.0e+00\n",
      "└ @ Main c:\\Documents\\optimisation\\MTH8408-Hiv24\\lab4\\Lab4-notebook.ipynb:72\n",
      "┌ Info:      2       4   4.2e+01          success   4.0e+00   8.0e+00\n",
      "└ @ Main c:\\Documents\\optimisation\\MTH8408-Hiv24\\lab4\\Lab4-notebook.ipynb:72\n",
      "┌ Info:      3       5   1.3e+01          success   3.1e+00   8.0e+00\n",
      "└ @ Main c:\\Documents\\optimisation\\MTH8408-Hiv24\\lab4\\Lab4-notebook.ipynb:72\n",
      "┌ Info:      4       6   1.1e+00          success   1.2e+00   8.0e+00\n",
      "└ @ Main c:\\Documents\\optimisation\\MTH8408-Hiv24\\lab4\\Lab4-notebook.ipynb:72\n",
      "┌ Info:      5       7   3.4e-02          success   9.8e-02   8.0e+00\n",
      "└ @ Main c:\\Documents\\optimisation\\MTH8408-Hiv24\\lab4\\Lab4-notebook.ipynb:72\n",
      "┌ Info:      6       8   3.9e-05          success   3.0e-03   8.0e+00\n",
      "└ @ Main c:\\Documents\\optimisation\\MTH8408-Hiv24\\lab4\\Lab4-notebook.ipynb:72\n",
      "┌ Info:      7       9   5.2e-11          success   3.2e-06   8.0e+00\n",
      "└ @ Main c:\\Documents\\optimisation\\MTH8408-Hiv24\\lab4\\Lab4-notebook.ipynb:72\n"
     ]
    },
    {
     "name": "stdout",
     "output_type": "stream",
     "text": [
      "  1.468938 seconds (2.50 M allocations: 171.634 MiB, 4.02% gc time, 99.83% compilation time)\n",
      "\u001b[0m\u001b[1mTest Summary:             | \u001b[22m\u001b[32m\u001b[1mPass  \u001b[22m\u001b[39m\u001b[36m\u001b[1mTotal  \u001b[22m\u001b[39m\u001b[0m\u001b[1mTime\u001b[22m\n",
      "Test set for Gauss-Newton | \u001b[32m   4  \u001b[39m\u001b[36m    4  \u001b[39m\u001b[0m8.9s\n"
     ]
    },
    {
     "data": {
      "text/plain": [
       "Test.DefaultTestSet(\"Test set for Gauss-Newton\", Any[], 4, false, false, true, 1.708372230984e9, 1.708372239879e9, false, \"c:\\\\Documents\\\\optimisation\\\\MTH8408-Hiv24\\\\lab4\\\\test1.jl\")"
      ]
     },
     "metadata": {},
     "output_type": "display_data"
    }
   ],
   "source": [
    "include(\"test1.jl\")"
   ]
  },
  {
   "cell_type": "markdown",
   "metadata": {},
   "source": [
    "## Exercice 2: Méthode Levenberg-Marquard inexacte\n",
    "\n",
    "Dans cet exercice, on complète une implémentation de la méthode Levenberg-Marquardt. Pour compléter le code `lm_param` on va utiliser les fonctions suivantes:\n",
    "- `dsol` qui calcul la solution du système \n",
    "$\\min_x \\frac{1}{2}\\|J(x) d + F(x)\\| + \\lambda \\|x\\|^2$\n",
    "avec la fonction `lsqr` du package `Krylov.jl`.\n",
    "- `multi_sol` qui pour un entier nl donné et un $\\mu$ va résoudre le problème de dsol pour nl valeurs de $\\lambda$ (autour de la valeur $\\mu$). Par exemple, pour $\\mu=10^{-6}$ et $nl=3$, on prendra $\\lambda=10^{-7}, 10^{-6},10^{-5}$.\n",
    "Parmis les `nl` directions calculées, on retourne celle qui donne la plus petite valeur de $\\|F(x+d)\\|^2$."
   ]
  },
  {
   "cell_type": "code",
   "execution_count": null,
   "metadata": {},
   "outputs": [],
   "source": [
    "function dsol(Fx, Jx, λ, τ)\n",
    "    # TODO.\n",
    "    return d\n",
    "end"
   ]
  },
  {
   "cell_type": "code",
   "execution_count": null,
   "metadata": {},
   "outputs": [],
   "source": [
    "function multi_sol(nlp, x, Fx, Jx, λ, τ; nl = 3)\n",
    "    # TODO\n",
    "    return d\n",
    "end"
   ]
  },
  {
   "cell_type": "code",
   "execution_count": null,
   "metadata": {},
   "outputs": [],
   "source": [
    "function lm_param(nlp      :: AbstractNLSModel, \n",
    "                  x        :: AbstractVector, \n",
    "                  ϵ        :: AbstractFloat;\n",
    "                  η₁       :: AbstractFloat = 1e-3, \n",
    "                  η₂       :: AbstractFloat = 0.66, \n",
    "                  σ₁       :: AbstractFloat = 10.0, \n",
    "                  σ₂       :: AbstractFloat = 0.5,\n",
    "                  max_eval :: Int = 10_000, \n",
    "                  max_time :: AbstractFloat = 60.,\n",
    "                  max_iter :: Int = typemax(Int64)\n",
    "                  )\n",
    "    ######################################################\n",
    "    Fx = # le résidu\n",
    "    Jx = # operateur qui représente le jacobien du résidu\n",
    "    ######################################################\n",
    "    normFx   = norm(Fx)\n",
    "    normdual = norm(Jx' * Fx)\n",
    "\n",
    "    iter = 0    \n",
    "    λ = 0.0\n",
    "    λ₀ = 1e-6\n",
    "    η = 0.5\n",
    "    τ = η * normdual\n",
    "\n",
    "    el_time = 0.0\n",
    "    tired   = neval_residual(nlp) > max_eval || el_time > max_time\n",
    "    status  = :unknown\n",
    "\n",
    "    start_time = time()\n",
    "    too_small  = false\n",
    "    optimal    = min(normFx, normdual) ≤ ϵ\n",
    "\n",
    "    @info log_header([:iter, :nf, :primal, :status, :nd, :λ],\n",
    "    [Int, Int, Float64, String, Float64, Float64],\n",
    "    hdr_override=Dict(:nf => \"#F\", :primal => \"‖F(x)‖\", :nd => \"‖d‖\"))\n",
    "\n",
    "    while !(optimal || tired || too_small)\n",
    "\n",
    "        ###########################\n",
    "        # (d, stats)  = lsqr(Jx, -Fx, λ = λ, atol = τ)\n",
    "        d = multi_sol(nlp, x, Fx, Jx, λ, τ)\n",
    "        ###########################\n",
    "        \n",
    "        too_small = norm(d) < 1e-16\n",
    "        if too_small #the direction is too small\n",
    "            status = :too_small\n",
    "        else\n",
    "            xp      = x + d\n",
    "            ###########################\n",
    "            Fxp     = # évalue le résidu en xp\n",
    "            ###########################\n",
    "            normFxp = norm(Fxp)\n",
    "\n",
    "            Pred = 0.5 * (normFx^2 - norm(Jx * d + Fx)^2 - λ*norm(d)^2)\n",
    "            Ared = 0.5 * (normFx^2 - normFxp^2)\n",
    "\n",
    "            if Ared/Pred < η₁\n",
    "                λ = max(λ₀, σ₁ * λ)\n",
    "                status = :increase_λ\n",
    "            else #success\n",
    "                x  = xp\n",
    "                ###########################\n",
    "                Jx = # réevalue le jacobien en x\n",
    "                ###########################\n",
    "                Fx = Fxp\n",
    "                normFx = normFxp\n",
    "                status = :success\n",
    "                if Ared/Pred > η₂\n",
    "                    λ = max(λ * σ₂, λ₀)\n",
    "                end\n",
    "            end\n",
    "        end\n",
    "\n",
    "        @info log_row(Any[iter, neval_residual(nlp), normFx, status, norm(d), λ])\n",
    "\n",
    "        el_time      = time() - start_time\n",
    "        iter        += 1\n",
    "        many_evals   = neval_residual(nlp) > max_eval\n",
    "        iter_limit   = iter > max_iter\n",
    "        tired        = many_evals || el_time > max_time || iter_limit\n",
    "        normdual     = norm(Jx' * Fx)\n",
    "        optimal      = min(normFx, normdual) ≤ ϵ\n",
    "\n",
    "        η = λ == 0.0 ? min(0.5, 1/iter, normdual) : min(0.5, 1/iter)\n",
    "        τ = η * normdual\n",
    "    end\n",
    "\n",
    "    status = if optimal \n",
    "        :first_order\n",
    "    elseif tired\n",
    "        if neval_residual(nlp) > max_eval\n",
    "            :max_eval\n",
    "        elseif el_time > max_time\n",
    "            :max_time\n",
    "        elseif iter > max_iter\n",
    "            :max_iter\n",
    "        else\n",
    "            :unknown_tired\n",
    "        end\n",
    "    elseif too_small\n",
    "        :stalled\n",
    "    else\n",
    "        :unknown\n",
    "    end\n",
    "\n",
    "    return GenericExecutionStats(status, nlp, solution = x,\n",
    "                                 objective = normFx^2 / 2,\n",
    "                                 dual_feas = normdual,\n",
    "                                 iter = iter, \n",
    "                                 elapsed_time = el_time)\n",
    "end"
   ]
  },
  {
   "cell_type": "code",
   "execution_count": null,
   "metadata": {},
   "outputs": [],
   "source": [
    "stats = lm_param(himmelblau_nls, himmelblau_nls.meta.x0, 1e-6)\n",
    "@test stats.status == :first_order"
   ]
  },
  {
   "cell_type": "markdown",
   "metadata": {},
   "source": [
    "## Exercice 3: Rocket Control"
   ]
  },
  {
   "cell_type": "markdown",
   "metadata": {},
   "source": [
    "Dans les cellules ci-dessous nous introduisons un modèle de contrôle optimal (cf. https://en.wikipedia.org/wiki/Optimal_control ) pour le contrôle d'une fusée dont une version discrétisée a été modélisé avec JuMP:\n",
    "\n",
    "Le lien vers le tutoriel:\n",
    "https://nbviewer.jupyter.org/github/jump-dev/JuMPTutorials.jl/blob/master/notebook/modelling/rocket_control.ipynb"
   ]
  },
  {
   "cell_type": "code",
   "execution_count": 16,
   "metadata": {},
   "outputs": [],
   "source": [
    "using JuMP, Ipopt\n",
    "\n",
    "# Create JuMP model, using Ipopt as the solver\n",
    "rocket = Model(optimizer_with_attributes(Ipopt.Optimizer, \"print_level\" => 0))\n",
    "\n",
    "# Constants\n",
    "# Note that all parameters in the model have been normalized\n",
    "# to be dimensionless. See the COPS3 paper for more info.\n",
    "h_0 = 1    # Initial height\n",
    "v_0 = 0    # Initial velocity\n",
    "m_0 = 1    # Initial mass\n",
    "g_0 = 1    # Gravity at the surface\n",
    "\n",
    "T_c = 3.5  # Used for thrust\n",
    "h_c = 500  # Used for drag\n",
    "v_c = 620  # Used for drag\n",
    "m_c = 0.6  # Fraction of initial mass left at end\n",
    "\n",
    "c     = 0.5 * sqrt(g_0 * h_0)  # Thrust-to-fuel mass\n",
    "m_f   = m_c * m_0            # Final mass\n",
    "D_c   = 0.5 * v_c * m_0 / g_0    # Drag scaling\n",
    "T_max = T_c * g_0 * m_0        # Maximum thrust\n",
    "\n",
    "n = 800   # Time steps\n",
    "\n",
    "@variables(rocket, begin\n",
    "    Δt ≥ 0, (start = 1/n) # Time step\n",
    "    # State variables\n",
    "    v[1:n] ≥ 0            # Velocity\n",
    "    h[1:n] ≥ h_0          # Height\n",
    "    m_f ≤ m[1:n] ≤ m_0    # Mass\n",
    "    # Control\n",
    "    0 ≤ T[1:n] ≤ T_max    # Thrust\n",
    "end)\n",
    "\n",
    "# Objective: maximize altitude at end of time of flight\n",
    "@objective(rocket, Max, h[n])\n",
    "\n",
    "# Initial conditions\n",
    "@constraints(rocket, begin\n",
    "    v[1] == v_0\n",
    "    h[1] == h_0\n",
    "    m[1] == m_0\n",
    "    m[n] == m_f\n",
    "end)\n",
    "\n",
    "# Forces\n",
    "# Drag(h,v) = Dc v^2 exp( -hc * (h - h0) / h0 )\n",
    "@NLexpression(rocket, drag[j = 1:n], D_c * (v[j]^2) * exp(-h_c * (h[j] - h_0) / h_0))\n",
    "# Grav(h)   = go * (h0 / h)^2\n",
    "@NLexpression(rocket, grav[j = 1:n], g_0 * (h_0 / h[j])^2)\n",
    "# Time of flight\n",
    "@NLexpression(rocket, t_f, Δt * n)\n",
    "\n",
    "# Dynamics\n",
    "for j in 2:n\n",
    "    # h' = v\n",
    "    \n",
    "    # Rectangular integration\n",
    "    # @NLconstraint(rocket, h[j] == h[j - 1] + Δt * v[j - 1])\n",
    "    \n",
    "    # Trapezoidal integration\n",
    "    @NLconstraint(rocket,\n",
    "        h[j] == h[j - 1] + 0.5 * Δt * (v[j] + v[j - 1]))\n",
    "\n",
    "    # v' = (T-D(h,v))/m - g(h)\n",
    "    \n",
    "    # Rectangular integration\n",
    "    # @NLconstraint(rocket, v[j] == v[j - 1] + Δt *(\n",
    "    #                 (T[j - 1] - drag[j - 1]) / m[j - 1] - grav[j - 1]))\n",
    "    \n",
    "    # Trapezoidal integration\n",
    "    @NLconstraint(rocket,\n",
    "        v[j] == v[j-1] + 0.5 * Δt * (\n",
    "            (T[j] - drag[j] - m[j] * grav[j]) / m[j] +\n",
    "            (T[j - 1] - drag[j - 1] - m[j - 1] * grav[j - 1]) / m[j - 1]))\n",
    "\n",
    "    # m' = -T/c\n",
    "\n",
    "    # Rectangular integration\n",
    "    # @NLconstraint(rocket, m[j] == m[j - 1] - Δt * T[j - 1] / c)\n",
    "    \n",
    "    # Trapezoidal integration\n",
    "    @NLconstraint(rocket,\n",
    "        m[j] == m[j - 1] - 0.5 * Δt * (T[j] + T[j-1]) / c)\n",
    "end"
   ]
  },
  {
   "cell_type": "code",
   "execution_count": 17,
   "metadata": {},
   "outputs": [
    {
     "name": "stdout",
     "output_type": "stream",
     "text": [
      "Solving..."
     ]
    },
    {
     "name": "stdout",
     "output_type": "stream",
     "text": [
      "\n",
      "\n",
      "******************************************************************************\n",
      "This program contains Ipopt, a library for large-scale nonlinear optimization.\n",
      " Ipopt is released as open source code under the Eclipse Public License (EPL).\n",
      "         For more information visit https://github.com/coin-or/Ipopt\n",
      "******************************************************************************\n",
      "\n",
      "Max height: 1.0128340648308065\n"
     ]
    }
   ],
   "source": [
    "# Solve for the control and state\n",
    "println(\"Solving...\")\n",
    "status = optimize!(rocket)\n",
    "\n",
    "# Display results\n",
    "# println(\"Solver status: \", status)\n",
    "println(\"Max height: \", objective_value(rocket))"
   ]
  },
  {
   "cell_type": "code",
   "execution_count": 18,
   "metadata": {},
   "outputs": [
    {
     "data": {
      "text/plain": [
       "1.0128340648308065"
      ]
     },
     "metadata": {},
     "output_type": "display_data"
    }
   ],
   "source": [
    "value.(h)[n]"
   ]
  },
  {
   "cell_type": "code",
   "execution_count": 19,
   "metadata": {},
   "outputs": [],
   "source": [
    "# Can visualize the state and control variables\n",
    "using Gadfly"
   ]
  },
  {
   "cell_type": "code",
   "execution_count": 20,
   "metadata": {},
   "outputs": [
    {
     "data": {
      "image/svg+xml": [
       "<?xml version=\"1.0\" encoding=\"UTF-8\"?>\n",
       "<svg xmlns=\"http://www.w3.org/2000/svg\"\n",
       "     xmlns:xlink=\"http://www.w3.org/1999/xlink\"\n",
       "     xmlns:gadfly=\"http://www.gadflyjl.org/ns\"\n",
       "     version=\"1.2\"\n",
       "     width=\"152.4mm\" height=\"152.4mm\" viewBox=\"0 0 152.4 152.4\"\n",
       "     stroke=\"none\"\n",
       "     fill=\"#000000\"\n",
       "     stroke-width=\"0.3\"\n",
       "     font-size=\"3.88\"\n",
       ">\n",
       "<defs>\n",
       "  <marker id=\"arrow\" markerWidth=\"15\" markerHeight=\"7\" refX=\"5\" refY=\"3.5\" orient=\"auto\" markerUnits=\"strokeWidth\">\n",
       "    <path d=\"M0,0 L15,3.5 L0,7 z\" stroke=\"context-stroke\" fill=\"context-stroke\"/>\n",
       "  </marker>\n",
       "</defs>\n",
       "<g class=\"plotroot xscalable yscalable\" id=\"img-227a216c-1\">\n",
       "  <g font-size=\"3.88\" font-family=\"'PT Sans','Helvetica Neue','Helvetica',sans-serif\" fill=\"#564A55\" stroke=\"#000000\" stroke-opacity=\"0.000\" id=\"img-227a216c-2\">\n",
       "    <g transform=\"translate(119.94,140.79)\">\n",
       "      <g class=\"primitive\">\n",
       "        <text text-anchor=\"middle\" dy=\"0.6em\">Time (s)</text>\n",
       "      </g>\n",
       "    </g>\n",
       "  </g>\n",
       "  <g class=\"guide xlabels\" font-size=\"2.82\" font-family=\"'PT Sans Caption','Helvetica Neue','Helvetica',sans-serif\" fill=\"#6C606B\" id=\"img-227a216c-3\">\n",
       "    <g transform=\"translate(94.48,134.11)\">\n",
       "      <g class=\"primitive\">\n",
       "        <text text-anchor=\"middle\" dy=\"0.6em\">0.00</text>\n",
       "      </g>\n",
       "    </g>\n",
       "    <g transform=\"translate(107.21,134.11)\">\n",
       "      <g class=\"primitive\">\n",
       "        <text text-anchor=\"middle\" dy=\"0.6em\">0.05</text>\n",
       "      </g>\n",
       "    </g>\n",
       "    <g transform=\"translate(119.94,134.11)\">\n",
       "      <g class=\"primitive\">\n",
       "        <text text-anchor=\"middle\" dy=\"0.6em\">0.10</text>\n",
       "      </g>\n",
       "    </g>\n",
       "    <g transform=\"translate(132.67,134.11)\">\n",
       "      <g class=\"primitive\">\n",
       "        <text text-anchor=\"middle\" dy=\"0.6em\">0.15</text>\n",
       "      </g>\n",
       "    </g>\n",
       "    <g transform=\"translate(145.4,134.11)\">\n",
       "      <g class=\"primitive\">\n",
       "        <text text-anchor=\"middle\" dy=\"0.6em\">0.20</text>\n",
       "      </g>\n",
       "    </g>\n",
       "  </g>\n",
       "  <g clip-path=\"url(#img-227a216c-4)\">\n",
       "    <g id=\"img-227a216c-5\">\n",
       "      <g pointer-events=\"visible\" stroke-width=\"0.3\" fill=\"#000000\" fill-opacity=\"0.000\" stroke=\"#000000\" stroke-opacity=\"0.000\" class=\"guide background\" id=\"img-227a216c-6\">\n",
       "        <g transform=\"translate(119.94,107.16)\" id=\"img-227a216c-7\">\n",
       "          <path d=\"M-27.46,-25.96 L27.46,-25.96 27.46,25.96 -27.46,25.96  z\" class=\"primitive\"/>\n",
       "        </g>\n",
       "      </g>\n",
       "      <g class=\"guide ygridlines xfixed\" stroke-dasharray=\"0.5,0.5\" stroke-width=\"0.2\" stroke=\"#D0D0E0\" id=\"img-227a216c-8\">\n",
       "        <g transform=\"translate(119.94,131.11)\" id=\"img-227a216c-9\">\n",
       "          <path fill=\"none\" d=\"M-27.46,0 L27.46,0 \" class=\"primitive\"/>\n",
       "        </g>\n",
       "        <g transform=\"translate(119.94,119.14)\" id=\"img-227a216c-10\">\n",
       "          <path fill=\"none\" d=\"M-27.46,0 L27.46,0 \" class=\"primitive\"/>\n",
       "        </g>\n",
       "        <g transform=\"translate(119.94,107.16)\" id=\"img-227a216c-11\">\n",
       "          <path fill=\"none\" d=\"M-27.46,0 L27.46,0 \" class=\"primitive\"/>\n",
       "        </g>\n",
       "        <g transform=\"translate(119.94,95.18)\" id=\"img-227a216c-12\">\n",
       "          <path fill=\"none\" d=\"M-27.46,0 L27.46,0 \" class=\"primitive\"/>\n",
       "        </g>\n",
       "        <g transform=\"translate(119.94,83.2)\" id=\"img-227a216c-13\">\n",
       "          <path fill=\"none\" d=\"M-27.46,0 L27.46,0 \" class=\"primitive\"/>\n",
       "        </g>\n",
       "      </g>\n",
       "      <g class=\"guide xgridlines yfixed\" stroke-dasharray=\"0.5,0.5\" stroke-width=\"0.2\" stroke=\"#D0D0E0\" id=\"img-227a216c-14\">\n",
       "        <g transform=\"translate(94.48,107.16)\" id=\"img-227a216c-15\">\n",
       "          <path fill=\"none\" d=\"M0,-25.96 L0,25.96 \" class=\"primitive\"/>\n",
       "        </g>\n",
       "        <g transform=\"translate(107.21,107.16)\" id=\"img-227a216c-16\">\n",
       "          <path fill=\"none\" d=\"M0,-25.96 L0,25.96 \" class=\"primitive\"/>\n",
       "        </g>\n",
       "        <g transform=\"translate(119.94,107.16)\" id=\"img-227a216c-17\">\n",
       "          <path fill=\"none\" d=\"M0,-25.96 L0,25.96 \" class=\"primitive\"/>\n",
       "        </g>\n",
       "        <g transform=\"translate(132.67,107.16)\" id=\"img-227a216c-18\">\n",
       "          <path fill=\"none\" d=\"M0,-25.96 L0,25.96 \" class=\"primitive\"/>\n",
       "        </g>\n",
       "        <g transform=\"translate(145.4,107.16)\" id=\"img-227a216c-19\">\n",
       "          <path fill=\"none\" d=\"M0,-25.96 L0,25.96 \" class=\"primitive\"/>\n",
       "        </g>\n",
       "      </g>\n",
       "      <g class=\"plotpanel\" id=\"img-227a216c-20\">\n",
       "        <metadata>\n",
       "          <boundingbox value=\"92.48499999999999mm 81.19999999999999mm 54.91499999999999mm 51.91499999999999mm\"/>\n",
       "          <unitbox value=\"-0.007856230973190615 4.166962329124491 0.21571246194638127 -4.333924658248983\"/>\n",
       "        </metadata>\n",
       "        <g stroke-width=\"0.3\" fill=\"#000000\" fill-opacity=\"0.000\" class=\"geometry\" id=\"img-227a216c-21\">\n",
       "          <g class=\"color_LCHab{Float32}(70.0f0,60.0f0,240.0f0)\" stroke-dasharray=\"none\" stroke-opacity=\"1\" stroke=\"#00BFFF\" id=\"img-227a216c-22\">\n",
       "            <g transform=\"translate(119.85,119.05)\" id=\"img-227a216c-23\">\n",
       "              <path fill=\"none\" d=\"M-25.3,-29.86 L-25.24,-29.86 -25.17,-29.86 -25.11,-29.86 -25.05,-29.86 -24.98,-29.86 -24.92,-29.86 -24.86,-29.86 -24.79,-29.86 -24.73,-29.86 -24.67,-29.86 -24.6,-29.86 -24.54,-29.86 -24.48,-29.86 -24.41,-29.86 -24.35,-29.86 -24.29,-29.86 -24.22,-29.86 -24.16,-29.86 -24.1,-29.86 -24.03,-29.86 -23.97,-29.86 -23.91,-29.86 -23.84,-29.86 -23.78,-29.86 -23.72,-29.86 -23.65,-29.86 -23.59,-29.86 -23.53,-29.86 -23.46,-29.86 -23.4,-29.86 -23.34,-29.86 -23.27,-29.85 -23.21,-29.85 -23.15,-29.85 -23.08,-29.85 -23.02,-29.85 -22.96,-29.85 -22.89,-29.85 -22.83,-29.85 -22.77,-29.85 -22.7,-29.85 -22.64,-29.85 -22.58,-29.85 -22.51,-29.85 -22.45,-29.85 -22.39,-29.85 -22.32,-29.85 -22.26,-29.85 -22.2,-29.85 -22.13,-29.85 -22.07,-29.85 -22.01,-29.85 -21.94,-29.85 -21.88,-29.85 -21.82,-29.85 -21.75,-29.84 -21.69,-29.84 -21.63,-29.84 -21.56,-29.84 -21.5,-29.84 -21.44,-29.84 -21.37,-29.84 -21.31,-29.84 -21.25,-29.84 -21.18,-29.83 -21.12,-29.83 -21.06,-29.83 -20.99,-29.83 -20.93,-29.82 -20.87,-29.82 -20.8,-29.82 -20.74,-29.81 -20.68,-29.81 -20.61,-29.8 -20.55,-29.8 -20.49,-29.79 -20.42,-29.78 -20.36,-29.77 -20.3,-29.76 -20.23,-29.75 -20.17,-29.73 -20.11,-29.71 -20.04,-29.69 -19.98,-29.66 -19.92,-29.61 -19.85,-29.56 -19.79,-29.48 -19.73,-29.37 -19.66,-29.22 -19.6,-28.98 -19.54,-28.59 -19.47,-27.94 -19.41,-26.77 -19.35,-24.68 -19.28,-21.39 -19.22,-17.75 -19.16,-15.32 -19.09,-14.21 -19.03,-13.79 -18.97,-13.64 -18.9,-13.59 -18.84,-13.58 -18.78,-13.57 -18.71,-13.58 -18.65,-13.58 -18.59,-13.59 -18.52,-13.59 -18.46,-13.6 -18.4,-13.61 -18.33,-13.61 -18.27,-13.62 -18.21,-13.63 -18.14,-13.63 -18.08,-13.64 -18.02,-13.65 -17.95,-13.66 -17.89,-13.67 -17.83,-13.68 -17.76,-13.69 -17.7,-13.69 -17.64,-13.7 -17.57,-13.71 -17.51,-13.72 -17.45,-13.74 -17.38,-13.75 -17.32,-13.76 -17.26,-13.77 -17.19,-13.78 -17.13,-13.79 -17.07,-13.81 -17,-13.82 -16.94,-13.83 -16.88,-13.84 -16.81,-13.86 -16.75,-13.87 -16.69,-13.89 -16.62,-13.9 -16.56,-13.92 -16.5,-13.93 -16.43,-13.95 -16.37,-13.96 -16.31,-13.98 -16.24,-14 -16.18,-14.01 -16.12,-14.03 -16.05,-14.05 -15.99,-14.07 -15.93,-14.09 -15.86,-14.11 -15.8,-14.12 -15.74,-14.14 -15.67,-14.16 -15.61,-14.18 -15.55,-14.21 -15.48,-14.23 -15.42,-14.25 -15.36,-14.27 -15.29,-14.29 -15.23,-14.32 -15.17,-14.34 -15.1,-14.36 -15.04,-14.39 -14.98,-14.41 -14.91,-14.44 -14.85,-14.46 -14.79,-14.49 -14.72,-14.52 -14.66,-14.54 -14.6,-14.57 -14.53,-14.6 -14.47,-14.63 -14.41,-14.66 -14.34,-14.69 -14.28,-14.72 -14.22,-14.75 -14.15,-14.78 -14.09,-14.81 -14.03,-14.84 -13.96,-14.88 -13.9,-14.91 -13.84,-14.94 -13.77,-14.98 -13.71,-15.01 -13.65,-15.05 -13.58,-15.09 -13.52,-15.12 -13.46,-15.16 -13.39,-15.2 -13.33,-15.24 -13.27,-15.27 -13.2,-15.31 -13.14,-15.36 -13.08,-15.4 -13.01,-15.44 -12.95,-15.48 -12.89,-15.52 -12.82,-15.57 -12.76,-15.61 -12.7,-15.66 -12.63,-15.7 -12.57,-15.75 -12.51,-15.8 -12.44,-15.85 -12.38,-15.89 -12.32,-15.94 -12.25,-15.99 -12.19,-16.05 -12.13,-16.1 -12.06,-16.15 -12,-16.2 -11.94,-16.26 -11.87,-16.31 -11.81,-16.37 -11.75,-16.43 -11.68,-16.48 -11.62,-16.54 -11.56,-16.6 -11.49,-16.66 -11.43,-16.72 -11.37,-16.79 -11.3,-16.85 -11.24,-16.91 -11.18,-16.98 -11.11,-17.04 -11.05,-17.11 -10.99,-17.18 -10.92,-17.25 -10.86,-17.32 -10.8,-17.39 -10.73,-17.46 -10.67,-17.54 -10.61,-17.61 -10.54,-17.69 -10.48,-17.76 -10.42,-17.84 -10.35,-17.92 -10.29,-18 -10.23,-18.08 -10.16,-18.17 -10.1,-18.25 -10.04,-18.33 -9.97,-18.42 -9.91,-18.51 -9.85,-18.6 -9.78,-18.69 -9.72,-18.78 -9.66,-18.87 -9.59,-18.97 -9.53,-19.06 -9.47,-19.16 -9.4,-19.26 -9.34,-19.36 -9.28,-19.46 -9.21,-19.57 -9.15,-19.67 -9.09,-19.78 -9.02,-19.89 -8.96,-20 -8.9,-20.11 -8.83,-20.22 -8.77,-20.34 -8.71,-20.45 -8.64,-20.57 -8.58,-20.69 -8.52,-20.82 -8.45,-20.94 -8.39,-21.06 -8.33,-21.19 -8.26,-21.32 -8.2,-21.45 -8.14,-21.58 -8.07,-21.7 -8.01,-21.83 -7.95,-21.96 -7.88,-22.09 -7.82,-22.21 -7.76,-22.33 -7.69,-22.43 -7.63,-22.53 -7.57,-22.62 -7.5,-22.69 -7.44,-22.73 -7.38,-22.74 -7.31,-22.71 -7.25,-22.61 -7.19,-22.43 -7.12,-22.13 -7.06,-21.63 -7,-20.78 -6.93,-19.29 -6.87,-16.33 -6.81,-9.72 -6.74,0.09 -6.68,5.85 -6.62,8.49 -6.55,9.79 -6.49,10.51 -6.43,10.94 -6.36,11.22 -6.3,11.4 -6.24,11.53 -6.17,11.63 -6.11,11.7 -6.05,11.76 -5.98,11.8 -5.92,11.84 -5.86,11.86 -5.79,11.89 -5.73,11.91 -5.67,11.92 -5.6,11.94 -5.54,11.95 -5.48,11.96 -5.41,11.97 -5.35,11.98 -5.29,11.98 -5.22,11.99 -5.16,11.99 -5.1,12 -5.03,12 -4.97,12.01 -4.91,12.01 -4.84,12.01 -4.78,12.02 -4.72,12.02 -4.65,12.02 -4.59,12.02 -4.53,12.03 -4.46,12.03 -4.4,12.03 -4.34,12.03 -4.27,12.03 -4.21,12.03 -4.15,12.04 -4.08,12.04 -4.02,12.04 -3.96,12.04 -3.89,12.04 -3.83,12.04 -3.77,12.04 -3.7,12.04 -3.64,12.04 -3.58,12.04 -3.51,12.04 -3.45,12.04 -3.39,12.05 -3.32,12.05 -3.26,12.05 -3.2,12.05 -3.13,12.05 -3.07,12.05 -3.01,12.05 -2.94,12.05 -2.88,12.05 -2.82,12.05 -2.75,12.05 -2.69,12.05 -2.63,12.05 -2.56,12.05 -2.5,12.05 -2.44,12.05 -2.37,12.05 -2.31,12.05 -2.25,12.05 -2.18,12.05 -2.12,12.05 -2.06,12.05 -1.99,12.05 -1.93,12.05 -1.87,12.05 -1.8,12.05 -1.74,12.05 -1.68,12.05 -1.61,12.06 -1.55,12.06 -1.49,12.06 -1.42,12.06 -1.36,12.06 -1.3,12.06 -1.23,12.06 -1.17,12.06 -1.11,12.06 -1.04,12.06 -0.98,12.06 -0.92,12.06 -0.85,12.06 -0.79,12.06 -0.73,12.06 -0.66,12.06 -0.6,12.06 -0.54,12.06 -0.47,12.06 -0.41,12.06 -0.35,12.06 -0.28,12.06 -0.22,12.06 -0.16,12.06 -0.09,12.06 -0.03,12.06 0.03,12.06 0.09,12.06 0.16,12.06 0.22,12.06 0.28,12.06 0.35,12.06 0.41,12.06 0.47,12.06 0.54,12.06 0.6,12.06 0.66,12.06 0.73,12.06 0.79,12.06 0.85,12.06 0.92,12.06 0.98,12.06 1.04,12.06 1.11,12.06 1.17,12.06 1.23,12.06 1.3,12.06 1.36,12.06 1.42,12.06 1.49,12.06 1.55,12.06 1.61,12.06 1.68,12.06 1.74,12.06 1.8,12.06 1.87,12.06 1.93,12.06 1.99,12.06 2.06,12.06 2.12,12.06 2.18,12.06 2.25,12.06 2.31,12.06 2.37,12.06 2.44,12.06 2.5,12.06 2.56,12.06 2.63,12.06 2.69,12.06 2.75,12.06 2.82,12.06 2.88,12.06 2.94,12.06 3.01,12.06 3.07,12.06 3.13,12.06 3.2,12.06 3.26,12.06 3.32,12.06 3.39,12.06 3.45,12.06 3.51,12.06 3.58,12.06 3.64,12.06 3.7,12.06 3.77,12.06 3.83,12.06 3.89,12.06 3.96,12.06 4.02,12.06 4.08,12.06 4.15,12.06 4.21,12.06 4.27,12.06 4.34,12.06 4.4,12.06 4.46,12.06 4.53,12.06 4.59,12.06 4.65,12.06 4.72,12.06 4.78,12.06 4.84,12.06 4.91,12.06 4.97,12.06 5.03,12.06 5.1,12.06 5.16,12.06 5.22,12.06 5.29,12.06 5.35,12.06 5.41,12.06 5.48,12.06 5.54,12.06 5.6,12.06 5.67,12.06 5.73,12.06 5.79,12.06 5.86,12.06 5.92,12.06 5.98,12.06 6.05,12.06 6.11,12.06 6.17,12.06 6.24,12.06 6.3,12.06 6.36,12.06 6.43,12.06 6.49,12.06 6.55,12.06 6.62,12.06 6.68,12.06 6.74,12.06 6.81,12.06 6.87,12.06 6.93,12.06 7,12.06 7.06,12.06 7.12,12.06 7.19,12.06 7.25,12.06 7.31,12.06 7.38,12.06 7.44,12.06 7.5,12.06 7.57,12.06 7.63,12.06 7.69,12.06 7.76,12.06 7.82,12.06 7.88,12.06 7.95,12.06 8.01,12.06 8.07,12.06 8.14,12.06 8.2,12.06 8.26,12.06 8.33,12.06 8.39,12.06 8.45,12.06 8.52,12.06 8.58,12.06 8.64,12.06 8.71,12.06 8.77,12.06 8.83,12.06 8.9,12.06 8.96,12.06 9.02,12.06 9.09,12.06 9.15,12.06 9.21,12.06 9.28,12.06 9.34,12.06 9.4,12.06 9.47,12.06 9.53,12.06 9.59,12.06 9.66,12.06 9.72,12.06 9.78,12.06 9.85,12.06 9.91,12.06 9.97,12.06 10.04,12.06 10.1,12.06 10.16,12.06 10.23,12.06 10.29,12.06 10.35,12.06 10.42,12.06 10.48,12.06 10.54,12.06 10.61,12.06 10.67,12.06 10.73,12.06 10.8,12.06 10.86,12.06 10.92,12.06 10.99,12.06 11.05,12.06 11.11,12.06 11.18,12.06 11.24,12.06 11.3,12.06 11.37,12.06 11.43,12.06 11.49,12.06 11.56,12.06 11.62,12.06 11.68,12.06 11.75,12.06 11.81,12.06 11.87,12.06 11.94,12.06 12,12.06 12.06,12.06 12.13,12.06 12.19,12.06 12.25,12.06 12.32,12.06 12.38,12.06 12.44,12.06 12.51,12.06 12.57,12.06 12.63,12.06 12.7,12.06 12.76,12.06 12.82,12.06 12.89,12.06 12.95,12.06 13.01,12.06 13.08,12.06 13.14,12.06 13.2,12.06 13.27,12.06 13.33,12.06 13.39,12.06 13.46,12.06 13.52,12.06 13.58,12.06 13.65,12.06 13.71,12.06 13.77,12.06 13.84,12.06 13.9,12.06 13.96,12.06 14.03,12.06 14.09,12.06 14.15,12.06 14.22,12.06 14.28,12.06 14.34,12.06 14.41,12.06 14.47,12.06 14.53,12.06 14.6,12.06 14.66,12.06 14.72,12.06 14.79,12.06 14.85,12.06 14.91,12.06 14.98,12.06 15.04,12.06 15.1,12.06 15.17,12.06 15.23,12.06 15.29,12.06 15.36,12.06 15.42,12.06 15.48,12.06 15.55,12.06 15.61,12.06 15.67,12.06 15.74,12.06 15.8,12.06 15.86,12.06 15.93,12.06 15.99,12.06 16.05,12.06 16.12,12.06 16.18,12.06 16.24,12.06 16.31,12.06 16.37,12.06 16.43,12.06 16.5,12.06 16.56,12.06 16.62,12.06 16.69,12.06 16.75,12.06 16.81,12.06 16.88,12.06 16.94,12.06 17,12.06 17.07,12.06 17.13,12.06 17.19,12.06 17.26,12.06 17.32,12.06 17.38,12.06 17.45,12.06 17.51,12.06 17.57,12.06 17.64,12.06 17.7,12.06 17.76,12.06 17.83,12.06 17.89,12.06 17.95,12.06 18.02,12.06 18.08,12.06 18.14,12.06 18.21,12.06 18.27,12.06 18.33,12.06 18.4,12.06 18.46,12.06 18.52,12.06 18.59,12.06 18.65,12.06 18.71,12.06 18.78,12.06 18.84,12.06 18.9,12.06 18.97,12.06 19.03,12.06 19.09,12.06 19.16,12.06 19.22,12.06 19.28,12.06 19.35,12.06 19.41,12.06 19.47,12.06 19.54,12.06 19.6,12.06 19.66,12.06 19.73,12.06 19.79,12.06 19.85,12.06 19.92,12.06 19.98,12.06 20.04,12.06 20.11,12.06 20.17,12.06 20.23,12.06 20.3,12.06 20.36,12.06 20.42,12.06 20.49,12.06 20.55,12.06 20.61,12.06 20.68,12.06 20.74,12.06 20.8,12.06 20.87,12.06 20.93,12.06 20.99,12.06 21.06,12.06 21.12,12.06 21.18,12.06 21.25,12.06 21.31,12.06 21.37,12.06 21.44,12.06 21.5,12.06 21.56,12.06 21.63,12.06 21.69,12.06 21.75,12.06 21.82,12.06 21.88,12.06 21.94,12.06 22.01,12.06 22.07,12.06 22.13,12.06 22.2,12.06 22.26,12.06 22.32,12.06 22.39,12.06 22.45,12.06 22.51,12.06 22.58,12.06 22.64,12.06 22.7,12.06 22.77,12.06 22.83,12.06 22.89,12.06 22.96,12.06 23.02,12.06 23.08,12.06 23.15,12.06 23.21,12.06 23.27,12.06 23.34,12.06 23.4,12.06 23.46,12.06 23.53,12.06 23.59,12.06 23.65,12.06 23.72,12.06 23.78,12.06 23.84,12.06 23.91,12.06 23.97,12.06 24.03,12.06 24.1,12.06 24.16,12.06 24.22,12.06 24.29,12.06 24.35,12.06 24.41,12.06 24.48,12.06 24.54,12.06 24.6,12.06 24.67,12.06 24.73,12.06 24.79,12.06 24.86,12.06 24.92,12.06 24.98,12.06 25.05,12.06 25.11,12.06 25.17,12.06 25.24,12.05 25.3,12.04 \" class=\"primitive\"/>\n",
       "            </g>\n",
       "          </g>\n",
       "        </g>\n",
       "      </g>\n",
       "    </g>\n",
       "  </g>\n",
       "  <g class=\"guide ylabels\" font-size=\"2.82\" font-family=\"'PT Sans Caption','Helvetica Neue','Helvetica',sans-serif\" fill=\"#6C606B\" id=\"img-227a216c-24\">\n",
       "    <g transform=\"translate(91.48,131.11)\" id=\"img-227a216c-25\">\n",
       "      <g class=\"primitive\">\n",
       "        <text text-anchor=\"end\" dy=\"0.35em\">0</text>\n",
       "      </g>\n",
       "    </g>\n",
       "    <g transform=\"translate(91.48,119.14)\" id=\"img-227a216c-26\">\n",
       "      <g class=\"primitive\">\n",
       "        <text text-anchor=\"end\" dy=\"0.35em\">1</text>\n",
       "      </g>\n",
       "    </g>\n",
       "    <g transform=\"translate(91.48,107.16)\" id=\"img-227a216c-27\">\n",
       "      <g class=\"primitive\">\n",
       "        <text text-anchor=\"end\" dy=\"0.35em\">2</text>\n",
       "      </g>\n",
       "    </g>\n",
       "    <g transform=\"translate(91.48,95.18)\" id=\"img-227a216c-28\">\n",
       "      <g class=\"primitive\">\n",
       "        <text text-anchor=\"end\" dy=\"0.35em\">3</text>\n",
       "      </g>\n",
       "    </g>\n",
       "    <g transform=\"translate(91.48,83.2)\" id=\"img-227a216c-29\">\n",
       "      <g class=\"primitive\">\n",
       "        <text text-anchor=\"end\" dy=\"0.35em\">4</text>\n",
       "      </g>\n",
       "    </g>\n",
       "  </g>\n",
       "  <g font-size=\"3.88\" font-family=\"'PT Sans','Helvetica Neue','Helvetica',sans-serif\" fill=\"#564A55\" stroke=\"#000000\" stroke-opacity=\"0.000\" id=\"img-227a216c-30\">\n",
       "    <g transform=\"translate(85.01,105.16)\" id=\"img-227a216c-31\">\n",
       "      <g class=\"primitive\">\n",
       "        <text text-anchor=\"middle\" dy=\"0.35em\" transform=\"rotate(-90,0, 2)\">Thrust</text>\n",
       "      </g>\n",
       "    </g>\n",
       "  </g>\n",
       "</g>\n",
       "<g class=\"plotroot xscalable yscalable\" id=\"img-227a216c-32\">\n",
       "  <g font-size=\"3.88\" font-family=\"'PT Sans','Helvetica Neue','Helvetica',sans-serif\" fill=\"#564A55\" stroke=\"#000000\" stroke-opacity=\"0.000\" id=\"img-227a216c-33\">\n",
       "    <g transform=\"translate(46.31,140.79)\" id=\"img-227a216c-34\">\n",
       "      <g class=\"primitive\">\n",
       "        <text text-anchor=\"middle\" dy=\"0.6em\">Time (s)</text>\n",
       "      </g>\n",
       "    </g>\n",
       "  </g>\n",
       "  <g class=\"guide xlabels\" font-size=\"2.82\" font-family=\"'PT Sans Caption','Helvetica Neue','Helvetica',sans-serif\" fill=\"#6C606B\" id=\"img-227a216c-35\">\n",
       "    <g transform=\"translate(23.42,134.11)\" id=\"img-227a216c-36\">\n",
       "      <g class=\"primitive\">\n",
       "        <text text-anchor=\"middle\" dy=\"0.6em\">0.00</text>\n",
       "      </g>\n",
       "    </g>\n",
       "    <g transform=\"translate(34.86,134.11)\" id=\"img-227a216c-37\">\n",
       "      <g class=\"primitive\">\n",
       "        <text text-anchor=\"middle\" dy=\"0.6em\">0.05</text>\n",
       "      </g>\n",
       "    </g>\n",
       "    <g transform=\"translate(46.31,134.11)\" id=\"img-227a216c-38\">\n",
       "      <g class=\"primitive\">\n",
       "        <text text-anchor=\"middle\" dy=\"0.6em\">0.10</text>\n",
       "      </g>\n",
       "    </g>\n",
       "    <g transform=\"translate(57.75,134.11)\" id=\"img-227a216c-39\">\n",
       "      <g class=\"primitive\">\n",
       "        <text text-anchor=\"middle\" dy=\"0.6em\">0.15</text>\n",
       "      </g>\n",
       "    </g>\n",
       "    <g transform=\"translate(69.2,134.11)\" id=\"img-227a216c-40\">\n",
       "      <g class=\"primitive\">\n",
       "        <text text-anchor=\"middle\" dy=\"0.6em\">0.20</text>\n",
       "      </g>\n",
       "    </g>\n",
       "  </g>\n",
       "  <g clip-path=\"url(#img-227a216c-41)\">\n",
       "    <g id=\"img-227a216c-42\">\n",
       "      <g pointer-events=\"visible\" stroke-width=\"0.3\" fill=\"#000000\" fill-opacity=\"0.000\" stroke=\"#000000\" stroke-opacity=\"0.000\" class=\"guide background\" id=\"img-227a216c-43\">\n",
       "        <g transform=\"translate(46.31,107.16)\" id=\"img-227a216c-44\">\n",
       "          <path d=\"M-24.89,-25.96 L24.89,-25.96 24.89,25.96 -24.89,25.96  z\" class=\"primitive\"/>\n",
       "        </g>\n",
       "      </g>\n",
       "      <g class=\"guide ygridlines xfixed\" stroke-dasharray=\"0.5,0.5\" stroke-width=\"0.2\" stroke=\"#D0D0E0\" id=\"img-227a216c-45\">\n",
       "        <g transform=\"translate(46.31,131.11)\" id=\"img-227a216c-46\">\n",
       "          <path fill=\"none\" d=\"M-24.89,0 L24.89,0 \" class=\"primitive\"/>\n",
       "        </g>\n",
       "        <g transform=\"translate(46.31,119.14)\" id=\"img-227a216c-47\">\n",
       "          <path fill=\"none\" d=\"M-24.89,0 L24.89,0 \" class=\"primitive\"/>\n",
       "        </g>\n",
       "        <g transform=\"translate(46.31,107.16)\" id=\"img-227a216c-48\">\n",
       "          <path fill=\"none\" d=\"M-24.89,0 L24.89,0 \" class=\"primitive\"/>\n",
       "        </g>\n",
       "        <g transform=\"translate(46.31,95.18)\" id=\"img-227a216c-49\">\n",
       "          <path fill=\"none\" d=\"M-24.89,0 L24.89,0 \" class=\"primitive\"/>\n",
       "        </g>\n",
       "        <g transform=\"translate(46.31,83.2)\" id=\"img-227a216c-50\">\n",
       "          <path fill=\"none\" d=\"M-24.89,0 L24.89,0 \" class=\"primitive\"/>\n",
       "        </g>\n",
       "      </g>\n",
       "      <g class=\"guide xgridlines yfixed\" stroke-dasharray=\"0.5,0.5\" stroke-width=\"0.2\" stroke=\"#D0D0E0\" id=\"img-227a216c-51\">\n",
       "        <g transform=\"translate(23.42,107.16)\" id=\"img-227a216c-52\">\n",
       "          <path fill=\"none\" d=\"M0,-25.96 L0,25.96 \" class=\"primitive\"/>\n",
       "        </g>\n",
       "        <g transform=\"translate(34.86,107.16)\" id=\"img-227a216c-53\">\n",
       "          <path fill=\"none\" d=\"M0,-25.96 L0,25.96 \" class=\"primitive\"/>\n",
       "        </g>\n",
       "        <g transform=\"translate(46.31,107.16)\" id=\"img-227a216c-54\">\n",
       "          <path fill=\"none\" d=\"M0,-25.96 L0,25.96 \" class=\"primitive\"/>\n",
       "        </g>\n",
       "        <g transform=\"translate(57.75,107.16)\" id=\"img-227a216c-55\">\n",
       "          <path fill=\"none\" d=\"M0,-25.96 L0,25.96 \" class=\"primitive\"/>\n",
       "        </g>\n",
       "        <g transform=\"translate(69.2,107.16)\" id=\"img-227a216c-56\">\n",
       "          <path fill=\"none\" d=\"M0,-25.96 L0,25.96 \" class=\"primitive\"/>\n",
       "        </g>\n",
       "      </g>\n",
       "      <g class=\"plotpanel\" id=\"img-227a216c-57\">\n",
       "        <metadata>\n",
       "          <boundingbox value=\"21.418333333333337mm 81.19999999999999mm 49.78166666666665mm 51.91499999999999mm\"/>\n",
       "          <unitbox value=\"-0.008737121846445088 0.1583481164562246 0.2174742436928902 -0.2166962329124492\"/>\n",
       "        </metadata>\n",
       "        <g stroke-width=\"0.3\" fill=\"#000000\" fill-opacity=\"0.000\" class=\"geometry\" id=\"img-227a216c-58\">\n",
       "          <g class=\"color_LCHab{Float32}(70.0f0,60.0f0,240.0f0)\" stroke-dasharray=\"none\" stroke-opacity=\"1\" stroke=\"#00BFFF\" id=\"img-227a216c-59\">\n",
       "            <g transform=\"translate(46.22,103.69)\" id=\"img-227a216c-60\">\n",
       "              <path fill=\"none\" d=\"M-22.75,15.45 L-22.69,15.3 -22.63,15.15 -22.58,15 -22.52,14.85 -22.46,14.7 -22.41,14.55 -22.35,14.4 -22.29,14.25 -22.24,14.1 -22.18,13.94 -22.12,13.79 -22.07,13.64 -22.01,13.49 -21.95,13.34 -21.89,13.18 -21.84,13.03 -21.78,12.88 -21.72,12.72 -21.67,12.57 -21.61,12.42 -21.55,12.26 -21.5,12.11 -21.44,11.96 -21.38,11.8 -21.32,11.65 -21.27,11.49 -21.21,11.34 -21.15,11.19 -21.1,11.03 -21.04,10.88 -20.98,10.73 -20.93,10.57 -20.87,10.42 -20.81,10.27 -20.76,10.11 -20.7,9.96 -20.64,9.81 -20.58,9.65 -20.53,9.5 -20.47,9.35 -20.41,9.2 -20.36,9.04 -20.3,8.89 -20.24,8.74 -20.19,8.59 -20.13,8.44 -20.07,8.29 -20.02,8.13 -19.96,7.98 -19.9,7.83 -19.84,7.68 -19.79,7.53 -19.73,7.38 -19.67,7.23 -19.62,7.09 -19.56,6.94 -19.5,6.79 -19.45,6.64 -19.39,6.49 -19.33,6.34 -19.28,6.2 -19.22,6.05 -19.16,5.9 -19.1,5.76 -19.05,5.61 -18.99,5.47 -18.93,5.32 -18.88,5.18 -18.82,5.03 -18.76,4.89 -18.71,4.74 -18.65,4.6 -18.59,4.46 -18.53,4.31 -18.48,4.17 -18.42,4.03 -18.36,3.89 -18.31,3.75 -18.25,3.61 -18.19,3.46 -18.14,3.32 -18.08,3.18 -18.02,3.05 -17.97,2.91 -17.91,2.77 -17.85,2.63 -17.79,2.49 -17.74,2.36 -17.68,2.22 -17.62,2.09 -17.57,1.96 -17.51,1.83 -17.45,1.71 -17.4,1.59 -17.34,1.5 -17.28,1.42 -17.23,1.36 -17.17,1.31 -17.11,1.27 -17.05,1.23 -17,1.19 -16.94,1.15 -16.88,1.1 -16.83,1.06 -16.77,1.02 -16.71,0.98 -16.66,0.93 -16.6,0.89 -16.54,0.85 -16.48,0.81 -16.43,0.76 -16.37,0.72 -16.31,0.67 -16.26,0.63 -16.2,0.58 -16.14,0.54 -16.09,0.49 -16.03,0.45 -15.97,0.4 -15.92,0.36 -15.86,0.31 -15.8,0.26 -15.74,0.22 -15.69,0.17 -15.63,0.12 -15.57,0.07 -15.52,0.03 -15.46,-0.02 -15.4,-0.07 -15.35,-0.12 -15.29,-0.17 -15.23,-0.22 -15.18,-0.27 -15.12,-0.32 -15.06,-0.37 -15,-0.42 -14.95,-0.47 -14.89,-0.53 -14.83,-0.58 -14.78,-0.63 -14.72,-0.68 -14.66,-0.74 -14.61,-0.79 -14.55,-0.85 -14.49,-0.9 -14.43,-0.95 -14.38,-1.01 -14.32,-1.06 -14.26,-1.12 -14.21,-1.18 -14.15,-1.23 -14.09,-1.29 -14.04,-1.35 -13.98,-1.41 -13.92,-1.46 -13.87,-1.52 -13.81,-1.58 -13.75,-1.64 -13.69,-1.7 -13.64,-1.76 -13.58,-1.82 -13.52,-1.88 -13.47,-1.94 -13.41,-2.01 -13.35,-2.07 -13.3,-2.13 -13.24,-2.19 -13.18,-2.26 -13.13,-2.32 -13.07,-2.39 -13.01,-2.45 -12.95,-2.52 -12.9,-2.58 -12.84,-2.65 -12.78,-2.72 -12.73,-2.79 -12.67,-2.85 -12.61,-2.92 -12.56,-2.99 -12.5,-3.06 -12.44,-3.13 -12.38,-3.2 -12.33,-3.27 -12.27,-3.34 -12.21,-3.42 -12.16,-3.49 -12.1,-3.56 -12.04,-3.64 -11.99,-3.71 -11.93,-3.79 -11.87,-3.86 -11.82,-3.94 -11.76,-4.02 -11.7,-4.09 -11.64,-4.17 -11.59,-4.25 -11.53,-4.33 -11.47,-4.41 -11.42,-4.49 -11.36,-4.57 -11.3,-4.66 -11.25,-4.74 -11.19,-4.82 -11.13,-4.91 -11.08,-4.99 -11.02,-5.08 -10.96,-5.16 -10.9,-5.25 -10.85,-5.34 -10.79,-5.43 -10.73,-5.51 -10.68,-5.6 -10.62,-5.7 -10.56,-5.79 -10.51,-5.88 -10.45,-5.97 -10.39,-6.07 -10.34,-6.16 -10.28,-6.26 -10.22,-6.35 -10.16,-6.45 -10.11,-6.55 -10.05,-6.65 -9.99,-6.75 -9.94,-6.85 -9.88,-6.95 -9.82,-7.05 -9.77,-7.15 -9.71,-7.26 -9.65,-7.36 -9.59,-7.47 -9.54,-7.58 -9.48,-7.68 -9.42,-7.79 -9.37,-7.9 -9.31,-8.01 -9.25,-8.13 -9.2,-8.24 -9.14,-8.35 -9.08,-8.47 -9.03,-8.59 -8.97,-8.7 -8.91,-8.82 -8.85,-8.94 -8.8,-9.06 -8.74,-9.19 -8.68,-9.31 -8.63,-9.43 -8.57,-9.56 -8.51,-9.69 -8.46,-9.81 -8.4,-9.94 -8.34,-10.07 -8.29,-10.21 -8.23,-10.34 -8.17,-10.47 -8.11,-10.61 -8.06,-10.75 -8,-10.89 -7.94,-11.03 -7.89,-11.17 -7.83,-11.31 -7.77,-11.46 -7.72,-11.6 -7.66,-11.75 -7.6,-11.9 -7.54,-12.05 -7.49,-12.2 -7.43,-12.36 -7.37,-12.51 -7.32,-12.67 -7.26,-12.83 -7.2,-12.99 -7.15,-13.15 -7.09,-13.32 -7.03,-13.48 -6.98,-13.65 -6.92,-13.82 -6.86,-13.99 -6.8,-14.16 -6.75,-14.34 -6.69,-14.51 -6.63,-14.69 -6.58,-14.86 -6.52,-15.04 -6.46,-15.21 -6.41,-15.39 -6.35,-15.56 -6.29,-15.73 -6.24,-15.89 -6.18,-16.03 -6.12,-16.13 -6.06,-16.17 -6.01,-16.14 -5.95,-16.08 -5.89,-16 -5.84,-15.91 -5.78,-15.82 -5.72,-15.73 -5.67,-15.64 -5.61,-15.55 -5.55,-15.46 -5.49,-15.36 -5.44,-15.27 -5.38,-15.18 -5.32,-15.09 -5.27,-15 -5.21,-14.91 -5.15,-14.82 -5.1,-14.73 -5.04,-14.64 -4.98,-14.55 -4.93,-14.46 -4.87,-14.37 -4.81,-14.29 -4.75,-14.2 -4.7,-14.12 -4.64,-14.03 -4.58,-13.95 -4.53,-13.86 -4.47,-13.78 -4.41,-13.7 -4.36,-13.61 -4.3,-13.53 -4.24,-13.45 -4.19,-13.37 -4.13,-13.29 -4.07,-13.21 -4.01,-13.13 -3.96,-13.05 -3.9,-12.97 -3.84,-12.89 -3.79,-12.81 -3.73,-12.74 -3.67,-12.66 -3.62,-12.58 -3.56,-12.51 -3.5,-12.43 -3.45,-12.35 -3.39,-12.28 -3.33,-12.2 -3.27,-12.13 -3.22,-12.05 -3.16,-11.98 -3.1,-11.9 -3.05,-11.83 -2.99,-11.76 -2.93,-11.68 -2.88,-11.61 -2.82,-11.54 -2.76,-11.47 -2.7,-11.39 -2.65,-11.32 -2.59,-11.25 -2.53,-11.18 -2.48,-11.11 -2.42,-11.04 -2.36,-10.97 -2.31,-10.9 -2.25,-10.82 -2.19,-10.76 -2.14,-10.69 -2.08,-10.62 -2.02,-10.55 -1.96,-10.48 -1.91,-10.41 -1.85,-10.34 -1.79,-10.27 -1.74,-10.2 -1.68,-10.13 -1.62,-10.07 -1.57,-10 -1.51,-9.93 -1.45,-9.86 -1.4,-9.8 -1.34,-9.73 -1.28,-9.66 -1.22,-9.59 -1.17,-9.53 -1.11,-9.46 -1.05,-9.39 -1,-9.33 -0.94,-9.26 -0.88,-9.2 -0.83,-9.13 -0.77,-9.06 -0.71,-9 -0.65,-8.93 -0.6,-8.87 -0.54,-8.8 -0.48,-8.74 -0.43,-8.67 -0.37,-8.61 -0.31,-8.54 -0.26,-8.48 -0.2,-8.41 -0.14,-8.35 -0.09,-8.29 -0.03,-8.22 0.03,-8.16 0.09,-8.09 0.14,-8.03 0.2,-7.96 0.26,-7.9 0.31,-7.84 0.37,-7.77 0.43,-7.71 0.48,-7.65 0.54,-7.58 0.6,-7.52 0.65,-7.46 0.71,-7.39 0.77,-7.33 0.83,-7.27 0.88,-7.21 0.94,-7.14 1,-7.08 1.05,-7.02 1.11,-6.95 1.17,-6.89 1.22,-6.83 1.28,-6.77 1.34,-6.71 1.4,-6.64 1.45,-6.58 1.51,-6.52 1.57,-6.46 1.62,-6.39 1.68,-6.33 1.74,-6.27 1.79,-6.21 1.85,-6.15 1.91,-6.09 1.96,-6.02 2.02,-5.96 2.08,-5.9 2.14,-5.84 2.19,-5.78 2.25,-5.72 2.31,-5.66 2.36,-5.59 2.42,-5.53 2.48,-5.47 2.53,-5.41 2.59,-5.35 2.65,-5.29 2.7,-5.23 2.76,-5.17 2.82,-5.11 2.88,-5.05 2.93,-4.98 2.99,-4.92 3.05,-4.86 3.1,-4.8 3.16,-4.74 3.22,-4.68 3.27,-4.62 3.33,-4.56 3.39,-4.5 3.45,-4.44 3.5,-4.38 3.56,-4.32 3.62,-4.26 3.67,-4.2 3.73,-4.14 3.79,-4.08 3.84,-4.02 3.9,-3.96 3.96,-3.9 4.01,-3.84 4.07,-3.78 4.13,-3.72 4.19,-3.66 4.24,-3.6 4.3,-3.54 4.36,-3.48 4.41,-3.42 4.47,-3.36 4.53,-3.3 4.58,-3.24 4.64,-3.18 4.7,-3.12 4.75,-3.06 4.81,-3 4.87,-2.94 4.93,-2.88 4.98,-2.82 5.04,-2.76 5.1,-2.7 5.15,-2.64 5.21,-2.58 5.27,-2.52 5.32,-2.46 5.38,-2.4 5.44,-2.34 5.49,-2.28 5.55,-2.22 5.61,-2.16 5.67,-2.1 5.72,-2.04 5.78,-1.98 5.84,-1.92 5.89,-1.87 5.95,-1.81 6.01,-1.75 6.06,-1.69 6.12,-1.63 6.18,-1.57 6.24,-1.51 6.29,-1.45 6.35,-1.39 6.41,-1.33 6.46,-1.27 6.52,-1.21 6.58,-1.15 6.63,-1.1 6.69,-1.04 6.75,-0.98 6.8,-0.92 6.86,-0.86 6.92,-0.8 6.98,-0.74 7.03,-0.68 7.09,-0.62 7.15,-0.56 7.2,-0.5 7.26,-0.45 7.32,-0.39 7.37,-0.33 7.43,-0.27 7.49,-0.21 7.54,-0.15 7.6,-0.09 7.66,-0.03 7.72,0.03 7.77,0.09 7.83,0.14 7.89,0.2 7.94,0.26 8,0.32 8.06,0.38 8.11,0.44 8.17,0.5 8.23,0.56 8.29,0.62 8.34,0.67 8.4,0.73 8.46,0.79 8.51,0.85 8.57,0.91 8.63,0.97 8.68,1.03 8.74,1.09 8.8,1.14 8.85,1.2 8.91,1.26 8.97,1.32 9.03,1.38 9.08,1.44 9.14,1.5 9.2,1.56 9.25,1.61 9.31,1.67 9.37,1.73 9.42,1.79 9.48,1.85 9.54,1.91 9.59,1.97 9.65,2.02 9.71,2.08 9.77,2.14 9.82,2.2 9.88,2.26 9.94,2.32 9.99,2.38 10.05,2.43 10.11,2.49 10.16,2.55 10.22,2.61 10.28,2.67 10.34,2.73 10.39,2.79 10.45,2.84 10.51,2.9 10.56,2.96 10.62,3.02 10.68,3.08 10.73,3.14 10.79,3.2 10.85,3.25 10.9,3.31 10.96,3.37 11.02,3.43 11.08,3.49 11.13,3.55 11.19,3.6 11.25,3.66 11.3,3.72 11.36,3.78 11.42,3.84 11.47,3.9 11.53,3.96 11.59,4.01 11.64,4.07 11.7,4.13 11.76,4.19 11.82,4.25 11.87,4.31 11.93,4.36 11.99,4.42 12.04,4.48 12.1,4.54 12.16,4.6 12.21,4.66 12.27,4.71 12.33,4.77 12.38,4.83 12.44,4.89 12.5,4.95 12.56,5.01 12.61,5.06 12.67,5.12 12.73,5.18 12.78,5.24 12.84,5.3 12.9,5.36 12.95,5.41 13.01,5.47 13.07,5.53 13.13,5.59 13.18,5.65 13.24,5.71 13.3,5.76 13.35,5.82 13.41,5.88 13.47,5.94 13.52,6 13.58,6.06 13.64,6.11 13.69,6.17 13.75,6.23 13.81,6.29 13.87,6.35 13.92,6.41 13.98,6.46 14.04,6.52 14.09,6.58 14.15,6.64 14.21,6.7 14.26,6.75 14.32,6.81 14.38,6.87 14.43,6.93 14.49,6.99 14.55,7.05 14.61,7.1 14.66,7.16 14.72,7.22 14.78,7.28 14.83,7.34 14.89,7.4 14.95,7.45 15,7.51 15.06,7.57 15.12,7.63 15.18,7.69 15.23,7.74 15.29,7.8 15.35,7.86 15.4,7.92 15.46,7.98 15.52,8.04 15.57,8.09 15.63,8.15 15.69,8.21 15.74,8.27 15.8,8.33 15.86,8.38 15.92,8.44 15.97,8.5 16.03,8.56 16.09,8.62 16.14,8.68 16.2,8.73 16.26,8.79 16.31,8.85 16.37,8.91 16.43,8.97 16.48,9.02 16.54,9.08 16.6,9.14 16.66,9.2 16.71,9.26 16.77,9.32 16.83,9.37 16.88,9.43 16.94,9.49 17,9.55 17.05,9.61 17.11,9.66 17.17,9.72 17.23,9.78 17.28,9.84 17.34,9.9 17.4,9.96 17.45,10.01 17.51,10.07 17.57,10.13 17.62,10.19 17.68,10.25 17.74,10.3 17.79,10.36 17.85,10.42 17.91,10.48 17.97,10.54 18.02,10.59 18.08,10.65 18.14,10.71 18.19,10.77 18.25,10.83 18.31,10.89 18.36,10.94 18.42,11 18.48,11.06 18.53,11.12 18.59,11.18 18.65,11.23 18.71,11.29 18.76,11.35 18.82,11.41 18.88,11.47 18.93,11.52 18.99,11.58 19.05,11.64 19.1,11.7 19.16,11.76 19.22,11.82 19.28,11.87 19.33,11.93 19.39,11.99 19.45,12.05 19.5,12.11 19.56,12.16 19.62,12.22 19.67,12.28 19.73,12.34 19.79,12.4 19.84,12.45 19.9,12.51 19.96,12.57 20.02,12.63 20.07,12.69 20.13,12.74 20.19,12.8 20.24,12.86 20.3,12.92 20.36,12.98 20.41,13.04 20.47,13.09 20.53,13.15 20.58,13.21 20.64,13.27 20.7,13.33 20.76,13.38 20.81,13.44 20.87,13.5 20.93,13.56 20.98,13.62 21.04,13.67 21.1,13.73 21.15,13.79 21.21,13.85 21.27,13.91 21.32,13.96 21.38,14.02 21.44,14.08 21.5,14.14 21.55,14.2 21.61,14.26 21.67,14.31 21.72,14.37 21.78,14.43 21.84,14.49 21.89,14.55 21.95,14.6 22.01,14.66 22.07,14.72 22.12,14.78 22.18,14.84 22.24,14.89 22.29,14.95 22.35,15.01 22.41,15.07 22.46,15.13 22.52,15.18 22.58,15.24 22.63,15.3 22.69,15.36 22.75,15.42 \" class=\"primitive\"/>\n",
       "            </g>\n",
       "          </g>\n",
       "        </g>\n",
       "      </g>\n",
       "    </g>\n",
       "  </g>\n",
       "  <g class=\"guide ylabels\" font-size=\"2.82\" font-family=\"'PT Sans Caption','Helvetica Neue','Helvetica',sans-serif\" fill=\"#6C606B\" id=\"img-227a216c-61\">\n",
       "    <g transform=\"translate(20.42,131.11)\" id=\"img-227a216c-62\">\n",
       "      <g class=\"primitive\">\n",
       "        <text text-anchor=\"end\" dy=\"0.35em\">-0.05</text>\n",
       "      </g>\n",
       "    </g>\n",
       "    <g transform=\"translate(20.42,119.14)\" id=\"img-227a216c-63\">\n",
       "      <g class=\"primitive\">\n",
       "        <text text-anchor=\"end\" dy=\"0.35em\">0.00</text>\n",
       "      </g>\n",
       "    </g>\n",
       "    <g transform=\"translate(20.42,107.16)\" id=\"img-227a216c-64\">\n",
       "      <g class=\"primitive\">\n",
       "        <text text-anchor=\"end\" dy=\"0.35em\">0.05</text>\n",
       "      </g>\n",
       "    </g>\n",
       "    <g transform=\"translate(20.42,95.18)\" id=\"img-227a216c-65\">\n",
       "      <g class=\"primitive\">\n",
       "        <text text-anchor=\"end\" dy=\"0.35em\">0.10</text>\n",
       "      </g>\n",
       "    </g>\n",
       "    <g transform=\"translate(20.42,83.2)\" id=\"img-227a216c-66\">\n",
       "      <g class=\"primitive\">\n",
       "        <text text-anchor=\"end\" dy=\"0.35em\">0.15</text>\n",
       "      </g>\n",
       "    </g>\n",
       "  </g>\n",
       "  <g font-size=\"3.88\" font-family=\"'PT Sans','Helvetica Neue','Helvetica',sans-serif\" fill=\"#564A55\" stroke=\"#000000\" stroke-opacity=\"0.000\" id=\"img-227a216c-67\">\n",
       "    <g transform=\"translate(8.81,105.16)\" id=\"img-227a216c-68\">\n",
       "      <g class=\"primitive\">\n",
       "        <text text-anchor=\"middle\" dy=\"0.35em\" transform=\"rotate(-90,0, 2)\">Velocity</text>\n",
       "      </g>\n",
       "    </g>\n",
       "  </g>\n",
       "</g>\n",
       "<g class=\"plotroot xscalable yscalable\" id=\"img-227a216c-69\">\n",
       "  <g font-size=\"3.88\" font-family=\"'PT Sans','Helvetica Neue','Helvetica',sans-serif\" fill=\"#564A55\" stroke=\"#000000\" stroke-opacity=\"0.000\" id=\"img-227a216c-70\">\n",
       "    <g transform=\"translate(121.12,64.59)\" id=\"img-227a216c-71\">\n",
       "      <g class=\"primitive\">\n",
       "        <text text-anchor=\"middle\" dy=\"0.6em\">Time (s)</text>\n",
       "      </g>\n",
       "    </g>\n",
       "  </g>\n",
       "  <g class=\"guide xlabels\" font-size=\"2.82\" font-family=\"'PT Sans Caption','Helvetica Neue','Helvetica',sans-serif\" fill=\"#6C606B\" id=\"img-227a216c-72\">\n",
       "    <g transform=\"translate(96.83,57.91)\" id=\"img-227a216c-73\">\n",
       "      <g class=\"primitive\">\n",
       "        <text text-anchor=\"middle\" dy=\"0.6em\">0.00</text>\n",
       "      </g>\n",
       "    </g>\n",
       "    <g transform=\"translate(108.97,57.91)\" id=\"img-227a216c-74\">\n",
       "      <g class=\"primitive\">\n",
       "        <text text-anchor=\"middle\" dy=\"0.6em\">0.05</text>\n",
       "      </g>\n",
       "    </g>\n",
       "    <g transform=\"translate(121.12,57.91)\" id=\"img-227a216c-75\">\n",
       "      <g class=\"primitive\">\n",
       "        <text text-anchor=\"middle\" dy=\"0.6em\">0.10</text>\n",
       "      </g>\n",
       "    </g>\n",
       "    <g transform=\"translate(133.26,57.91)\" id=\"img-227a216c-76\">\n",
       "      <g class=\"primitive\">\n",
       "        <text text-anchor=\"middle\" dy=\"0.6em\">0.15</text>\n",
       "      </g>\n",
       "    </g>\n",
       "    <g transform=\"translate(145.4,57.91)\" id=\"img-227a216c-77\">\n",
       "      <g class=\"primitive\">\n",
       "        <text text-anchor=\"middle\" dy=\"0.6em\">0.20</text>\n",
       "      </g>\n",
       "    </g>\n",
       "  </g>\n",
       "  <g clip-path=\"url(#img-227a216c-78)\">\n",
       "    <g id=\"img-227a216c-79\">\n",
       "      <g pointer-events=\"visible\" stroke-width=\"0.3\" fill=\"#000000\" fill-opacity=\"0.000\" stroke=\"#000000\" stroke-opacity=\"0.000\" class=\"guide background\" id=\"img-227a216c-80\">\n",
       "        <g transform=\"translate(121.12,30.96)\" id=\"img-227a216c-81\">\n",
       "          <path d=\"M-26.28,-25.96 L26.28,-25.96 26.28,25.96 -26.28,25.96  z\" class=\"primitive\"/>\n",
       "        </g>\n",
       "      </g>\n",
       "      <g class=\"guide ygridlines xfixed\" stroke-dasharray=\"0.5,0.5\" stroke-width=\"0.2\" stroke=\"#D0D0E0\" id=\"img-227a216c-82\">\n",
       "        <g transform=\"translate(121.12,54.91)\" id=\"img-227a216c-83\">\n",
       "          <path fill=\"none\" d=\"M-26.28,0 L26.28,0 \" class=\"primitive\"/>\n",
       "        </g>\n",
       "        <g transform=\"translate(121.12,45.33)\" id=\"img-227a216c-84\">\n",
       "          <path fill=\"none\" d=\"M-26.28,0 L26.28,0 \" class=\"primitive\"/>\n",
       "        </g>\n",
       "        <g transform=\"translate(121.12,35.75)\" id=\"img-227a216c-85\">\n",
       "          <path fill=\"none\" d=\"M-26.28,0 L26.28,0 \" class=\"primitive\"/>\n",
       "        </g>\n",
       "        <g transform=\"translate(121.12,26.17)\" id=\"img-227a216c-86\">\n",
       "          <path fill=\"none\" d=\"M-26.28,0 L26.28,0 \" class=\"primitive\"/>\n",
       "        </g>\n",
       "        <g transform=\"translate(121.12,16.58)\" id=\"img-227a216c-87\">\n",
       "          <path fill=\"none\" d=\"M-26.28,0 L26.28,0 \" class=\"primitive\"/>\n",
       "        </g>\n",
       "        <g transform=\"translate(121.12,7)\" id=\"img-227a216c-88\">\n",
       "          <path fill=\"none\" d=\"M-26.28,0 L26.28,0 \" class=\"primitive\"/>\n",
       "        </g>\n",
       "      </g>\n",
       "      <g class=\"guide xgridlines yfixed\" stroke-dasharray=\"0.5,0.5\" stroke-width=\"0.2\" stroke=\"#D0D0E0\" id=\"img-227a216c-89\">\n",
       "        <g transform=\"translate(96.83,30.96)\" id=\"img-227a216c-90\">\n",
       "          <path fill=\"none\" d=\"M0,-25.96 L0,25.96 \" class=\"primitive\"/>\n",
       "        </g>\n",
       "        <g transform=\"translate(108.97,30.96)\" id=\"img-227a216c-91\">\n",
       "          <path fill=\"none\" d=\"M0,-25.96 L0,25.96 \" class=\"primitive\"/>\n",
       "        </g>\n",
       "        <g transform=\"translate(121.12,30.96)\" id=\"img-227a216c-92\">\n",
       "          <path fill=\"none\" d=\"M0,-25.96 L0,25.96 \" class=\"primitive\"/>\n",
       "        </g>\n",
       "        <g transform=\"translate(133.26,30.96)\" id=\"img-227a216c-93\">\n",
       "          <path fill=\"none\" d=\"M0,-25.96 L0,25.96 \" class=\"primitive\"/>\n",
       "        </g>\n",
       "        <g transform=\"translate(145.4,30.96)\" id=\"img-227a216c-94\">\n",
       "          <path fill=\"none\" d=\"M0,-25.96 L0,25.96 \" class=\"primitive\"/>\n",
       "        </g>\n",
       "      </g>\n",
       "      <g class=\"plotpanel\" id=\"img-227a216c-95\">\n",
       "        <metadata>\n",
       "          <boundingbox value=\"94.83166666666665mm 5.0mm 52.56833333333332mm 51.91499999999999mm\"/>\n",
       "          <unitbox value=\"-0.00823581894924677 1.0208702911405614 0.21647163789849358 -0.5417405822811229\"/>\n",
       "        </metadata>\n",
       "        <g stroke-width=\"0.3\" fill=\"#000000\" fill-opacity=\"0.000\" class=\"geometry\" id=\"img-227a216c-96\">\n",
       "          <g class=\"color_LCHab{Float32}(70.0f0,60.0f0,240.0f0)\" stroke-dasharray=\"none\" stroke-opacity=\"1\" stroke=\"#00BFFF\" id=\"img-227a216c-97\">\n",
       "            <g transform=\"translate(121.03,38.75)\" id=\"img-227a216c-98\">\n",
       "              <path fill=\"none\" d=\"M-24.13,-31.75 L-24.07,-31.59 -24.01,-31.42 -23.95,-31.25 -23.89,-31.09 -23.83,-30.92 -23.77,-30.75 -23.71,-30.59 -23.65,-30.42 -23.59,-30.25 -23.53,-30.09 -23.47,-29.92 -23.41,-29.75 -23.35,-29.59 -23.29,-29.42 -23.23,-29.25 -23.17,-29.08 -23.11,-28.92 -23.05,-28.75 -22.99,-28.58 -22.92,-28.42 -22.86,-28.25 -22.8,-28.08 -22.74,-27.92 -22.68,-27.75 -22.62,-27.58 -22.56,-27.42 -22.5,-27.25 -22.44,-27.08 -22.38,-26.92 -22.32,-26.75 -22.26,-26.58 -22.2,-26.42 -22.14,-26.25 -22.08,-26.08 -22.02,-25.91 -21.96,-25.75 -21.9,-25.58 -21.84,-25.41 -21.78,-25.25 -21.72,-25.08 -21.66,-24.91 -21.6,-24.75 -21.54,-24.58 -21.48,-24.41 -21.41,-24.25 -21.35,-24.08 -21.29,-23.91 -21.23,-23.75 -21.17,-23.58 -21.11,-23.41 -21.05,-23.25 -20.99,-23.08 -20.93,-22.91 -20.87,-22.74 -20.81,-22.58 -20.75,-22.41 -20.69,-22.24 -20.63,-22.08 -20.57,-21.91 -20.51,-21.74 -20.45,-21.58 -20.39,-21.41 -20.33,-21.24 -20.27,-21.08 -20.21,-20.91 -20.15,-20.74 -20.09,-20.58 -20.03,-20.41 -19.96,-20.24 -19.9,-20.08 -19.84,-19.91 -19.78,-19.74 -19.72,-19.58 -19.66,-19.41 -19.6,-19.24 -19.54,-19.08 -19.48,-18.91 -19.42,-18.74 -19.36,-18.58 -19.3,-18.41 -19.24,-18.24 -19.18,-18.08 -19.12,-17.91 -19.06,-17.75 -19,-17.58 -18.94,-17.41 -18.88,-17.25 -18.82,-17.08 -18.76,-16.92 -18.7,-16.75 -18.64,-16.59 -18.58,-16.43 -18.52,-16.27 -18.45,-16.12 -18.39,-15.98 -18.33,-15.86 -18.27,-15.74 -18.21,-15.64 -18.15,-15.53 -18.09,-15.43 -18.03,-15.33 -17.97,-15.23 -17.91,-15.13 -17.85,-15.02 -17.79,-14.92 -17.73,-14.82 -17.67,-14.72 -17.61,-14.61 -17.55,-14.51 -17.49,-14.41 -17.43,-14.31 -17.37,-14.21 -17.31,-14.1 -17.25,-14 -17.19,-13.9 -17.13,-13.8 -17.07,-13.69 -17,-13.59 -16.94,-13.49 -16.88,-13.39 -16.82,-13.28 -16.76,-13.18 -16.7,-13.08 -16.64,-12.98 -16.58,-12.87 -16.52,-12.77 -16.46,-12.67 -16.4,-12.57 -16.34,-12.46 -16.28,-12.36 -16.22,-12.26 -16.16,-12.15 -16.1,-12.05 -16.04,-11.95 -15.98,-11.84 -15.92,-11.74 -15.86,-11.64 -15.8,-11.53 -15.74,-11.43 -15.68,-11.33 -15.62,-11.22 -15.56,-11.12 -15.49,-11.02 -15.43,-10.91 -15.37,-10.81 -15.31,-10.7 -15.25,-10.6 -15.19,-10.5 -15.13,-10.39 -15.07,-10.29 -15.01,-10.18 -14.95,-10.08 -14.89,-9.98 -14.83,-9.87 -14.77,-9.77 -14.71,-9.66 -14.65,-9.56 -14.59,-9.45 -14.53,-9.35 -14.47,-9.24 -14.41,-9.14 -14.35,-9.03 -14.29,-8.93 -14.23,-8.82 -14.17,-8.72 -14.11,-8.61 -14.04,-8.5 -13.98,-8.4 -13.92,-8.29 -13.86,-8.19 -13.8,-8.08 -13.74,-7.97 -13.68,-7.87 -13.62,-7.76 -13.56,-7.65 -13.5,-7.55 -13.44,-7.44 -13.38,-7.33 -13.32,-7.23 -13.26,-7.12 -13.2,-7.01 -13.14,-6.9 -13.08,-6.8 -13.02,-6.69 -12.96,-6.58 -12.9,-6.47 -12.84,-6.36 -12.78,-6.26 -12.72,-6.15 -12.66,-6.04 -12.6,-5.93 -12.53,-5.82 -12.47,-5.71 -12.41,-5.6 -12.35,-5.49 -12.29,-5.38 -12.23,-5.27 -12.17,-5.16 -12.11,-5.05 -12.05,-4.94 -11.99,-4.83 -11.93,-4.72 -11.87,-4.61 -11.81,-4.5 -11.75,-4.39 -11.69,-4.28 -11.63,-4.16 -11.57,-4.05 -11.51,-3.94 -11.45,-3.83 -11.39,-3.71 -11.33,-3.6 -11.27,-3.49 -11.21,-3.37 -11.15,-3.26 -11.08,-3.15 -11.02,-3.03 -10.96,-2.92 -10.9,-2.8 -10.84,-2.69 -10.78,-2.58 -10.72,-2.46 -10.66,-2.34 -10.6,-2.23 -10.54,-2.11 -10.48,-2 -10.42,-1.88 -10.36,-1.76 -10.3,-1.65 -10.24,-1.53 -10.18,-1.41 -10.12,-1.29 -10.06,-1.17 -10,-1.06 -9.94,-0.94 -9.88,-0.82 -9.82,-0.7 -9.76,-0.58 -9.7,-0.46 -9.64,-0.34 -9.57,-0.22 -9.51,-0.1 -9.45,0.03 -9.39,0.15 -9.33,0.27 -9.27,0.39 -9.21,0.51 -9.15,0.64 -9.09,0.76 -9.03,0.89 -8.97,1.01 -8.91,1.14 -8.85,1.26 -8.79,1.39 -8.73,1.51 -8.67,1.64 -8.61,1.77 -8.55,1.89 -8.49,2.02 -8.43,2.15 -8.37,2.28 -8.31,2.41 -8.25,2.54 -8.19,2.67 -8.12,2.8 -8.06,2.93 -8,3.06 -7.94,3.19 -7.88,3.33 -7.82,3.46 -7.76,3.59 -7.7,3.73 -7.64,3.86 -7.58,4 -7.52,4.13 -7.46,4.27 -7.4,4.4 -7.34,4.54 -7.28,4.68 -7.22,4.82 -7.16,4.96 -7.1,5.09 -7.04,5.23 -6.98,5.37 -6.92,5.51 -6.86,5.65 -6.8,5.78 -6.74,5.92 -6.68,6.05 -6.61,6.18 -6.55,6.3 -6.49,6.4 -6.43,6.46 -6.37,6.5 -6.31,6.52 -6.25,6.53 -6.19,6.54 -6.13,6.54 -6.07,6.55 -6.01,6.55 -5.95,6.55 -5.89,6.56 -5.83,6.56 -5.77,6.56 -5.71,6.56 -5.65,6.56 -5.59,6.56 -5.53,6.56 -5.47,6.56 -5.41,6.56 -5.35,6.56 -5.29,6.56 -5.23,6.57 -5.16,6.57 -5.1,6.57 -5.04,6.57 -4.98,6.57 -4.92,6.57 -4.86,6.57 -4.8,6.57 -4.74,6.57 -4.68,6.57 -4.62,6.57 -4.56,6.57 -4.5,6.57 -4.44,6.57 -4.38,6.57 -4.32,6.57 -4.26,6.57 -4.2,6.57 -4.14,6.57 -4.08,6.57 -4.02,6.57 -3.96,6.57 -3.9,6.57 -3.84,6.57 -3.78,6.57 -3.72,6.57 -3.65,6.57 -3.59,6.57 -3.53,6.57 -3.47,6.57 -3.41,6.57 -3.35,6.57 -3.29,6.57 -3.23,6.57 -3.17,6.57 -3.11,6.57 -3.05,6.57 -2.99,6.57 -2.93,6.57 -2.87,6.57 -2.81,6.57 -2.75,6.57 -2.69,6.57 -2.63,6.57 -2.57,6.57 -2.51,6.57 -2.45,6.57 -2.39,6.57 -2.33,6.57 -2.27,6.57 -2.2,6.57 -2.14,6.57 -2.08,6.57 -2.02,6.57 -1.96,6.57 -1.9,6.57 -1.84,6.57 -1.78,6.57 -1.72,6.57 -1.66,6.57 -1.6,6.57 -1.54,6.57 -1.48,6.57 -1.42,6.57 -1.36,6.57 -1.3,6.57 -1.24,6.57 -1.18,6.57 -1.12,6.57 -1.06,6.57 -1,6.57 -0.94,6.57 -0.88,6.57 -0.82,6.57 -0.76,6.57 -0.69,6.57 -0.63,6.57 -0.57,6.57 -0.51,6.57 -0.45,6.57 -0.39,6.57 -0.33,6.57 -0.27,6.57 -0.21,6.57 -0.15,6.57 -0.09,6.57 -0.03,6.57 0.03,6.57 0.09,6.57 0.15,6.57 0.21,6.57 0.27,6.57 0.33,6.57 0.39,6.57 0.45,6.57 0.51,6.57 0.57,6.57 0.63,6.57 0.69,6.57 0.76,6.57 0.82,6.57 0.88,6.57 0.94,6.57 1,6.57 1.06,6.57 1.12,6.57 1.18,6.57 1.24,6.57 1.3,6.57 1.36,6.57 1.42,6.57 1.48,6.57 1.54,6.57 1.6,6.57 1.66,6.57 1.72,6.57 1.78,6.57 1.84,6.57 1.9,6.57 1.96,6.57 2.02,6.57 2.08,6.57 2.14,6.57 2.2,6.57 2.27,6.57 2.33,6.57 2.39,6.57 2.45,6.57 2.51,6.57 2.57,6.57 2.63,6.57 2.69,6.57 2.75,6.57 2.81,6.57 2.87,6.57 2.93,6.57 2.99,6.57 3.05,6.57 3.11,6.57 3.17,6.57 3.23,6.57 3.29,6.57 3.35,6.57 3.41,6.57 3.47,6.57 3.53,6.57 3.59,6.57 3.65,6.57 3.72,6.57 3.78,6.57 3.84,6.57 3.9,6.57 3.96,6.57 4.02,6.57 4.08,6.57 4.14,6.57 4.2,6.57 4.26,6.57 4.32,6.57 4.38,6.57 4.44,6.57 4.5,6.57 4.56,6.57 4.62,6.57 4.68,6.57 4.74,6.57 4.8,6.57 4.86,6.57 4.92,6.57 4.98,6.57 5.04,6.57 5.1,6.57 5.16,6.57 5.23,6.57 5.29,6.57 5.35,6.57 5.41,6.57 5.47,6.57 5.53,6.57 5.59,6.57 5.65,6.57 5.71,6.57 5.77,6.57 5.83,6.57 5.89,6.57 5.95,6.57 6.01,6.57 6.07,6.57 6.13,6.57 6.19,6.57 6.25,6.57 6.31,6.57 6.37,6.57 6.43,6.57 6.49,6.57 6.55,6.57 6.61,6.57 6.68,6.57 6.74,6.57 6.8,6.58 6.86,6.58 6.92,6.58 6.98,6.58 7.04,6.58 7.1,6.58 7.16,6.58 7.22,6.58 7.28,6.58 7.34,6.58 7.4,6.58 7.46,6.58 7.52,6.58 7.58,6.58 7.64,6.58 7.7,6.58 7.76,6.58 7.82,6.58 7.88,6.58 7.94,6.58 8,6.58 8.06,6.58 8.12,6.58 8.19,6.58 8.25,6.58 8.31,6.58 8.37,6.58 8.43,6.58 8.49,6.58 8.55,6.58 8.61,6.58 8.67,6.58 8.73,6.58 8.79,6.58 8.85,6.58 8.91,6.58 8.97,6.58 9.03,6.58 9.09,6.58 9.15,6.58 9.21,6.58 9.27,6.58 9.33,6.58 9.39,6.58 9.45,6.58 9.51,6.58 9.57,6.58 9.64,6.58 9.7,6.58 9.76,6.58 9.82,6.58 9.88,6.58 9.94,6.58 10,6.58 10.06,6.58 10.12,6.58 10.18,6.58 10.24,6.58 10.3,6.58 10.36,6.58 10.42,6.58 10.48,6.58 10.54,6.58 10.6,6.58 10.66,6.58 10.72,6.58 10.78,6.58 10.84,6.58 10.9,6.58 10.96,6.58 11.02,6.58 11.08,6.58 11.15,6.58 11.21,6.58 11.27,6.58 11.33,6.58 11.39,6.58 11.45,6.58 11.51,6.58 11.57,6.58 11.63,6.58 11.69,6.58 11.75,6.58 11.81,6.58 11.87,6.58 11.93,6.58 11.99,6.58 12.05,6.58 12.11,6.58 12.17,6.58 12.23,6.58 12.29,6.58 12.35,6.58 12.41,6.58 12.47,6.58 12.53,6.58 12.6,6.58 12.66,6.58 12.72,6.58 12.78,6.58 12.84,6.58 12.9,6.58 12.96,6.58 13.02,6.58 13.08,6.58 13.14,6.58 13.2,6.58 13.26,6.58 13.32,6.58 13.38,6.58 13.44,6.58 13.5,6.58 13.56,6.58 13.62,6.58 13.68,6.58 13.74,6.58 13.8,6.58 13.86,6.58 13.92,6.58 13.98,6.58 14.04,6.58 14.11,6.58 14.17,6.58 14.23,6.58 14.29,6.58 14.35,6.58 14.41,6.58 14.47,6.58 14.53,6.58 14.59,6.58 14.65,6.58 14.71,6.58 14.77,6.58 14.83,6.58 14.89,6.58 14.95,6.58 15.01,6.58 15.07,6.58 15.13,6.58 15.19,6.58 15.25,6.58 15.31,6.58 15.37,6.58 15.43,6.58 15.49,6.58 15.56,6.58 15.62,6.58 15.68,6.58 15.74,6.58 15.8,6.58 15.86,6.58 15.92,6.58 15.98,6.58 16.04,6.58 16.1,6.58 16.16,6.58 16.22,6.58 16.28,6.58 16.34,6.58 16.4,6.58 16.46,6.58 16.52,6.58 16.58,6.58 16.64,6.58 16.7,6.58 16.76,6.58 16.82,6.58 16.88,6.58 16.94,6.58 17,6.58 17.07,6.58 17.13,6.58 17.19,6.58 17.25,6.58 17.31,6.58 17.37,6.58 17.43,6.58 17.49,6.58 17.55,6.58 17.61,6.58 17.67,6.58 17.73,6.58 17.79,6.58 17.85,6.58 17.91,6.58 17.97,6.58 18.03,6.58 18.09,6.58 18.15,6.58 18.21,6.58 18.27,6.58 18.33,6.58 18.39,6.58 18.45,6.58 18.52,6.58 18.58,6.58 18.64,6.58 18.7,6.58 18.76,6.58 18.82,6.58 18.88,6.58 18.94,6.58 19,6.58 19.06,6.58 19.12,6.58 19.18,6.58 19.24,6.58 19.3,6.58 19.36,6.58 19.42,6.58 19.48,6.58 19.54,6.58 19.6,6.58 19.66,6.58 19.72,6.58 19.78,6.58 19.84,6.58 19.9,6.58 19.96,6.58 20.03,6.58 20.09,6.58 20.15,6.58 20.21,6.58 20.27,6.58 20.33,6.58 20.39,6.58 20.45,6.58 20.51,6.58 20.57,6.58 20.63,6.58 20.69,6.58 20.75,6.58 20.81,6.58 20.87,6.58 20.93,6.58 20.99,6.58 21.05,6.58 21.11,6.58 21.17,6.58 21.23,6.58 21.29,6.58 21.35,6.58 21.41,6.58 21.48,6.58 21.54,6.58 21.6,6.58 21.66,6.58 21.72,6.58 21.78,6.58 21.84,6.58 21.9,6.58 21.96,6.58 22.02,6.58 22.08,6.58 22.14,6.58 22.2,6.58 22.26,6.58 22.32,6.58 22.38,6.58 22.44,6.58 22.5,6.58 22.56,6.58 22.62,6.58 22.68,6.58 22.74,6.58 22.8,6.58 22.86,6.58 22.92,6.58 22.99,6.58 23.05,6.58 23.11,6.58 23.17,6.58 23.23,6.58 23.29,6.58 23.35,6.58 23.41,6.58 23.47,6.58 23.53,6.58 23.59,6.58 23.65,6.58 23.71,6.58 23.77,6.58 23.83,6.58 23.89,6.58 23.95,6.58 24.01,6.58 24.07,6.58 24.13,6.58 \" class=\"primitive\"/>\n",
       "            </g>\n",
       "          </g>\n",
       "        </g>\n",
       "      </g>\n",
       "    </g>\n",
       "  </g>\n",
       "  <g class=\"guide ylabels\" font-size=\"2.82\" font-family=\"'PT Sans Caption','Helvetica Neue','Helvetica',sans-serif\" fill=\"#6C606B\" id=\"img-227a216c-99\">\n",
       "    <g transform=\"translate(93.83,54.91)\" id=\"img-227a216c-100\">\n",
       "      <g class=\"primitive\">\n",
       "        <text text-anchor=\"end\" dy=\"0.35em\">0.5</text>\n",
       "      </g>\n",
       "    </g>\n",
       "    <g transform=\"translate(93.83,45.33)\" id=\"img-227a216c-101\">\n",
       "      <g class=\"primitive\">\n",
       "        <text text-anchor=\"end\" dy=\"0.35em\">0.6</text>\n",
       "      </g>\n",
       "    </g>\n",
       "    <g transform=\"translate(93.83,35.75)\" id=\"img-227a216c-102\">\n",
       "      <g class=\"primitive\">\n",
       "        <text text-anchor=\"end\" dy=\"0.35em\">0.7</text>\n",
       "      </g>\n",
       "    </g>\n",
       "    <g transform=\"translate(93.83,26.17)\" id=\"img-227a216c-103\">\n",
       "      <g class=\"primitive\">\n",
       "        <text text-anchor=\"end\" dy=\"0.35em\">0.8</text>\n",
       "      </g>\n",
       "    </g>\n",
       "    <g transform=\"translate(93.83,16.58)\" id=\"img-227a216c-104\">\n",
       "      <g class=\"primitive\">\n",
       "        <text text-anchor=\"end\" dy=\"0.35em\">0.9</text>\n",
       "      </g>\n",
       "    </g>\n",
       "    <g transform=\"translate(93.83,7)\" id=\"img-227a216c-105\">\n",
       "      <g class=\"primitive\">\n",
       "        <text text-anchor=\"end\" dy=\"0.35em\">1.0</text>\n",
       "      </g>\n",
       "    </g>\n",
       "  </g>\n",
       "  <g font-size=\"3.88\" font-family=\"'PT Sans','Helvetica Neue','Helvetica',sans-serif\" fill=\"#564A55\" stroke=\"#000000\" stroke-opacity=\"0.000\" id=\"img-227a216c-106\">\n",
       "    <g transform=\"translate(85.01,28.96)\" id=\"img-227a216c-107\">\n",
       "      <g class=\"primitive\">\n",
       "        <text text-anchor=\"middle\" dy=\"0.35em\" transform=\"rotate(-90,0, 2)\">Mass</text>\n",
       "      </g>\n",
       "    </g>\n",
       "  </g>\n",
       "</g>\n",
       "<g class=\"plotroot xscalable yscalable\" id=\"img-227a216c-108\">\n",
       "  <g font-size=\"3.88\" font-family=\"'PT Sans','Helvetica Neue','Helvetica',sans-serif\" fill=\"#564A55\" stroke=\"#000000\" stroke-opacity=\"0.000\" id=\"img-227a216c-109\">\n",
       "    <g transform=\"translate(46.59,64.59)\" id=\"img-227a216c-110\">\n",
       "      <g class=\"primitive\">\n",
       "        <text text-anchor=\"middle\" dy=\"0.6em\">Time (s)</text>\n",
       "      </g>\n",
       "    </g>\n",
       "  </g>\n",
       "  <g class=\"guide xlabels\" font-size=\"2.82\" font-family=\"'PT Sans Caption','Helvetica Neue','Helvetica',sans-serif\" fill=\"#6C606B\" id=\"img-227a216c-111\">\n",
       "    <g transform=\"translate(23.98,57.91)\" id=\"img-227a216c-112\">\n",
       "      <g class=\"primitive\">\n",
       "        <text text-anchor=\"middle\" dy=\"0.6em\">0.00</text>\n",
       "      </g>\n",
       "    </g>\n",
       "    <g transform=\"translate(35.28,57.91)\" id=\"img-227a216c-113\">\n",
       "      <g class=\"primitive\">\n",
       "        <text text-anchor=\"middle\" dy=\"0.6em\">0.05</text>\n",
       "      </g>\n",
       "    </g>\n",
       "    <g transform=\"translate(46.59,57.91)\" id=\"img-227a216c-114\">\n",
       "      <g class=\"primitive\">\n",
       "        <text text-anchor=\"middle\" dy=\"0.6em\">0.10</text>\n",
       "      </g>\n",
       "    </g>\n",
       "    <g transform=\"translate(57.89,57.91)\" id=\"img-227a216c-115\">\n",
       "      <g class=\"primitive\">\n",
       "        <text text-anchor=\"middle\" dy=\"0.6em\">0.15</text>\n",
       "      </g>\n",
       "    </g>\n",
       "    <g transform=\"translate(69.2,57.91)\" id=\"img-227a216c-116\">\n",
       "      <g class=\"primitive\">\n",
       "        <text text-anchor=\"middle\" dy=\"0.6em\">0.20</text>\n",
       "      </g>\n",
       "    </g>\n",
       "  </g>\n",
       "  <g clip-path=\"url(#img-227a216c-117)\">\n",
       "    <g id=\"img-227a216c-118\">\n",
       "      <g pointer-events=\"visible\" stroke-width=\"0.3\" fill=\"#000000\" fill-opacity=\"0.000\" stroke=\"#000000\" stroke-opacity=\"0.000\" class=\"guide background\" id=\"img-227a216c-119\">\n",
       "        <g transform=\"translate(46.59,30.96)\" id=\"img-227a216c-120\">\n",
       "          <path d=\"M-24.61,-25.96 L24.61,-25.96 24.61,25.96 -24.61,25.96  z\" class=\"primitive\"/>\n",
       "        </g>\n",
       "      </g>\n",
       "      <g class=\"guide ygridlines xfixed\" stroke-dasharray=\"0.5,0.5\" stroke-width=\"0.2\" stroke=\"#D0D0E0\" id=\"img-227a216c-121\">\n",
       "        <g transform=\"translate(46.59,54.91)\" id=\"img-227a216c-122\">\n",
       "          <path fill=\"none\" d=\"M-24.61,0 L24.61,0 \" class=\"primitive\"/>\n",
       "        </g>\n",
       "        <g transform=\"translate(46.59,38.94)\" id=\"img-227a216c-123\">\n",
       "          <path fill=\"none\" d=\"M-24.61,0 L24.61,0 \" class=\"primitive\"/>\n",
       "        </g>\n",
       "        <g transform=\"translate(46.59,22.97)\" id=\"img-227a216c-124\">\n",
       "          <path fill=\"none\" d=\"M-24.61,0 L24.61,0 \" class=\"primitive\"/>\n",
       "        </g>\n",
       "        <g transform=\"translate(46.59,7)\" id=\"img-227a216c-125\">\n",
       "          <path fill=\"none\" d=\"M-24.61,0 L24.61,0 \" class=\"primitive\"/>\n",
       "        </g>\n",
       "      </g>\n",
       "      <g class=\"guide xgridlines yfixed\" stroke-dasharray=\"0.5,0.5\" stroke-width=\"0.2\" stroke=\"#D0D0E0\" id=\"img-227a216c-126\">\n",
       "        <g transform=\"translate(23.98,30.96)\" id=\"img-227a216c-127\">\n",
       "          <path fill=\"none\" d=\"M0,-25.96 L0,25.96 \" class=\"primitive\"/>\n",
       "        </g>\n",
       "        <g transform=\"translate(35.28,30.96)\" id=\"img-227a216c-128\">\n",
       "          <path fill=\"none\" d=\"M0,-25.96 L0,25.96 \" class=\"primitive\"/>\n",
       "        </g>\n",
       "        <g transform=\"translate(46.59,30.96)\" id=\"img-227a216c-129\">\n",
       "          <path fill=\"none\" d=\"M0,-25.96 L0,25.96 \" class=\"primitive\"/>\n",
       "        </g>\n",
       "        <g transform=\"translate(57.89,30.96)\" id=\"img-227a216c-130\">\n",
       "          <path fill=\"none\" d=\"M0,-25.96 L0,25.96 \" class=\"primitive\"/>\n",
       "        </g>\n",
       "        <g transform=\"translate(69.2,30.96)\" id=\"img-227a216c-131\">\n",
       "          <path fill=\"none\" d=\"M0,-25.96 L0,25.96 \" class=\"primitive\"/>\n",
       "        </g>\n",
       "      </g>\n",
       "      <g class=\"plotpanel\" id=\"img-227a216c-132\">\n",
       "        <metadata>\n",
       "          <boundingbox value=\"21.97833333333333mm 5.0mm 49.22166666666666mm 51.91499999999999mm\"/>\n",
       "          <unitbox value=\"-0.008845317510043124 1.0156261087342169 0.2176906350200863 -0.016252217468433822\"/>\n",
       "        </metadata>\n",
       "        <g stroke-width=\"0.3\" fill=\"#000000\" fill-opacity=\"0.000\" class=\"geometry\" id=\"img-227a216c-133\">\n",
       "          <g class=\"color_LCHab{Float32}(70.0f0,60.0f0,240.0f0)\" stroke-dasharray=\"none\" stroke-opacity=\"1\" stroke=\"#00BFFF\" id=\"img-227a216c-134\">\n",
       "            <g transform=\"translate(46.5,32.12)\" id=\"img-227a216c-135\">\n",
       "              <path fill=\"none\" d=\"M-22.47,22.8 L-22.41,22.8 -22.36,22.8 -22.3,22.8 -22.25,22.79 -22.19,22.79 -22.13,22.79 -22.08,22.79 -22.02,22.78 -21.96,22.78 -21.91,22.77 -21.85,22.77 -21.8,22.76 -21.74,22.76 -21.68,22.75 -21.63,22.74 -21.57,22.73 -21.51,22.73 -21.46,22.72 -21.4,22.71 -21.35,22.7 -21.29,22.69 -21.23,22.68 -21.18,22.66 -21.12,22.65 -21.06,22.64 -21.01,22.63 -20.95,22.61 -20.9,22.6 -20.84,22.59 -20.78,22.57 -20.73,22.56 -20.67,22.54 -20.61,22.52 -20.56,22.51 -20.5,22.49 -20.45,22.47 -20.39,22.45 -20.33,22.43 -20.28,22.41 -20.22,22.39 -20.16,22.37 -20.11,22.35 -20.05,22.33 -20,22.31 -19.94,22.29 -19.88,22.26 -19.83,22.24 -19.77,22.22 -19.71,22.19 -19.66,22.17 -19.6,22.14 -19.55,22.12 -19.49,22.09 -19.43,22.06 -19.38,22.03 -19.32,22.01 -19.26,21.98 -19.21,21.95 -19.15,21.92 -19.1,21.89 -19.04,21.86 -18.98,21.83 -18.93,21.8 -18.87,21.76 -18.81,21.73 -18.76,21.7 -18.7,21.67 -18.65,21.63 -18.59,21.6 -18.53,21.56 -18.48,21.53 -18.42,21.49 -18.36,21.46 -18.31,21.42 -18.25,21.38 -18.2,21.34 -18.14,21.31 -18.08,21.27 -18.03,21.23 -17.97,21.19 -17.91,21.15 -17.86,21.11 -17.8,21.07 -17.75,21.03 -17.69,20.98 -17.63,20.94 -17.58,20.9 -17.52,20.86 -17.46,20.81 -17.41,20.77 -17.35,20.72 -17.3,20.68 -17.24,20.63 -17.18,20.59 -17.13,20.54 -17.07,20.5 -17.01,20.45 -16.96,20.4 -16.9,20.35 -16.85,20.31 -16.79,20.26 -16.73,20.21 -16.68,20.17 -16.62,20.12 -16.56,20.07 -16.51,20.02 -16.45,19.97 -16.4,19.93 -16.34,19.88 -16.28,19.83 -16.23,19.78 -16.17,19.73 -16.11,19.68 -16.06,19.63 -16,19.58 -15.95,19.54 -15.89,19.49 -15.83,19.44 -15.78,19.39 -15.72,19.34 -15.66,19.29 -15.61,19.24 -15.55,19.19 -15.5,19.13 -15.44,19.08 -15.38,19.03 -15.33,18.98 -15.27,18.93 -15.21,18.88 -15.16,18.83 -15.1,18.78 -15.05,18.72 -14.99,18.67 -14.93,18.62 -14.88,18.57 -14.82,18.51 -14.76,18.46 -14.71,18.41 -14.65,18.36 -14.6,18.3 -14.54,18.25 -14.48,18.2 -14.43,18.14 -14.37,18.09 -14.31,18.03 -14.26,17.98 -14.2,17.92 -14.15,17.87 -14.09,17.82 -14.03,17.76 -13.98,17.71 -13.92,17.65 -13.86,17.59 -13.81,17.54 -13.75,17.48 -13.7,17.43 -13.64,17.37 -13.58,17.31 -13.53,17.26 -13.47,17.2 -13.41,17.14 -13.36,17.08 -13.3,17.03 -13.25,16.97 -13.19,16.91 -13.13,16.85 -13.08,16.79 -13.02,16.74 -12.96,16.68 -12.91,16.62 -12.85,16.56 -12.8,16.5 -12.74,16.44 -12.68,16.38 -12.63,16.32 -12.57,16.26 -12.51,16.2 -12.46,16.14 -12.4,16.08 -12.35,16.02 -12.29,15.95 -12.23,15.89 -12.18,15.83 -12.12,15.77 -12.06,15.71 -12.01,15.64 -11.95,15.58 -11.9,15.52 -11.84,15.45 -11.78,15.39 -11.73,15.33 -11.67,15.26 -11.61,15.2 -11.56,15.13 -11.5,15.07 -11.45,15 -11.39,14.94 -11.33,14.87 -11.28,14.81 -11.22,14.74 -11.16,14.67 -11.11,14.61 -11.05,14.54 -11,14.47 -10.94,14.4 -10.88,14.34 -10.83,14.27 -10.77,14.2 -10.71,14.13 -10.66,14.06 -10.6,13.99 -10.55,13.92 -10.49,13.85 -10.43,13.78 -10.38,13.71 -10.32,13.64 -10.26,13.57 -10.21,13.5 -10.15,13.43 -10.1,13.35 -10.04,13.28 -9.98,13.21 -9.93,13.13 -9.87,13.06 -9.81,12.99 -9.76,12.91 -9.7,12.84 -9.65,12.76 -9.59,12.69 -9.53,12.61 -9.48,12.54 -9.42,12.46 -9.36,12.38 -9.31,12.31 -9.25,12.23 -9.2,12.15 -9.14,12.07 -9.08,12 -9.03,11.92 -8.97,11.84 -8.91,11.76 -8.86,11.68 -8.8,11.6 -8.75,11.52 -8.69,11.44 -8.63,11.36 -8.58,11.27 -8.52,11.19 -8.47,11.11 -8.41,11.03 -8.35,10.94 -8.3,10.86 -8.24,10.77 -8.18,10.69 -8.13,10.6 -8.07,10.52 -8.02,10.43 -7.96,10.34 -7.9,10.26 -7.85,10.17 -7.79,10.08 -7.73,9.99 -7.68,9.9 -7.62,9.81 -7.57,9.72 -7.51,9.63 -7.45,9.54 -7.4,9.45 -7.34,9.36 -7.28,9.27 -7.23,9.17 -7.17,9.08 -7.12,8.99 -7.06,8.89 -7,8.8 -6.95,8.7 -6.89,8.61 -6.83,8.51 -6.78,8.41 -6.72,8.31 -6.67,8.21 -6.61,8.12 -6.55,8.02 -6.5,7.92 -6.44,7.81 -6.38,7.71 -6.33,7.61 -6.27,7.51 -6.22,7.41 -6.16,7.3 -6.1,7.2 -6.05,7.09 -5.99,6.99 -5.93,6.88 -5.88,6.78 -5.82,6.67 -5.77,6.57 -5.71,6.47 -5.65,6.36 -5.6,6.26 -5.54,6.16 -5.48,6.05 -5.43,5.95 -5.37,5.85 -5.32,5.75 -5.26,5.65 -5.2,5.55 -5.15,5.44 -5.09,5.34 -5.03,5.24 -4.98,5.14 -4.92,5.04 -4.87,4.94 -4.81,4.85 -4.75,4.75 -4.7,4.65 -4.64,4.55 -4.58,4.45 -4.53,4.35 -4.47,4.26 -4.42,4.16 -4.36,4.06 -4.3,3.97 -4.25,3.87 -4.19,3.77 -4.13,3.68 -4.08,3.58 -4.02,3.49 -3.97,3.39 -3.91,3.3 -3.85,3.2 -3.8,3.11 -3.74,3.02 -3.68,2.92 -3.63,2.83 -3.57,2.74 -3.52,2.64 -3.46,2.55 -3.4,2.46 -3.35,2.37 -3.29,2.27 -3.23,2.18 -3.18,2.09 -3.12,2 -3.07,1.91 -3.01,1.82 -2.95,1.73 -2.9,1.64 -2.84,1.55 -2.78,1.46 -2.73,1.37 -2.67,1.28 -2.62,1.19 -2.56,1.1 -2.5,1.01 -2.45,0.93 -2.39,0.84 -2.33,0.75 -2.28,0.66 -2.22,0.58 -2.17,0.49 -2.11,0.4 -2.05,0.32 -2,0.23 -1.94,0.14 -1.88,0.06 -1.83,-0.03 -1.77,-0.11 -1.72,-0.2 -1.66,-0.28 -1.6,-0.37 -1.55,-0.45 -1.49,-0.54 -1.43,-0.62 -1.38,-0.71 -1.32,-0.79 -1.27,-0.87 -1.21,-0.96 -1.15,-1.04 -1.1,-1.12 -1.04,-1.2 -0.98,-1.29 -0.93,-1.37 -0.87,-1.45 -0.82,-1.53 -0.76,-1.61 -0.7,-1.69 -0.65,-1.78 -0.59,-1.86 -0.53,-1.94 -0.48,-2.02 -0.42,-2.1 -0.37,-2.18 -0.31,-2.26 -0.25,-2.34 -0.2,-2.42 -0.14,-2.49 -0.08,-2.57 -0.03,-2.65 0.03,-2.73 0.08,-2.81 0.14,-2.89 0.2,-2.96 0.25,-3.04 0.31,-3.12 0.37,-3.2 0.42,-3.27 0.48,-3.35 0.53,-3.43 0.59,-3.5 0.65,-3.58 0.7,-3.66 0.76,-3.73 0.82,-3.81 0.87,-3.88 0.93,-3.96 0.98,-4.03 1.04,-4.11 1.1,-4.18 1.15,-4.25 1.21,-4.33 1.27,-4.4 1.32,-4.48 1.38,-4.55 1.43,-4.62 1.49,-4.7 1.55,-4.77 1.6,-4.84 1.66,-4.91 1.72,-4.99 1.77,-5.06 1.83,-5.13 1.88,-5.2 1.94,-5.27 2,-5.34 2.05,-5.41 2.11,-5.48 2.17,-5.56 2.22,-5.63 2.28,-5.7 2.33,-5.77 2.39,-5.84 2.45,-5.9 2.5,-5.97 2.56,-6.04 2.62,-6.11 2.67,-6.18 2.73,-6.25 2.78,-6.32 2.84,-6.39 2.9,-6.45 2.95,-6.52 3.01,-6.59 3.07,-6.66 3.12,-6.72 3.18,-6.79 3.23,-6.86 3.29,-6.92 3.35,-6.99 3.4,-7.06 3.46,-7.12 3.52,-7.19 3.57,-7.25 3.63,-7.32 3.68,-7.38 3.74,-7.45 3.8,-7.51 3.85,-7.58 3.91,-7.64 3.97,-7.7 4.02,-7.77 4.08,-7.83 4.13,-7.9 4.19,-7.96 4.25,-8.02 4.3,-8.09 4.36,-8.15 4.42,-8.21 4.47,-8.27 4.53,-8.33 4.58,-8.4 4.64,-8.46 4.7,-8.52 4.75,-8.58 4.81,-8.64 4.87,-8.7 4.92,-8.76 4.98,-8.82 5.03,-8.88 5.09,-8.94 5.15,-9 5.2,-9.06 5.26,-9.12 5.32,-9.18 5.37,-9.24 5.43,-9.3 5.48,-9.36 5.54,-9.42 5.6,-9.48 5.65,-9.53 5.71,-9.59 5.77,-9.65 5.82,-9.71 5.88,-9.77 5.93,-9.82 5.99,-9.88 6.05,-9.94 6.1,-9.99 6.16,-10.05 6.22,-10.11 6.27,-10.16 6.33,-10.22 6.38,-10.27 6.44,-10.33 6.5,-10.38 6.55,-10.44 6.61,-10.49 6.67,-10.55 6.72,-10.6 6.78,-10.66 6.83,-10.71 6.89,-10.76 6.95,-10.82 7,-10.87 7.06,-10.92 7.12,-10.98 7.17,-11.03 7.23,-11.08 7.28,-11.13 7.34,-11.19 7.4,-11.24 7.45,-11.29 7.51,-11.34 7.57,-11.39 7.62,-11.45 7.68,-11.5 7.73,-11.55 7.79,-11.6 7.85,-11.65 7.9,-11.7 7.96,-11.75 8.02,-11.8 8.07,-11.85 8.13,-11.9 8.18,-11.95 8.24,-12 8.3,-12.04 8.35,-12.09 8.41,-12.14 8.47,-12.19 8.52,-12.24 8.58,-12.29 8.63,-12.33 8.69,-12.38 8.75,-12.43 8.8,-12.48 8.86,-12.52 8.91,-12.57 8.97,-12.62 9.03,-12.66 9.08,-12.71 9.14,-12.76 9.2,-12.8 9.25,-12.85 9.31,-12.89 9.36,-12.94 9.42,-12.98 9.48,-13.03 9.53,-13.07 9.59,-13.12 9.65,-13.16 9.7,-13.2 9.76,-13.25 9.81,-13.29 9.87,-13.34 9.93,-13.38 9.98,-13.42 10.04,-13.46 10.1,-13.51 10.15,-13.55 10.21,-13.59 10.26,-13.63 10.32,-13.68 10.38,-13.72 10.43,-13.76 10.49,-13.8 10.55,-13.84 10.6,-13.88 10.66,-13.92 10.71,-13.96 10.77,-14 10.83,-14.04 10.88,-14.08 10.94,-14.12 11,-14.16 11.05,-14.2 11.11,-14.24 11.16,-14.28 11.22,-14.32 11.28,-14.36 11.33,-14.4 11.39,-14.44 11.45,-14.47 11.5,-14.51 11.56,-14.55 11.61,-14.59 11.67,-14.62 11.73,-14.66 11.78,-14.7 11.84,-14.73 11.9,-14.77 11.95,-14.81 12.01,-14.84 12.06,-14.88 12.12,-14.91 12.18,-14.95 12.23,-14.99 12.29,-15.02 12.35,-15.06 12.4,-15.09 12.46,-15.13 12.51,-15.16 12.57,-15.19 12.63,-15.23 12.68,-15.26 12.74,-15.29 12.8,-15.33 12.85,-15.36 12.91,-15.39 12.96,-15.43 13.02,-15.46 13.08,-15.49 13.13,-15.52 13.19,-15.56 13.25,-15.59 13.3,-15.62 13.36,-15.65 13.41,-15.68 13.47,-15.71 13.53,-15.74 13.58,-15.78 13.64,-15.81 13.7,-15.84 13.75,-15.87 13.81,-15.9 13.86,-15.93 13.92,-15.96 13.98,-15.98 14.03,-16.01 14.09,-16.04 14.15,-16.07 14.2,-16.1 14.26,-16.13 14.31,-16.16 14.37,-16.18 14.43,-16.21 14.48,-16.24 14.54,-16.27 14.6,-16.29 14.65,-16.32 14.71,-16.35 14.76,-16.37 14.82,-16.4 14.88,-16.43 14.93,-16.45 14.99,-16.48 15.05,-16.51 15.1,-16.53 15.16,-16.56 15.21,-16.58 15.27,-16.61 15.33,-16.63 15.38,-16.65 15.44,-16.68 15.5,-16.7 15.55,-16.73 15.61,-16.75 15.66,-16.77 15.72,-16.8 15.78,-16.82 15.83,-16.84 15.89,-16.87 15.95,-16.89 16,-16.91 16.06,-16.93 16.11,-16.96 16.17,-16.98 16.23,-17 16.28,-17.02 16.34,-17.04 16.4,-17.06 16.45,-17.08 16.51,-17.1 16.56,-17.12 16.62,-17.15 16.68,-17.17 16.73,-17.18 16.79,-17.2 16.85,-17.22 16.9,-17.24 16.96,-17.26 17.01,-17.28 17.07,-17.3 17.13,-17.32 17.18,-17.34 17.24,-17.36 17.3,-17.37 17.35,-17.39 17.41,-17.41 17.46,-17.43 17.52,-17.44 17.58,-17.46 17.63,-17.48 17.69,-17.49 17.75,-17.51 17.8,-17.53 17.86,-17.54 17.91,-17.56 17.97,-17.57 18.03,-17.59 18.08,-17.6 18.14,-17.62 18.2,-17.63 18.25,-17.65 18.31,-17.66 18.36,-17.68 18.42,-17.69 18.48,-17.71 18.53,-17.72 18.59,-17.73 18.65,-17.75 18.7,-17.76 18.76,-17.77 18.81,-17.78 18.87,-17.8 18.93,-17.81 18.98,-17.82 19.04,-17.83 19.1,-17.85 19.15,-17.86 19.21,-17.87 19.26,-17.88 19.32,-17.89 19.38,-17.9 19.43,-17.91 19.49,-17.92 19.55,-17.93 19.6,-17.94 19.66,-17.95 19.71,-17.96 19.77,-17.97 19.83,-17.98 19.88,-17.99 19.94,-18 20,-18.01 20.05,-18.02 20.11,-18.02 20.16,-18.03 20.22,-18.04 20.28,-18.05 20.33,-18.06 20.39,-18.06 20.45,-18.07 20.5,-18.08 20.56,-18.08 20.61,-18.09 20.67,-18.1 20.73,-18.1 20.78,-18.11 20.84,-18.11 20.9,-18.12 20.95,-18.13 21.01,-18.13 21.06,-18.14 21.12,-18.14 21.18,-18.15 21.23,-18.15 21.29,-18.15 21.35,-18.16 21.4,-18.16 21.46,-18.17 21.51,-18.17 21.57,-18.17 21.63,-18.18 21.68,-18.18 21.74,-18.18 21.8,-18.18 21.85,-18.19 21.91,-18.19 21.96,-18.19 22.02,-18.19 22.08,-18.19 22.13,-18.19 22.19,-18.2 22.25,-18.2 22.3,-18.2 22.36,-18.2 22.41,-18.2 22.47,-18.2 \" class=\"primitive\"/>\n",
       "            </g>\n",
       "          </g>\n",
       "        </g>\n",
       "      </g>\n",
       "    </g>\n",
       "  </g>\n",
       "  <g class=\"guide ylabels\" font-size=\"2.82\" font-family=\"'PT Sans Caption','Helvetica Neue','Helvetica',sans-serif\" fill=\"#6C606B\" id=\"img-227a216c-136\">\n",
       "    <g transform=\"translate(20.98,54.91)\" id=\"img-227a216c-137\">\n",
       "      <g class=\"primitive\">\n",
       "        <text text-anchor=\"end\" dy=\"0.35em\">1.000</text>\n",
       "      </g>\n",
       "    </g>\n",
       "    <g transform=\"translate(20.98,38.94)\" id=\"img-227a216c-138\">\n",
       "      <g class=\"primitive\">\n",
       "        <text text-anchor=\"end\" dy=\"0.35em\">1.005</text>\n",
       "      </g>\n",
       "    </g>\n",
       "    <g transform=\"translate(20.98,22.97)\" id=\"img-227a216c-139\">\n",
       "      <g class=\"primitive\">\n",
       "        <text text-anchor=\"end\" dy=\"0.35em\">1.010</text>\n",
       "      </g>\n",
       "    </g>\n",
       "    <g transform=\"translate(20.98,7)\" id=\"img-227a216c-140\">\n",
       "      <g class=\"primitive\">\n",
       "        <text text-anchor=\"end\" dy=\"0.35em\">1.015</text>\n",
       "      </g>\n",
       "    </g>\n",
       "  </g>\n",
       "  <g font-size=\"3.88\" font-family=\"'PT Sans','Helvetica Neue','Helvetica',sans-serif\" fill=\"#564A55\" stroke=\"#000000\" stroke-opacity=\"0.000\" id=\"img-227a216c-141\">\n",
       "    <g transform=\"translate(8.81,28.96)\" id=\"img-227a216c-142\">\n",
       "      <g class=\"primitive\">\n",
       "        <text text-anchor=\"middle\" dy=\"0.35em\" transform=\"rotate(-90,0, 2)\">Altitude</text>\n",
       "      </g>\n",
       "    </g>\n",
       "  </g>\n",
       "</g>\n",
       "<defs>\n",
       "  <clipPath id=\"img-227a216c-4\">\n",
       "    <path d=\"M92.48,81.2 L147.4,81.2 147.4,133.11 92.48,133.11 \" />\n",
       "  </clipPath>\n",
       "  <clipPath id=\"img-227a216c-41\">\n",
       "    <path d=\"M21.42,81.2 L71.2,81.2 71.2,133.11 21.42,133.11 \" />\n",
       "  </clipPath>\n",
       "  <clipPath id=\"img-227a216c-78\">\n",
       "    <path d=\"M94.83,5 L147.4,5 147.4,56.91 94.83,56.91 \" />\n",
       "  </clipPath>\n",
       "  <clipPath id=\"img-227a216c-117\">\n",
       "    <path d=\"M21.98,5 L71.2,5 71.2,56.91 21.98,56.91 \" />\n",
       "  </clipPath>\n",
       "</defs>\n",
       "</svg>\n"
      ],
      "text/html": [
       "<html>\n",
       "<?xml version=\"1.0\" encoding=\"UTF-8\"?>\n",
       "<svg xmlns=\"http://www.w3.org/2000/svg\"\n",
       "     xmlns:xlink=\"http://www.w3.org/1999/xlink\"\n",
       "     xmlns:gadfly=\"http://www.gadflyjl.org/ns\"\n",
       "     version=\"1.2\"\n",
       "     width=\"152.4mm\" height=\"152.4mm\" viewBox=\"0 0 152.4 152.4\"\n",
       "     stroke=\"none\"\n",
       "     fill=\"#000000\"\n",
       "     stroke-width=\"0.3\"\n",
       "     font-size=\"3.88\"\n",
       ">\n",
       "<defs>\n",
       "  <marker id=\"arrow\" markerWidth=\"15\" markerHeight=\"7\" refX=\"5\" refY=\"3.5\" orient=\"auto\" markerUnits=\"strokeWidth\">\n",
       "    <path d=\"M0,0 L15,3.5 L0,7 z\" stroke=\"context-stroke\" fill=\"context-stroke\"/>\n",
       "  </marker>\n",
       "</defs>\n",
       "<g class=\"plotroot xscalable yscalable\" id=\"img-227a216c-1\">\n",
       "  <g font-size=\"3.88\" font-family=\"'PT Sans','Helvetica Neue','Helvetica',sans-serif\" fill=\"#564A55\" stroke=\"#000000\" stroke-opacity=\"0.000\" id=\"img-227a216c-2\">\n",
       "    <g transform=\"translate(119.94,140.79)\">\n",
       "      <g class=\"primitive\">\n",
       "        <text text-anchor=\"middle\" dy=\"0.6em\">Time (s)</text>\n",
       "      </g>\n",
       "    </g>\n",
       "  </g>\n",
       "  <g class=\"guide xlabels\" font-size=\"2.82\" font-family=\"'PT Sans Caption','Helvetica Neue','Helvetica',sans-serif\" fill=\"#6C606B\" id=\"img-227a216c-3\">\n",
       "    <g transform=\"translate(94.48,134.11)\">\n",
       "      <g class=\"primitive\">\n",
       "        <text text-anchor=\"middle\" dy=\"0.6em\">0.00</text>\n",
       "      </g>\n",
       "    </g>\n",
       "    <g transform=\"translate(107.21,134.11)\">\n",
       "      <g class=\"primitive\">\n",
       "        <text text-anchor=\"middle\" dy=\"0.6em\">0.05</text>\n",
       "      </g>\n",
       "    </g>\n",
       "    <g transform=\"translate(119.94,134.11)\">\n",
       "      <g class=\"primitive\">\n",
       "        <text text-anchor=\"middle\" dy=\"0.6em\">0.10</text>\n",
       "      </g>\n",
       "    </g>\n",
       "    <g transform=\"translate(132.67,134.11)\">\n",
       "      <g class=\"primitive\">\n",
       "        <text text-anchor=\"middle\" dy=\"0.6em\">0.15</text>\n",
       "      </g>\n",
       "    </g>\n",
       "    <g transform=\"translate(145.4,134.11)\">\n",
       "      <g class=\"primitive\">\n",
       "        <text text-anchor=\"middle\" dy=\"0.6em\">0.20</text>\n",
       "      </g>\n",
       "    </g>\n",
       "  </g>\n",
       "  <g clip-path=\"url(#img-227a216c-4)\">\n",
       "    <g id=\"img-227a216c-5\">\n",
       "      <g pointer-events=\"visible\" stroke-width=\"0.3\" fill=\"#000000\" fill-opacity=\"0.000\" stroke=\"#000000\" stroke-opacity=\"0.000\" class=\"guide background\" id=\"img-227a216c-6\">\n",
       "        <g transform=\"translate(119.94,107.16)\" id=\"img-227a216c-7\">\n",
       "          <path d=\"M-27.46,-25.96 L27.46,-25.96 27.46,25.96 -27.46,25.96  z\" class=\"primitive\"/>\n",
       "        </g>\n",
       "      </g>\n",
       "      <g class=\"guide ygridlines xfixed\" stroke-dasharray=\"0.5,0.5\" stroke-width=\"0.2\" stroke=\"#D0D0E0\" id=\"img-227a216c-8\">\n",
       "        <g transform=\"translate(119.94,131.11)\" id=\"img-227a216c-9\">\n",
       "          <path fill=\"none\" d=\"M-27.46,0 L27.46,0 \" class=\"primitive\"/>\n",
       "        </g>\n",
       "        <g transform=\"translate(119.94,119.14)\" id=\"img-227a216c-10\">\n",
       "          <path fill=\"none\" d=\"M-27.46,0 L27.46,0 \" class=\"primitive\"/>\n",
       "        </g>\n",
       "        <g transform=\"translate(119.94,107.16)\" id=\"img-227a216c-11\">\n",
       "          <path fill=\"none\" d=\"M-27.46,0 L27.46,0 \" class=\"primitive\"/>\n",
       "        </g>\n",
       "        <g transform=\"translate(119.94,95.18)\" id=\"img-227a216c-12\">\n",
       "          <path fill=\"none\" d=\"M-27.46,0 L27.46,0 \" class=\"primitive\"/>\n",
       "        </g>\n",
       "        <g transform=\"translate(119.94,83.2)\" id=\"img-227a216c-13\">\n",
       "          <path fill=\"none\" d=\"M-27.46,0 L27.46,0 \" class=\"primitive\"/>\n",
       "        </g>\n",
       "      </g>\n",
       "      <g class=\"guide xgridlines yfixed\" stroke-dasharray=\"0.5,0.5\" stroke-width=\"0.2\" stroke=\"#D0D0E0\" id=\"img-227a216c-14\">\n",
       "        <g transform=\"translate(94.48,107.16)\" id=\"img-227a216c-15\">\n",
       "          <path fill=\"none\" d=\"M0,-25.96 L0,25.96 \" class=\"primitive\"/>\n",
       "        </g>\n",
       "        <g transform=\"translate(107.21,107.16)\" id=\"img-227a216c-16\">\n",
       "          <path fill=\"none\" d=\"M0,-25.96 L0,25.96 \" class=\"primitive\"/>\n",
       "        </g>\n",
       "        <g transform=\"translate(119.94,107.16)\" id=\"img-227a216c-17\">\n",
       "          <path fill=\"none\" d=\"M0,-25.96 L0,25.96 \" class=\"primitive\"/>\n",
       "        </g>\n",
       "        <g transform=\"translate(132.67,107.16)\" id=\"img-227a216c-18\">\n",
       "          <path fill=\"none\" d=\"M0,-25.96 L0,25.96 \" class=\"primitive\"/>\n",
       "        </g>\n",
       "        <g transform=\"translate(145.4,107.16)\" id=\"img-227a216c-19\">\n",
       "          <path fill=\"none\" d=\"M0,-25.96 L0,25.96 \" class=\"primitive\"/>\n",
       "        </g>\n",
       "      </g>\n",
       "      <g class=\"plotpanel\" id=\"img-227a216c-20\">\n",
       "        <metadata>\n",
       "          <boundingbox value=\"92.48499999999999mm 81.19999999999999mm 54.91499999999999mm 51.91499999999999mm\"/>\n",
       "          <unitbox value=\"-0.007856230973190615 4.166962329124491 0.21571246194638127 -4.333924658248983\"/>\n",
       "        </metadata>\n",
       "        <g stroke-width=\"0.3\" fill=\"#000000\" fill-opacity=\"0.000\" class=\"geometry\" id=\"img-227a216c-21\">\n",
       "          <g class=\"color_LCHab{Float32}(70.0f0,60.0f0,240.0f0)\" stroke-dasharray=\"none\" stroke-opacity=\"1\" stroke=\"#00BFFF\" id=\"img-227a216c-22\">\n",
       "            <g transform=\"translate(119.85,119.05)\" id=\"img-227a216c-23\">\n",
       "              <path fill=\"none\" d=\"M-25.3,-29.86 L-25.24,-29.86 -25.17,-29.86 -25.11,-29.86 -25.05,-29.86 -24.98,-29.86 -24.92,-29.86 -24.86,-29.86 -24.79,-29.86 -24.73,-29.86 -24.67,-29.86 -24.6,-29.86 -24.54,-29.86 -24.48,-29.86 -24.41,-29.86 -24.35,-29.86 -24.29,-29.86 -24.22,-29.86 -24.16,-29.86 -24.1,-29.86 -24.03,-29.86 -23.97,-29.86 -23.91,-29.86 -23.84,-29.86 -23.78,-29.86 -23.72,-29.86 -23.65,-29.86 -23.59,-29.86 -23.53,-29.86 -23.46,-29.86 -23.4,-29.86 -23.34,-29.86 -23.27,-29.85 -23.21,-29.85 -23.15,-29.85 -23.08,-29.85 -23.02,-29.85 -22.96,-29.85 -22.89,-29.85 -22.83,-29.85 -22.77,-29.85 -22.7,-29.85 -22.64,-29.85 -22.58,-29.85 -22.51,-29.85 -22.45,-29.85 -22.39,-29.85 -22.32,-29.85 -22.26,-29.85 -22.2,-29.85 -22.13,-29.85 -22.07,-29.85 -22.01,-29.85 -21.94,-29.85 -21.88,-29.85 -21.82,-29.85 -21.75,-29.84 -21.69,-29.84 -21.63,-29.84 -21.56,-29.84 -21.5,-29.84 -21.44,-29.84 -21.37,-29.84 -21.31,-29.84 -21.25,-29.84 -21.18,-29.83 -21.12,-29.83 -21.06,-29.83 -20.99,-29.83 -20.93,-29.82 -20.87,-29.82 -20.8,-29.82 -20.74,-29.81 -20.68,-29.81 -20.61,-29.8 -20.55,-29.8 -20.49,-29.79 -20.42,-29.78 -20.36,-29.77 -20.3,-29.76 -20.23,-29.75 -20.17,-29.73 -20.11,-29.71 -20.04,-29.69 -19.98,-29.66 -19.92,-29.61 -19.85,-29.56 -19.79,-29.48 -19.73,-29.37 -19.66,-29.22 -19.6,-28.98 -19.54,-28.59 -19.47,-27.94 -19.41,-26.77 -19.35,-24.68 -19.28,-21.39 -19.22,-17.75 -19.16,-15.32 -19.09,-14.21 -19.03,-13.79 -18.97,-13.64 -18.9,-13.59 -18.84,-13.58 -18.78,-13.57 -18.71,-13.58 -18.65,-13.58 -18.59,-13.59 -18.52,-13.59 -18.46,-13.6 -18.4,-13.61 -18.33,-13.61 -18.27,-13.62 -18.21,-13.63 -18.14,-13.63 -18.08,-13.64 -18.02,-13.65 -17.95,-13.66 -17.89,-13.67 -17.83,-13.68 -17.76,-13.69 -17.7,-13.69 -17.64,-13.7 -17.57,-13.71 -17.51,-13.72 -17.45,-13.74 -17.38,-13.75 -17.32,-13.76 -17.26,-13.77 -17.19,-13.78 -17.13,-13.79 -17.07,-13.81 -17,-13.82 -16.94,-13.83 -16.88,-13.84 -16.81,-13.86 -16.75,-13.87 -16.69,-13.89 -16.62,-13.9 -16.56,-13.92 -16.5,-13.93 -16.43,-13.95 -16.37,-13.96 -16.31,-13.98 -16.24,-14 -16.18,-14.01 -16.12,-14.03 -16.05,-14.05 -15.99,-14.07 -15.93,-14.09 -15.86,-14.11 -15.8,-14.12 -15.74,-14.14 -15.67,-14.16 -15.61,-14.18 -15.55,-14.21 -15.48,-14.23 -15.42,-14.25 -15.36,-14.27 -15.29,-14.29 -15.23,-14.32 -15.17,-14.34 -15.1,-14.36 -15.04,-14.39 -14.98,-14.41 -14.91,-14.44 -14.85,-14.46 -14.79,-14.49 -14.72,-14.52 -14.66,-14.54 -14.6,-14.57 -14.53,-14.6 -14.47,-14.63 -14.41,-14.66 -14.34,-14.69 -14.28,-14.72 -14.22,-14.75 -14.15,-14.78 -14.09,-14.81 -14.03,-14.84 -13.96,-14.88 -13.9,-14.91 -13.84,-14.94 -13.77,-14.98 -13.71,-15.01 -13.65,-15.05 -13.58,-15.09 -13.52,-15.12 -13.46,-15.16 -13.39,-15.2 -13.33,-15.24 -13.27,-15.27 -13.2,-15.31 -13.14,-15.36 -13.08,-15.4 -13.01,-15.44 -12.95,-15.48 -12.89,-15.52 -12.82,-15.57 -12.76,-15.61 -12.7,-15.66 -12.63,-15.7 -12.57,-15.75 -12.51,-15.8 -12.44,-15.85 -12.38,-15.89 -12.32,-15.94 -12.25,-15.99 -12.19,-16.05 -12.13,-16.1 -12.06,-16.15 -12,-16.2 -11.94,-16.26 -11.87,-16.31 -11.81,-16.37 -11.75,-16.43 -11.68,-16.48 -11.62,-16.54 -11.56,-16.6 -11.49,-16.66 -11.43,-16.72 -11.37,-16.79 -11.3,-16.85 -11.24,-16.91 -11.18,-16.98 -11.11,-17.04 -11.05,-17.11 -10.99,-17.18 -10.92,-17.25 -10.86,-17.32 -10.8,-17.39 -10.73,-17.46 -10.67,-17.54 -10.61,-17.61 -10.54,-17.69 -10.48,-17.76 -10.42,-17.84 -10.35,-17.92 -10.29,-18 -10.23,-18.08 -10.16,-18.17 -10.1,-18.25 -10.04,-18.33 -9.97,-18.42 -9.91,-18.51 -9.85,-18.6 -9.78,-18.69 -9.72,-18.78 -9.66,-18.87 -9.59,-18.97 -9.53,-19.06 -9.47,-19.16 -9.4,-19.26 -9.34,-19.36 -9.28,-19.46 -9.21,-19.57 -9.15,-19.67 -9.09,-19.78 -9.02,-19.89 -8.96,-20 -8.9,-20.11 -8.83,-20.22 -8.77,-20.34 -8.71,-20.45 -8.64,-20.57 -8.58,-20.69 -8.52,-20.82 -8.45,-20.94 -8.39,-21.06 -8.33,-21.19 -8.26,-21.32 -8.2,-21.45 -8.14,-21.58 -8.07,-21.7 -8.01,-21.83 -7.95,-21.96 -7.88,-22.09 -7.82,-22.21 -7.76,-22.33 -7.69,-22.43 -7.63,-22.53 -7.57,-22.62 -7.5,-22.69 -7.44,-22.73 -7.38,-22.74 -7.31,-22.71 -7.25,-22.61 -7.19,-22.43 -7.12,-22.13 -7.06,-21.63 -7,-20.78 -6.93,-19.29 -6.87,-16.33 -6.81,-9.72 -6.74,0.09 -6.68,5.85 -6.62,8.49 -6.55,9.79 -6.49,10.51 -6.43,10.94 -6.36,11.22 -6.3,11.4 -6.24,11.53 -6.17,11.63 -6.11,11.7 -6.05,11.76 -5.98,11.8 -5.92,11.84 -5.86,11.86 -5.79,11.89 -5.73,11.91 -5.67,11.92 -5.6,11.94 -5.54,11.95 -5.48,11.96 -5.41,11.97 -5.35,11.98 -5.29,11.98 -5.22,11.99 -5.16,11.99 -5.1,12 -5.03,12 -4.97,12.01 -4.91,12.01 -4.84,12.01 -4.78,12.02 -4.72,12.02 -4.65,12.02 -4.59,12.02 -4.53,12.03 -4.46,12.03 -4.4,12.03 -4.34,12.03 -4.27,12.03 -4.21,12.03 -4.15,12.04 -4.08,12.04 -4.02,12.04 -3.96,12.04 -3.89,12.04 -3.83,12.04 -3.77,12.04 -3.7,12.04 -3.64,12.04 -3.58,12.04 -3.51,12.04 -3.45,12.04 -3.39,12.05 -3.32,12.05 -3.26,12.05 -3.2,12.05 -3.13,12.05 -3.07,12.05 -3.01,12.05 -2.94,12.05 -2.88,12.05 -2.82,12.05 -2.75,12.05 -2.69,12.05 -2.63,12.05 -2.56,12.05 -2.5,12.05 -2.44,12.05 -2.37,12.05 -2.31,12.05 -2.25,12.05 -2.18,12.05 -2.12,12.05 -2.06,12.05 -1.99,12.05 -1.93,12.05 -1.87,12.05 -1.8,12.05 -1.74,12.05 -1.68,12.05 -1.61,12.06 -1.55,12.06 -1.49,12.06 -1.42,12.06 -1.36,12.06 -1.3,12.06 -1.23,12.06 -1.17,12.06 -1.11,12.06 -1.04,12.06 -0.98,12.06 -0.92,12.06 -0.85,12.06 -0.79,12.06 -0.73,12.06 -0.66,12.06 -0.6,12.06 -0.54,12.06 -0.47,12.06 -0.41,12.06 -0.35,12.06 -0.28,12.06 -0.22,12.06 -0.16,12.06 -0.09,12.06 -0.03,12.06 0.03,12.06 0.09,12.06 0.16,12.06 0.22,12.06 0.28,12.06 0.35,12.06 0.41,12.06 0.47,12.06 0.54,12.06 0.6,12.06 0.66,12.06 0.73,12.06 0.79,12.06 0.85,12.06 0.92,12.06 0.98,12.06 1.04,12.06 1.11,12.06 1.17,12.06 1.23,12.06 1.3,12.06 1.36,12.06 1.42,12.06 1.49,12.06 1.55,12.06 1.61,12.06 1.68,12.06 1.74,12.06 1.8,12.06 1.87,12.06 1.93,12.06 1.99,12.06 2.06,12.06 2.12,12.06 2.18,12.06 2.25,12.06 2.31,12.06 2.37,12.06 2.44,12.06 2.5,12.06 2.56,12.06 2.63,12.06 2.69,12.06 2.75,12.06 2.82,12.06 2.88,12.06 2.94,12.06 3.01,12.06 3.07,12.06 3.13,12.06 3.2,12.06 3.26,12.06 3.32,12.06 3.39,12.06 3.45,12.06 3.51,12.06 3.58,12.06 3.64,12.06 3.7,12.06 3.77,12.06 3.83,12.06 3.89,12.06 3.96,12.06 4.02,12.06 4.08,12.06 4.15,12.06 4.21,12.06 4.27,12.06 4.34,12.06 4.4,12.06 4.46,12.06 4.53,12.06 4.59,12.06 4.65,12.06 4.72,12.06 4.78,12.06 4.84,12.06 4.91,12.06 4.97,12.06 5.03,12.06 5.1,12.06 5.16,12.06 5.22,12.06 5.29,12.06 5.35,12.06 5.41,12.06 5.48,12.06 5.54,12.06 5.6,12.06 5.67,12.06 5.73,12.06 5.79,12.06 5.86,12.06 5.92,12.06 5.98,12.06 6.05,12.06 6.11,12.06 6.17,12.06 6.24,12.06 6.3,12.06 6.36,12.06 6.43,12.06 6.49,12.06 6.55,12.06 6.62,12.06 6.68,12.06 6.74,12.06 6.81,12.06 6.87,12.06 6.93,12.06 7,12.06 7.06,12.06 7.12,12.06 7.19,12.06 7.25,12.06 7.31,12.06 7.38,12.06 7.44,12.06 7.5,12.06 7.57,12.06 7.63,12.06 7.69,12.06 7.76,12.06 7.82,12.06 7.88,12.06 7.95,12.06 8.01,12.06 8.07,12.06 8.14,12.06 8.2,12.06 8.26,12.06 8.33,12.06 8.39,12.06 8.45,12.06 8.52,12.06 8.58,12.06 8.64,12.06 8.71,12.06 8.77,12.06 8.83,12.06 8.9,12.06 8.96,12.06 9.02,12.06 9.09,12.06 9.15,12.06 9.21,12.06 9.28,12.06 9.34,12.06 9.4,12.06 9.47,12.06 9.53,12.06 9.59,12.06 9.66,12.06 9.72,12.06 9.78,12.06 9.85,12.06 9.91,12.06 9.97,12.06 10.04,12.06 10.1,12.06 10.16,12.06 10.23,12.06 10.29,12.06 10.35,12.06 10.42,12.06 10.48,12.06 10.54,12.06 10.61,12.06 10.67,12.06 10.73,12.06 10.8,12.06 10.86,12.06 10.92,12.06 10.99,12.06 11.05,12.06 11.11,12.06 11.18,12.06 11.24,12.06 11.3,12.06 11.37,12.06 11.43,12.06 11.49,12.06 11.56,12.06 11.62,12.06 11.68,12.06 11.75,12.06 11.81,12.06 11.87,12.06 11.94,12.06 12,12.06 12.06,12.06 12.13,12.06 12.19,12.06 12.25,12.06 12.32,12.06 12.38,12.06 12.44,12.06 12.51,12.06 12.57,12.06 12.63,12.06 12.7,12.06 12.76,12.06 12.82,12.06 12.89,12.06 12.95,12.06 13.01,12.06 13.08,12.06 13.14,12.06 13.2,12.06 13.27,12.06 13.33,12.06 13.39,12.06 13.46,12.06 13.52,12.06 13.58,12.06 13.65,12.06 13.71,12.06 13.77,12.06 13.84,12.06 13.9,12.06 13.96,12.06 14.03,12.06 14.09,12.06 14.15,12.06 14.22,12.06 14.28,12.06 14.34,12.06 14.41,12.06 14.47,12.06 14.53,12.06 14.6,12.06 14.66,12.06 14.72,12.06 14.79,12.06 14.85,12.06 14.91,12.06 14.98,12.06 15.04,12.06 15.1,12.06 15.17,12.06 15.23,12.06 15.29,12.06 15.36,12.06 15.42,12.06 15.48,12.06 15.55,12.06 15.61,12.06 15.67,12.06 15.74,12.06 15.8,12.06 15.86,12.06 15.93,12.06 15.99,12.06 16.05,12.06 16.12,12.06 16.18,12.06 16.24,12.06 16.31,12.06 16.37,12.06 16.43,12.06 16.5,12.06 16.56,12.06 16.62,12.06 16.69,12.06 16.75,12.06 16.81,12.06 16.88,12.06 16.94,12.06 17,12.06 17.07,12.06 17.13,12.06 17.19,12.06 17.26,12.06 17.32,12.06 17.38,12.06 17.45,12.06 17.51,12.06 17.57,12.06 17.64,12.06 17.7,12.06 17.76,12.06 17.83,12.06 17.89,12.06 17.95,12.06 18.02,12.06 18.08,12.06 18.14,12.06 18.21,12.06 18.27,12.06 18.33,12.06 18.4,12.06 18.46,12.06 18.52,12.06 18.59,12.06 18.65,12.06 18.71,12.06 18.78,12.06 18.84,12.06 18.9,12.06 18.97,12.06 19.03,12.06 19.09,12.06 19.16,12.06 19.22,12.06 19.28,12.06 19.35,12.06 19.41,12.06 19.47,12.06 19.54,12.06 19.6,12.06 19.66,12.06 19.73,12.06 19.79,12.06 19.85,12.06 19.92,12.06 19.98,12.06 20.04,12.06 20.11,12.06 20.17,12.06 20.23,12.06 20.3,12.06 20.36,12.06 20.42,12.06 20.49,12.06 20.55,12.06 20.61,12.06 20.68,12.06 20.74,12.06 20.8,12.06 20.87,12.06 20.93,12.06 20.99,12.06 21.06,12.06 21.12,12.06 21.18,12.06 21.25,12.06 21.31,12.06 21.37,12.06 21.44,12.06 21.5,12.06 21.56,12.06 21.63,12.06 21.69,12.06 21.75,12.06 21.82,12.06 21.88,12.06 21.94,12.06 22.01,12.06 22.07,12.06 22.13,12.06 22.2,12.06 22.26,12.06 22.32,12.06 22.39,12.06 22.45,12.06 22.51,12.06 22.58,12.06 22.64,12.06 22.7,12.06 22.77,12.06 22.83,12.06 22.89,12.06 22.96,12.06 23.02,12.06 23.08,12.06 23.15,12.06 23.21,12.06 23.27,12.06 23.34,12.06 23.4,12.06 23.46,12.06 23.53,12.06 23.59,12.06 23.65,12.06 23.72,12.06 23.78,12.06 23.84,12.06 23.91,12.06 23.97,12.06 24.03,12.06 24.1,12.06 24.16,12.06 24.22,12.06 24.29,12.06 24.35,12.06 24.41,12.06 24.48,12.06 24.54,12.06 24.6,12.06 24.67,12.06 24.73,12.06 24.79,12.06 24.86,12.06 24.92,12.06 24.98,12.06 25.05,12.06 25.11,12.06 25.17,12.06 25.24,12.05 25.3,12.04 \" class=\"primitive\"/>\n",
       "            </g>\n",
       "          </g>\n",
       "        </g>\n",
       "      </g>\n",
       "    </g>\n",
       "  </g>\n",
       "  <g class=\"guide ylabels\" font-size=\"2.82\" font-family=\"'PT Sans Caption','Helvetica Neue','Helvetica',sans-serif\" fill=\"#6C606B\" id=\"img-227a216c-24\">\n",
       "    <g transform=\"translate(91.48,131.11)\" id=\"img-227a216c-25\">\n",
       "      <g class=\"primitive\">\n",
       "        <text text-anchor=\"end\" dy=\"0.35em\">0</text>\n",
       "      </g>\n",
       "    </g>\n",
       "    <g transform=\"translate(91.48,119.14)\" id=\"img-227a216c-26\">\n",
       "      <g class=\"primitive\">\n",
       "        <text text-anchor=\"end\" dy=\"0.35em\">1</text>\n",
       "      </g>\n",
       "    </g>\n",
       "    <g transform=\"translate(91.48,107.16)\" id=\"img-227a216c-27\">\n",
       "      <g class=\"primitive\">\n",
       "        <text text-anchor=\"end\" dy=\"0.35em\">2</text>\n",
       "      </g>\n",
       "    </g>\n",
       "    <g transform=\"translate(91.48,95.18)\" id=\"img-227a216c-28\">\n",
       "      <g class=\"primitive\">\n",
       "        <text text-anchor=\"end\" dy=\"0.35em\">3</text>\n",
       "      </g>\n",
       "    </g>\n",
       "    <g transform=\"translate(91.48,83.2)\" id=\"img-227a216c-29\">\n",
       "      <g class=\"primitive\">\n",
       "        <text text-anchor=\"end\" dy=\"0.35em\">4</text>\n",
       "      </g>\n",
       "    </g>\n",
       "  </g>\n",
       "  <g font-size=\"3.88\" font-family=\"'PT Sans','Helvetica Neue','Helvetica',sans-serif\" fill=\"#564A55\" stroke=\"#000000\" stroke-opacity=\"0.000\" id=\"img-227a216c-30\">\n",
       "    <g transform=\"translate(85.01,105.16)\" id=\"img-227a216c-31\">\n",
       "      <g class=\"primitive\">\n",
       "        <text text-anchor=\"middle\" dy=\"0.35em\" transform=\"rotate(-90,0, 2)\">Thrust</text>\n",
       "      </g>\n",
       "    </g>\n",
       "  </g>\n",
       "</g>\n",
       "<g class=\"plotroot xscalable yscalable\" id=\"img-227a216c-32\">\n",
       "  <g font-size=\"3.88\" font-family=\"'PT Sans','Helvetica Neue','Helvetica',sans-serif\" fill=\"#564A55\" stroke=\"#000000\" stroke-opacity=\"0.000\" id=\"img-227a216c-33\">\n",
       "    <g transform=\"translate(46.31,140.79)\" id=\"img-227a216c-34\">\n",
       "      <g class=\"primitive\">\n",
       "        <text text-anchor=\"middle\" dy=\"0.6em\">Time (s)</text>\n",
       "      </g>\n",
       "    </g>\n",
       "  </g>\n",
       "  <g class=\"guide xlabels\" font-size=\"2.82\" font-family=\"'PT Sans Caption','Helvetica Neue','Helvetica',sans-serif\" fill=\"#6C606B\" id=\"img-227a216c-35\">\n",
       "    <g transform=\"translate(23.42,134.11)\" id=\"img-227a216c-36\">\n",
       "      <g class=\"primitive\">\n",
       "        <text text-anchor=\"middle\" dy=\"0.6em\">0.00</text>\n",
       "      </g>\n",
       "    </g>\n",
       "    <g transform=\"translate(34.86,134.11)\" id=\"img-227a216c-37\">\n",
       "      <g class=\"primitive\">\n",
       "        <text text-anchor=\"middle\" dy=\"0.6em\">0.05</text>\n",
       "      </g>\n",
       "    </g>\n",
       "    <g transform=\"translate(46.31,134.11)\" id=\"img-227a216c-38\">\n",
       "      <g class=\"primitive\">\n",
       "        <text text-anchor=\"middle\" dy=\"0.6em\">0.10</text>\n",
       "      </g>\n",
       "    </g>\n",
       "    <g transform=\"translate(57.75,134.11)\" id=\"img-227a216c-39\">\n",
       "      <g class=\"primitive\">\n",
       "        <text text-anchor=\"middle\" dy=\"0.6em\">0.15</text>\n",
       "      </g>\n",
       "    </g>\n",
       "    <g transform=\"translate(69.2,134.11)\" id=\"img-227a216c-40\">\n",
       "      <g class=\"primitive\">\n",
       "        <text text-anchor=\"middle\" dy=\"0.6em\">0.20</text>\n",
       "      </g>\n",
       "    </g>\n",
       "  </g>\n",
       "  <g clip-path=\"url(#img-227a216c-41)\">\n",
       "    <g id=\"img-227a216c-42\">\n",
       "      <g pointer-events=\"visible\" stroke-width=\"0.3\" fill=\"#000000\" fill-opacity=\"0.000\" stroke=\"#000000\" stroke-opacity=\"0.000\" class=\"guide background\" id=\"img-227a216c-43\">\n",
       "        <g transform=\"translate(46.31,107.16)\" id=\"img-227a216c-44\">\n",
       "          <path d=\"M-24.89,-25.96 L24.89,-25.96 24.89,25.96 -24.89,25.96  z\" class=\"primitive\"/>\n",
       "        </g>\n",
       "      </g>\n",
       "      <g class=\"guide ygridlines xfixed\" stroke-dasharray=\"0.5,0.5\" stroke-width=\"0.2\" stroke=\"#D0D0E0\" id=\"img-227a216c-45\">\n",
       "        <g transform=\"translate(46.31,131.11)\" id=\"img-227a216c-46\">\n",
       "          <path fill=\"none\" d=\"M-24.89,0 L24.89,0 \" class=\"primitive\"/>\n",
       "        </g>\n",
       "        <g transform=\"translate(46.31,119.14)\" id=\"img-227a216c-47\">\n",
       "          <path fill=\"none\" d=\"M-24.89,0 L24.89,0 \" class=\"primitive\"/>\n",
       "        </g>\n",
       "        <g transform=\"translate(46.31,107.16)\" id=\"img-227a216c-48\">\n",
       "          <path fill=\"none\" d=\"M-24.89,0 L24.89,0 \" class=\"primitive\"/>\n",
       "        </g>\n",
       "        <g transform=\"translate(46.31,95.18)\" id=\"img-227a216c-49\">\n",
       "          <path fill=\"none\" d=\"M-24.89,0 L24.89,0 \" class=\"primitive\"/>\n",
       "        </g>\n",
       "        <g transform=\"translate(46.31,83.2)\" id=\"img-227a216c-50\">\n",
       "          <path fill=\"none\" d=\"M-24.89,0 L24.89,0 \" class=\"primitive\"/>\n",
       "        </g>\n",
       "      </g>\n",
       "      <g class=\"guide xgridlines yfixed\" stroke-dasharray=\"0.5,0.5\" stroke-width=\"0.2\" stroke=\"#D0D0E0\" id=\"img-227a216c-51\">\n",
       "        <g transform=\"translate(23.42,107.16)\" id=\"img-227a216c-52\">\n",
       "          <path fill=\"none\" d=\"M0,-25.96 L0,25.96 \" class=\"primitive\"/>\n",
       "        </g>\n",
       "        <g transform=\"translate(34.86,107.16)\" id=\"img-227a216c-53\">\n",
       "          <path fill=\"none\" d=\"M0,-25.96 L0,25.96 \" class=\"primitive\"/>\n",
       "        </g>\n",
       "        <g transform=\"translate(46.31,107.16)\" id=\"img-227a216c-54\">\n",
       "          <path fill=\"none\" d=\"M0,-25.96 L0,25.96 \" class=\"primitive\"/>\n",
       "        </g>\n",
       "        <g transform=\"translate(57.75,107.16)\" id=\"img-227a216c-55\">\n",
       "          <path fill=\"none\" d=\"M0,-25.96 L0,25.96 \" class=\"primitive\"/>\n",
       "        </g>\n",
       "        <g transform=\"translate(69.2,107.16)\" id=\"img-227a216c-56\">\n",
       "          <path fill=\"none\" d=\"M0,-25.96 L0,25.96 \" class=\"primitive\"/>\n",
       "        </g>\n",
       "      </g>\n",
       "      <g class=\"plotpanel\" id=\"img-227a216c-57\">\n",
       "        <metadata>\n",
       "          <boundingbox value=\"21.418333333333337mm 81.19999999999999mm 49.78166666666665mm 51.91499999999999mm\"/>\n",
       "          <unitbox value=\"-0.008737121846445088 0.1583481164562246 0.2174742436928902 -0.2166962329124492\"/>\n",
       "        </metadata>\n",
       "        <g stroke-width=\"0.3\" fill=\"#000000\" fill-opacity=\"0.000\" class=\"geometry\" id=\"img-227a216c-58\">\n",
       "          <g class=\"color_LCHab{Float32}(70.0f0,60.0f0,240.0f0)\" stroke-dasharray=\"none\" stroke-opacity=\"1\" stroke=\"#00BFFF\" id=\"img-227a216c-59\">\n",
       "            <g transform=\"translate(46.22,103.69)\" id=\"img-227a216c-60\">\n",
       "              <path fill=\"none\" d=\"M-22.75,15.45 L-22.69,15.3 -22.63,15.15 -22.58,15 -22.52,14.85 -22.46,14.7 -22.41,14.55 -22.35,14.4 -22.29,14.25 -22.24,14.1 -22.18,13.94 -22.12,13.79 -22.07,13.64 -22.01,13.49 -21.95,13.34 -21.89,13.18 -21.84,13.03 -21.78,12.88 -21.72,12.72 -21.67,12.57 -21.61,12.42 -21.55,12.26 -21.5,12.11 -21.44,11.96 -21.38,11.8 -21.32,11.65 -21.27,11.49 -21.21,11.34 -21.15,11.19 -21.1,11.03 -21.04,10.88 -20.98,10.73 -20.93,10.57 -20.87,10.42 -20.81,10.27 -20.76,10.11 -20.7,9.96 -20.64,9.81 -20.58,9.65 -20.53,9.5 -20.47,9.35 -20.41,9.2 -20.36,9.04 -20.3,8.89 -20.24,8.74 -20.19,8.59 -20.13,8.44 -20.07,8.29 -20.02,8.13 -19.96,7.98 -19.9,7.83 -19.84,7.68 -19.79,7.53 -19.73,7.38 -19.67,7.23 -19.62,7.09 -19.56,6.94 -19.5,6.79 -19.45,6.64 -19.39,6.49 -19.33,6.34 -19.28,6.2 -19.22,6.05 -19.16,5.9 -19.1,5.76 -19.05,5.61 -18.99,5.47 -18.93,5.32 -18.88,5.18 -18.82,5.03 -18.76,4.89 -18.71,4.74 -18.65,4.6 -18.59,4.46 -18.53,4.31 -18.48,4.17 -18.42,4.03 -18.36,3.89 -18.31,3.75 -18.25,3.61 -18.19,3.46 -18.14,3.32 -18.08,3.18 -18.02,3.05 -17.97,2.91 -17.91,2.77 -17.85,2.63 -17.79,2.49 -17.74,2.36 -17.68,2.22 -17.62,2.09 -17.57,1.96 -17.51,1.83 -17.45,1.71 -17.4,1.59 -17.34,1.5 -17.28,1.42 -17.23,1.36 -17.17,1.31 -17.11,1.27 -17.05,1.23 -17,1.19 -16.94,1.15 -16.88,1.1 -16.83,1.06 -16.77,1.02 -16.71,0.98 -16.66,0.93 -16.6,0.89 -16.54,0.85 -16.48,0.81 -16.43,0.76 -16.37,0.72 -16.31,0.67 -16.26,0.63 -16.2,0.58 -16.14,0.54 -16.09,0.49 -16.03,0.45 -15.97,0.4 -15.92,0.36 -15.86,0.31 -15.8,0.26 -15.74,0.22 -15.69,0.17 -15.63,0.12 -15.57,0.07 -15.52,0.03 -15.46,-0.02 -15.4,-0.07 -15.35,-0.12 -15.29,-0.17 -15.23,-0.22 -15.18,-0.27 -15.12,-0.32 -15.06,-0.37 -15,-0.42 -14.95,-0.47 -14.89,-0.53 -14.83,-0.58 -14.78,-0.63 -14.72,-0.68 -14.66,-0.74 -14.61,-0.79 -14.55,-0.85 -14.49,-0.9 -14.43,-0.95 -14.38,-1.01 -14.32,-1.06 -14.26,-1.12 -14.21,-1.18 -14.15,-1.23 -14.09,-1.29 -14.04,-1.35 -13.98,-1.41 -13.92,-1.46 -13.87,-1.52 -13.81,-1.58 -13.75,-1.64 -13.69,-1.7 -13.64,-1.76 -13.58,-1.82 -13.52,-1.88 -13.47,-1.94 -13.41,-2.01 -13.35,-2.07 -13.3,-2.13 -13.24,-2.19 -13.18,-2.26 -13.13,-2.32 -13.07,-2.39 -13.01,-2.45 -12.95,-2.52 -12.9,-2.58 -12.84,-2.65 -12.78,-2.72 -12.73,-2.79 -12.67,-2.85 -12.61,-2.92 -12.56,-2.99 -12.5,-3.06 -12.44,-3.13 -12.38,-3.2 -12.33,-3.27 -12.27,-3.34 -12.21,-3.42 -12.16,-3.49 -12.1,-3.56 -12.04,-3.64 -11.99,-3.71 -11.93,-3.79 -11.87,-3.86 -11.82,-3.94 -11.76,-4.02 -11.7,-4.09 -11.64,-4.17 -11.59,-4.25 -11.53,-4.33 -11.47,-4.41 -11.42,-4.49 -11.36,-4.57 -11.3,-4.66 -11.25,-4.74 -11.19,-4.82 -11.13,-4.91 -11.08,-4.99 -11.02,-5.08 -10.96,-5.16 -10.9,-5.25 -10.85,-5.34 -10.79,-5.43 -10.73,-5.51 -10.68,-5.6 -10.62,-5.7 -10.56,-5.79 -10.51,-5.88 -10.45,-5.97 -10.39,-6.07 -10.34,-6.16 -10.28,-6.26 -10.22,-6.35 -10.16,-6.45 -10.11,-6.55 -10.05,-6.65 -9.99,-6.75 -9.94,-6.85 -9.88,-6.95 -9.82,-7.05 -9.77,-7.15 -9.71,-7.26 -9.65,-7.36 -9.59,-7.47 -9.54,-7.58 -9.48,-7.68 -9.42,-7.79 -9.37,-7.9 -9.31,-8.01 -9.25,-8.13 -9.2,-8.24 -9.14,-8.35 -9.08,-8.47 -9.03,-8.59 -8.97,-8.7 -8.91,-8.82 -8.85,-8.94 -8.8,-9.06 -8.74,-9.19 -8.68,-9.31 -8.63,-9.43 -8.57,-9.56 -8.51,-9.69 -8.46,-9.81 -8.4,-9.94 -8.34,-10.07 -8.29,-10.21 -8.23,-10.34 -8.17,-10.47 -8.11,-10.61 -8.06,-10.75 -8,-10.89 -7.94,-11.03 -7.89,-11.17 -7.83,-11.31 -7.77,-11.46 -7.72,-11.6 -7.66,-11.75 -7.6,-11.9 -7.54,-12.05 -7.49,-12.2 -7.43,-12.36 -7.37,-12.51 -7.32,-12.67 -7.26,-12.83 -7.2,-12.99 -7.15,-13.15 -7.09,-13.32 -7.03,-13.48 -6.98,-13.65 -6.92,-13.82 -6.86,-13.99 -6.8,-14.16 -6.75,-14.34 -6.69,-14.51 -6.63,-14.69 -6.58,-14.86 -6.52,-15.04 -6.46,-15.21 -6.41,-15.39 -6.35,-15.56 -6.29,-15.73 -6.24,-15.89 -6.18,-16.03 -6.12,-16.13 -6.06,-16.17 -6.01,-16.14 -5.95,-16.08 -5.89,-16 -5.84,-15.91 -5.78,-15.82 -5.72,-15.73 -5.67,-15.64 -5.61,-15.55 -5.55,-15.46 -5.49,-15.36 -5.44,-15.27 -5.38,-15.18 -5.32,-15.09 -5.27,-15 -5.21,-14.91 -5.15,-14.82 -5.1,-14.73 -5.04,-14.64 -4.98,-14.55 -4.93,-14.46 -4.87,-14.37 -4.81,-14.29 -4.75,-14.2 -4.7,-14.12 -4.64,-14.03 -4.58,-13.95 -4.53,-13.86 -4.47,-13.78 -4.41,-13.7 -4.36,-13.61 -4.3,-13.53 -4.24,-13.45 -4.19,-13.37 -4.13,-13.29 -4.07,-13.21 -4.01,-13.13 -3.96,-13.05 -3.9,-12.97 -3.84,-12.89 -3.79,-12.81 -3.73,-12.74 -3.67,-12.66 -3.62,-12.58 -3.56,-12.51 -3.5,-12.43 -3.45,-12.35 -3.39,-12.28 -3.33,-12.2 -3.27,-12.13 -3.22,-12.05 -3.16,-11.98 -3.1,-11.9 -3.05,-11.83 -2.99,-11.76 -2.93,-11.68 -2.88,-11.61 -2.82,-11.54 -2.76,-11.47 -2.7,-11.39 -2.65,-11.32 -2.59,-11.25 -2.53,-11.18 -2.48,-11.11 -2.42,-11.04 -2.36,-10.97 -2.31,-10.9 -2.25,-10.82 -2.19,-10.76 -2.14,-10.69 -2.08,-10.62 -2.02,-10.55 -1.96,-10.48 -1.91,-10.41 -1.85,-10.34 -1.79,-10.27 -1.74,-10.2 -1.68,-10.13 -1.62,-10.07 -1.57,-10 -1.51,-9.93 -1.45,-9.86 -1.4,-9.8 -1.34,-9.73 -1.28,-9.66 -1.22,-9.59 -1.17,-9.53 -1.11,-9.46 -1.05,-9.39 -1,-9.33 -0.94,-9.26 -0.88,-9.2 -0.83,-9.13 -0.77,-9.06 -0.71,-9 -0.65,-8.93 -0.6,-8.87 -0.54,-8.8 -0.48,-8.74 -0.43,-8.67 -0.37,-8.61 -0.31,-8.54 -0.26,-8.48 -0.2,-8.41 -0.14,-8.35 -0.09,-8.29 -0.03,-8.22 0.03,-8.16 0.09,-8.09 0.14,-8.03 0.2,-7.96 0.26,-7.9 0.31,-7.84 0.37,-7.77 0.43,-7.71 0.48,-7.65 0.54,-7.58 0.6,-7.52 0.65,-7.46 0.71,-7.39 0.77,-7.33 0.83,-7.27 0.88,-7.21 0.94,-7.14 1,-7.08 1.05,-7.02 1.11,-6.95 1.17,-6.89 1.22,-6.83 1.28,-6.77 1.34,-6.71 1.4,-6.64 1.45,-6.58 1.51,-6.52 1.57,-6.46 1.62,-6.39 1.68,-6.33 1.74,-6.27 1.79,-6.21 1.85,-6.15 1.91,-6.09 1.96,-6.02 2.02,-5.96 2.08,-5.9 2.14,-5.84 2.19,-5.78 2.25,-5.72 2.31,-5.66 2.36,-5.59 2.42,-5.53 2.48,-5.47 2.53,-5.41 2.59,-5.35 2.65,-5.29 2.7,-5.23 2.76,-5.17 2.82,-5.11 2.88,-5.05 2.93,-4.98 2.99,-4.92 3.05,-4.86 3.1,-4.8 3.16,-4.74 3.22,-4.68 3.27,-4.62 3.33,-4.56 3.39,-4.5 3.45,-4.44 3.5,-4.38 3.56,-4.32 3.62,-4.26 3.67,-4.2 3.73,-4.14 3.79,-4.08 3.84,-4.02 3.9,-3.96 3.96,-3.9 4.01,-3.84 4.07,-3.78 4.13,-3.72 4.19,-3.66 4.24,-3.6 4.3,-3.54 4.36,-3.48 4.41,-3.42 4.47,-3.36 4.53,-3.3 4.58,-3.24 4.64,-3.18 4.7,-3.12 4.75,-3.06 4.81,-3 4.87,-2.94 4.93,-2.88 4.98,-2.82 5.04,-2.76 5.1,-2.7 5.15,-2.64 5.21,-2.58 5.27,-2.52 5.32,-2.46 5.38,-2.4 5.44,-2.34 5.49,-2.28 5.55,-2.22 5.61,-2.16 5.67,-2.1 5.72,-2.04 5.78,-1.98 5.84,-1.92 5.89,-1.87 5.95,-1.81 6.01,-1.75 6.06,-1.69 6.12,-1.63 6.18,-1.57 6.24,-1.51 6.29,-1.45 6.35,-1.39 6.41,-1.33 6.46,-1.27 6.52,-1.21 6.58,-1.15 6.63,-1.1 6.69,-1.04 6.75,-0.98 6.8,-0.92 6.86,-0.86 6.92,-0.8 6.98,-0.74 7.03,-0.68 7.09,-0.62 7.15,-0.56 7.2,-0.5 7.26,-0.45 7.32,-0.39 7.37,-0.33 7.43,-0.27 7.49,-0.21 7.54,-0.15 7.6,-0.09 7.66,-0.03 7.72,0.03 7.77,0.09 7.83,0.14 7.89,0.2 7.94,0.26 8,0.32 8.06,0.38 8.11,0.44 8.17,0.5 8.23,0.56 8.29,0.62 8.34,0.67 8.4,0.73 8.46,0.79 8.51,0.85 8.57,0.91 8.63,0.97 8.68,1.03 8.74,1.09 8.8,1.14 8.85,1.2 8.91,1.26 8.97,1.32 9.03,1.38 9.08,1.44 9.14,1.5 9.2,1.56 9.25,1.61 9.31,1.67 9.37,1.73 9.42,1.79 9.48,1.85 9.54,1.91 9.59,1.97 9.65,2.02 9.71,2.08 9.77,2.14 9.82,2.2 9.88,2.26 9.94,2.32 9.99,2.38 10.05,2.43 10.11,2.49 10.16,2.55 10.22,2.61 10.28,2.67 10.34,2.73 10.39,2.79 10.45,2.84 10.51,2.9 10.56,2.96 10.62,3.02 10.68,3.08 10.73,3.14 10.79,3.2 10.85,3.25 10.9,3.31 10.96,3.37 11.02,3.43 11.08,3.49 11.13,3.55 11.19,3.6 11.25,3.66 11.3,3.72 11.36,3.78 11.42,3.84 11.47,3.9 11.53,3.96 11.59,4.01 11.64,4.07 11.7,4.13 11.76,4.19 11.82,4.25 11.87,4.31 11.93,4.36 11.99,4.42 12.04,4.48 12.1,4.54 12.16,4.6 12.21,4.66 12.27,4.71 12.33,4.77 12.38,4.83 12.44,4.89 12.5,4.95 12.56,5.01 12.61,5.06 12.67,5.12 12.73,5.18 12.78,5.24 12.84,5.3 12.9,5.36 12.95,5.41 13.01,5.47 13.07,5.53 13.13,5.59 13.18,5.65 13.24,5.71 13.3,5.76 13.35,5.82 13.41,5.88 13.47,5.94 13.52,6 13.58,6.06 13.64,6.11 13.69,6.17 13.75,6.23 13.81,6.29 13.87,6.35 13.92,6.41 13.98,6.46 14.04,6.52 14.09,6.58 14.15,6.64 14.21,6.7 14.26,6.75 14.32,6.81 14.38,6.87 14.43,6.93 14.49,6.99 14.55,7.05 14.61,7.1 14.66,7.16 14.72,7.22 14.78,7.28 14.83,7.34 14.89,7.4 14.95,7.45 15,7.51 15.06,7.57 15.12,7.63 15.18,7.69 15.23,7.74 15.29,7.8 15.35,7.86 15.4,7.92 15.46,7.98 15.52,8.04 15.57,8.09 15.63,8.15 15.69,8.21 15.74,8.27 15.8,8.33 15.86,8.38 15.92,8.44 15.97,8.5 16.03,8.56 16.09,8.62 16.14,8.68 16.2,8.73 16.26,8.79 16.31,8.85 16.37,8.91 16.43,8.97 16.48,9.02 16.54,9.08 16.6,9.14 16.66,9.2 16.71,9.26 16.77,9.32 16.83,9.37 16.88,9.43 16.94,9.49 17,9.55 17.05,9.61 17.11,9.66 17.17,9.72 17.23,9.78 17.28,9.84 17.34,9.9 17.4,9.96 17.45,10.01 17.51,10.07 17.57,10.13 17.62,10.19 17.68,10.25 17.74,10.3 17.79,10.36 17.85,10.42 17.91,10.48 17.97,10.54 18.02,10.59 18.08,10.65 18.14,10.71 18.19,10.77 18.25,10.83 18.31,10.89 18.36,10.94 18.42,11 18.48,11.06 18.53,11.12 18.59,11.18 18.65,11.23 18.71,11.29 18.76,11.35 18.82,11.41 18.88,11.47 18.93,11.52 18.99,11.58 19.05,11.64 19.1,11.7 19.16,11.76 19.22,11.82 19.28,11.87 19.33,11.93 19.39,11.99 19.45,12.05 19.5,12.11 19.56,12.16 19.62,12.22 19.67,12.28 19.73,12.34 19.79,12.4 19.84,12.45 19.9,12.51 19.96,12.57 20.02,12.63 20.07,12.69 20.13,12.74 20.19,12.8 20.24,12.86 20.3,12.92 20.36,12.98 20.41,13.04 20.47,13.09 20.53,13.15 20.58,13.21 20.64,13.27 20.7,13.33 20.76,13.38 20.81,13.44 20.87,13.5 20.93,13.56 20.98,13.62 21.04,13.67 21.1,13.73 21.15,13.79 21.21,13.85 21.27,13.91 21.32,13.96 21.38,14.02 21.44,14.08 21.5,14.14 21.55,14.2 21.61,14.26 21.67,14.31 21.72,14.37 21.78,14.43 21.84,14.49 21.89,14.55 21.95,14.6 22.01,14.66 22.07,14.72 22.12,14.78 22.18,14.84 22.24,14.89 22.29,14.95 22.35,15.01 22.41,15.07 22.46,15.13 22.52,15.18 22.58,15.24 22.63,15.3 22.69,15.36 22.75,15.42 \" class=\"primitive\"/>\n",
       "            </g>\n",
       "          </g>\n",
       "        </g>\n",
       "      </g>\n",
       "    </g>\n",
       "  </g>\n",
       "  <g class=\"guide ylabels\" font-size=\"2.82\" font-family=\"'PT Sans Caption','Helvetica Neue','Helvetica',sans-serif\" fill=\"#6C606B\" id=\"img-227a216c-61\">\n",
       "    <g transform=\"translate(20.42,131.11)\" id=\"img-227a216c-62\">\n",
       "      <g class=\"primitive\">\n",
       "        <text text-anchor=\"end\" dy=\"0.35em\">-0.05</text>\n",
       "      </g>\n",
       "    </g>\n",
       "    <g transform=\"translate(20.42,119.14)\" id=\"img-227a216c-63\">\n",
       "      <g class=\"primitive\">\n",
       "        <text text-anchor=\"end\" dy=\"0.35em\">0.00</text>\n",
       "      </g>\n",
       "    </g>\n",
       "    <g transform=\"translate(20.42,107.16)\" id=\"img-227a216c-64\">\n",
       "      <g class=\"primitive\">\n",
       "        <text text-anchor=\"end\" dy=\"0.35em\">0.05</text>\n",
       "      </g>\n",
       "    </g>\n",
       "    <g transform=\"translate(20.42,95.18)\" id=\"img-227a216c-65\">\n",
       "      <g class=\"primitive\">\n",
       "        <text text-anchor=\"end\" dy=\"0.35em\">0.10</text>\n",
       "      </g>\n",
       "    </g>\n",
       "    <g transform=\"translate(20.42,83.2)\" id=\"img-227a216c-66\">\n",
       "      <g class=\"primitive\">\n",
       "        <text text-anchor=\"end\" dy=\"0.35em\">0.15</text>\n",
       "      </g>\n",
       "    </g>\n",
       "  </g>\n",
       "  <g font-size=\"3.88\" font-family=\"'PT Sans','Helvetica Neue','Helvetica',sans-serif\" fill=\"#564A55\" stroke=\"#000000\" stroke-opacity=\"0.000\" id=\"img-227a216c-67\">\n",
       "    <g transform=\"translate(8.81,105.16)\" id=\"img-227a216c-68\">\n",
       "      <g class=\"primitive\">\n",
       "        <text text-anchor=\"middle\" dy=\"0.35em\" transform=\"rotate(-90,0, 2)\">Velocity</text>\n",
       "      </g>\n",
       "    </g>\n",
       "  </g>\n",
       "</g>\n",
       "<g class=\"plotroot xscalable yscalable\" id=\"img-227a216c-69\">\n",
       "  <g font-size=\"3.88\" font-family=\"'PT Sans','Helvetica Neue','Helvetica',sans-serif\" fill=\"#564A55\" stroke=\"#000000\" stroke-opacity=\"0.000\" id=\"img-227a216c-70\">\n",
       "    <g transform=\"translate(121.12,64.59)\" id=\"img-227a216c-71\">\n",
       "      <g class=\"primitive\">\n",
       "        <text text-anchor=\"middle\" dy=\"0.6em\">Time (s)</text>\n",
       "      </g>\n",
       "    </g>\n",
       "  </g>\n",
       "  <g class=\"guide xlabels\" font-size=\"2.82\" font-family=\"'PT Sans Caption','Helvetica Neue','Helvetica',sans-serif\" fill=\"#6C606B\" id=\"img-227a216c-72\">\n",
       "    <g transform=\"translate(96.83,57.91)\" id=\"img-227a216c-73\">\n",
       "      <g class=\"primitive\">\n",
       "        <text text-anchor=\"middle\" dy=\"0.6em\">0.00</text>\n",
       "      </g>\n",
       "    </g>\n",
       "    <g transform=\"translate(108.97,57.91)\" id=\"img-227a216c-74\">\n",
       "      <g class=\"primitive\">\n",
       "        <text text-anchor=\"middle\" dy=\"0.6em\">0.05</text>\n",
       "      </g>\n",
       "    </g>\n",
       "    <g transform=\"translate(121.12,57.91)\" id=\"img-227a216c-75\">\n",
       "      <g class=\"primitive\">\n",
       "        <text text-anchor=\"middle\" dy=\"0.6em\">0.10</text>\n",
       "      </g>\n",
       "    </g>\n",
       "    <g transform=\"translate(133.26,57.91)\" id=\"img-227a216c-76\">\n",
       "      <g class=\"primitive\">\n",
       "        <text text-anchor=\"middle\" dy=\"0.6em\">0.15</text>\n",
       "      </g>\n",
       "    </g>\n",
       "    <g transform=\"translate(145.4,57.91)\" id=\"img-227a216c-77\">\n",
       "      <g class=\"primitive\">\n",
       "        <text text-anchor=\"middle\" dy=\"0.6em\">0.20</text>\n",
       "      </g>\n",
       "    </g>\n",
       "  </g>\n",
       "  <g clip-path=\"url(#img-227a216c-78)\">\n",
       "    <g id=\"img-227a216c-79\">\n",
       "      <g pointer-events=\"visible\" stroke-width=\"0.3\" fill=\"#000000\" fill-opacity=\"0.000\" stroke=\"#000000\" stroke-opacity=\"0.000\" class=\"guide background\" id=\"img-227a216c-80\">\n",
       "        <g transform=\"translate(121.12,30.96)\" id=\"img-227a216c-81\">\n",
       "          <path d=\"M-26.28,-25.96 L26.28,-25.96 26.28,25.96 -26.28,25.96  z\" class=\"primitive\"/>\n",
       "        </g>\n",
       "      </g>\n",
       "      <g class=\"guide ygridlines xfixed\" stroke-dasharray=\"0.5,0.5\" stroke-width=\"0.2\" stroke=\"#D0D0E0\" id=\"img-227a216c-82\">\n",
       "        <g transform=\"translate(121.12,54.91)\" id=\"img-227a216c-83\">\n",
       "          <path fill=\"none\" d=\"M-26.28,0 L26.28,0 \" class=\"primitive\"/>\n",
       "        </g>\n",
       "        <g transform=\"translate(121.12,45.33)\" id=\"img-227a216c-84\">\n",
       "          <path fill=\"none\" d=\"M-26.28,0 L26.28,0 \" class=\"primitive\"/>\n",
       "        </g>\n",
       "        <g transform=\"translate(121.12,35.75)\" id=\"img-227a216c-85\">\n",
       "          <path fill=\"none\" d=\"M-26.28,0 L26.28,0 \" class=\"primitive\"/>\n",
       "        </g>\n",
       "        <g transform=\"translate(121.12,26.17)\" id=\"img-227a216c-86\">\n",
       "          <path fill=\"none\" d=\"M-26.28,0 L26.28,0 \" class=\"primitive\"/>\n",
       "        </g>\n",
       "        <g transform=\"translate(121.12,16.58)\" id=\"img-227a216c-87\">\n",
       "          <path fill=\"none\" d=\"M-26.28,0 L26.28,0 \" class=\"primitive\"/>\n",
       "        </g>\n",
       "        <g transform=\"translate(121.12,7)\" id=\"img-227a216c-88\">\n",
       "          <path fill=\"none\" d=\"M-26.28,0 L26.28,0 \" class=\"primitive\"/>\n",
       "        </g>\n",
       "      </g>\n",
       "      <g class=\"guide xgridlines yfixed\" stroke-dasharray=\"0.5,0.5\" stroke-width=\"0.2\" stroke=\"#D0D0E0\" id=\"img-227a216c-89\">\n",
       "        <g transform=\"translate(96.83,30.96)\" id=\"img-227a216c-90\">\n",
       "          <path fill=\"none\" d=\"M0,-25.96 L0,25.96 \" class=\"primitive\"/>\n",
       "        </g>\n",
       "        <g transform=\"translate(108.97,30.96)\" id=\"img-227a216c-91\">\n",
       "          <path fill=\"none\" d=\"M0,-25.96 L0,25.96 \" class=\"primitive\"/>\n",
       "        </g>\n",
       "        <g transform=\"translate(121.12,30.96)\" id=\"img-227a216c-92\">\n",
       "          <path fill=\"none\" d=\"M0,-25.96 L0,25.96 \" class=\"primitive\"/>\n",
       "        </g>\n",
       "        <g transform=\"translate(133.26,30.96)\" id=\"img-227a216c-93\">\n",
       "          <path fill=\"none\" d=\"M0,-25.96 L0,25.96 \" class=\"primitive\"/>\n",
       "        </g>\n",
       "        <g transform=\"translate(145.4,30.96)\" id=\"img-227a216c-94\">\n",
       "          <path fill=\"none\" d=\"M0,-25.96 L0,25.96 \" class=\"primitive\"/>\n",
       "        </g>\n",
       "      </g>\n",
       "      <g class=\"plotpanel\" id=\"img-227a216c-95\">\n",
       "        <metadata>\n",
       "          <boundingbox value=\"94.83166666666665mm 5.0mm 52.56833333333332mm 51.91499999999999mm\"/>\n",
       "          <unitbox value=\"-0.00823581894924677 1.0208702911405614 0.21647163789849358 -0.5417405822811229\"/>\n",
       "        </metadata>\n",
       "        <g stroke-width=\"0.3\" fill=\"#000000\" fill-opacity=\"0.000\" class=\"geometry\" id=\"img-227a216c-96\">\n",
       "          <g class=\"color_LCHab{Float32}(70.0f0,60.0f0,240.0f0)\" stroke-dasharray=\"none\" stroke-opacity=\"1\" stroke=\"#00BFFF\" id=\"img-227a216c-97\">\n",
       "            <g transform=\"translate(121.03,38.75)\" id=\"img-227a216c-98\">\n",
       "              <path fill=\"none\" d=\"M-24.13,-31.75 L-24.07,-31.59 -24.01,-31.42 -23.95,-31.25 -23.89,-31.09 -23.83,-30.92 -23.77,-30.75 -23.71,-30.59 -23.65,-30.42 -23.59,-30.25 -23.53,-30.09 -23.47,-29.92 -23.41,-29.75 -23.35,-29.59 -23.29,-29.42 -23.23,-29.25 -23.17,-29.08 -23.11,-28.92 -23.05,-28.75 -22.99,-28.58 -22.92,-28.42 -22.86,-28.25 -22.8,-28.08 -22.74,-27.92 -22.68,-27.75 -22.62,-27.58 -22.56,-27.42 -22.5,-27.25 -22.44,-27.08 -22.38,-26.92 -22.32,-26.75 -22.26,-26.58 -22.2,-26.42 -22.14,-26.25 -22.08,-26.08 -22.02,-25.91 -21.96,-25.75 -21.9,-25.58 -21.84,-25.41 -21.78,-25.25 -21.72,-25.08 -21.66,-24.91 -21.6,-24.75 -21.54,-24.58 -21.48,-24.41 -21.41,-24.25 -21.35,-24.08 -21.29,-23.91 -21.23,-23.75 -21.17,-23.58 -21.11,-23.41 -21.05,-23.25 -20.99,-23.08 -20.93,-22.91 -20.87,-22.74 -20.81,-22.58 -20.75,-22.41 -20.69,-22.24 -20.63,-22.08 -20.57,-21.91 -20.51,-21.74 -20.45,-21.58 -20.39,-21.41 -20.33,-21.24 -20.27,-21.08 -20.21,-20.91 -20.15,-20.74 -20.09,-20.58 -20.03,-20.41 -19.96,-20.24 -19.9,-20.08 -19.84,-19.91 -19.78,-19.74 -19.72,-19.58 -19.66,-19.41 -19.6,-19.24 -19.54,-19.08 -19.48,-18.91 -19.42,-18.74 -19.36,-18.58 -19.3,-18.41 -19.24,-18.24 -19.18,-18.08 -19.12,-17.91 -19.06,-17.75 -19,-17.58 -18.94,-17.41 -18.88,-17.25 -18.82,-17.08 -18.76,-16.92 -18.7,-16.75 -18.64,-16.59 -18.58,-16.43 -18.52,-16.27 -18.45,-16.12 -18.39,-15.98 -18.33,-15.86 -18.27,-15.74 -18.21,-15.64 -18.15,-15.53 -18.09,-15.43 -18.03,-15.33 -17.97,-15.23 -17.91,-15.13 -17.85,-15.02 -17.79,-14.92 -17.73,-14.82 -17.67,-14.72 -17.61,-14.61 -17.55,-14.51 -17.49,-14.41 -17.43,-14.31 -17.37,-14.21 -17.31,-14.1 -17.25,-14 -17.19,-13.9 -17.13,-13.8 -17.07,-13.69 -17,-13.59 -16.94,-13.49 -16.88,-13.39 -16.82,-13.28 -16.76,-13.18 -16.7,-13.08 -16.64,-12.98 -16.58,-12.87 -16.52,-12.77 -16.46,-12.67 -16.4,-12.57 -16.34,-12.46 -16.28,-12.36 -16.22,-12.26 -16.16,-12.15 -16.1,-12.05 -16.04,-11.95 -15.98,-11.84 -15.92,-11.74 -15.86,-11.64 -15.8,-11.53 -15.74,-11.43 -15.68,-11.33 -15.62,-11.22 -15.56,-11.12 -15.49,-11.02 -15.43,-10.91 -15.37,-10.81 -15.31,-10.7 -15.25,-10.6 -15.19,-10.5 -15.13,-10.39 -15.07,-10.29 -15.01,-10.18 -14.95,-10.08 -14.89,-9.98 -14.83,-9.87 -14.77,-9.77 -14.71,-9.66 -14.65,-9.56 -14.59,-9.45 -14.53,-9.35 -14.47,-9.24 -14.41,-9.14 -14.35,-9.03 -14.29,-8.93 -14.23,-8.82 -14.17,-8.72 -14.11,-8.61 -14.04,-8.5 -13.98,-8.4 -13.92,-8.29 -13.86,-8.19 -13.8,-8.08 -13.74,-7.97 -13.68,-7.87 -13.62,-7.76 -13.56,-7.65 -13.5,-7.55 -13.44,-7.44 -13.38,-7.33 -13.32,-7.23 -13.26,-7.12 -13.2,-7.01 -13.14,-6.9 -13.08,-6.8 -13.02,-6.69 -12.96,-6.58 -12.9,-6.47 -12.84,-6.36 -12.78,-6.26 -12.72,-6.15 -12.66,-6.04 -12.6,-5.93 -12.53,-5.82 -12.47,-5.71 -12.41,-5.6 -12.35,-5.49 -12.29,-5.38 -12.23,-5.27 -12.17,-5.16 -12.11,-5.05 -12.05,-4.94 -11.99,-4.83 -11.93,-4.72 -11.87,-4.61 -11.81,-4.5 -11.75,-4.39 -11.69,-4.28 -11.63,-4.16 -11.57,-4.05 -11.51,-3.94 -11.45,-3.83 -11.39,-3.71 -11.33,-3.6 -11.27,-3.49 -11.21,-3.37 -11.15,-3.26 -11.08,-3.15 -11.02,-3.03 -10.96,-2.92 -10.9,-2.8 -10.84,-2.69 -10.78,-2.58 -10.72,-2.46 -10.66,-2.34 -10.6,-2.23 -10.54,-2.11 -10.48,-2 -10.42,-1.88 -10.36,-1.76 -10.3,-1.65 -10.24,-1.53 -10.18,-1.41 -10.12,-1.29 -10.06,-1.17 -10,-1.06 -9.94,-0.94 -9.88,-0.82 -9.82,-0.7 -9.76,-0.58 -9.7,-0.46 -9.64,-0.34 -9.57,-0.22 -9.51,-0.1 -9.45,0.03 -9.39,0.15 -9.33,0.27 -9.27,0.39 -9.21,0.51 -9.15,0.64 -9.09,0.76 -9.03,0.89 -8.97,1.01 -8.91,1.14 -8.85,1.26 -8.79,1.39 -8.73,1.51 -8.67,1.64 -8.61,1.77 -8.55,1.89 -8.49,2.02 -8.43,2.15 -8.37,2.28 -8.31,2.41 -8.25,2.54 -8.19,2.67 -8.12,2.8 -8.06,2.93 -8,3.06 -7.94,3.19 -7.88,3.33 -7.82,3.46 -7.76,3.59 -7.7,3.73 -7.64,3.86 -7.58,4 -7.52,4.13 -7.46,4.27 -7.4,4.4 -7.34,4.54 -7.28,4.68 -7.22,4.82 -7.16,4.96 -7.1,5.09 -7.04,5.23 -6.98,5.37 -6.92,5.51 -6.86,5.65 -6.8,5.78 -6.74,5.92 -6.68,6.05 -6.61,6.18 -6.55,6.3 -6.49,6.4 -6.43,6.46 -6.37,6.5 -6.31,6.52 -6.25,6.53 -6.19,6.54 -6.13,6.54 -6.07,6.55 -6.01,6.55 -5.95,6.55 -5.89,6.56 -5.83,6.56 -5.77,6.56 -5.71,6.56 -5.65,6.56 -5.59,6.56 -5.53,6.56 -5.47,6.56 -5.41,6.56 -5.35,6.56 -5.29,6.56 -5.23,6.57 -5.16,6.57 -5.1,6.57 -5.04,6.57 -4.98,6.57 -4.92,6.57 -4.86,6.57 -4.8,6.57 -4.74,6.57 -4.68,6.57 -4.62,6.57 -4.56,6.57 -4.5,6.57 -4.44,6.57 -4.38,6.57 -4.32,6.57 -4.26,6.57 -4.2,6.57 -4.14,6.57 -4.08,6.57 -4.02,6.57 -3.96,6.57 -3.9,6.57 -3.84,6.57 -3.78,6.57 -3.72,6.57 -3.65,6.57 -3.59,6.57 -3.53,6.57 -3.47,6.57 -3.41,6.57 -3.35,6.57 -3.29,6.57 -3.23,6.57 -3.17,6.57 -3.11,6.57 -3.05,6.57 -2.99,6.57 -2.93,6.57 -2.87,6.57 -2.81,6.57 -2.75,6.57 -2.69,6.57 -2.63,6.57 -2.57,6.57 -2.51,6.57 -2.45,6.57 -2.39,6.57 -2.33,6.57 -2.27,6.57 -2.2,6.57 -2.14,6.57 -2.08,6.57 -2.02,6.57 -1.96,6.57 -1.9,6.57 -1.84,6.57 -1.78,6.57 -1.72,6.57 -1.66,6.57 -1.6,6.57 -1.54,6.57 -1.48,6.57 -1.42,6.57 -1.36,6.57 -1.3,6.57 -1.24,6.57 -1.18,6.57 -1.12,6.57 -1.06,6.57 -1,6.57 -0.94,6.57 -0.88,6.57 -0.82,6.57 -0.76,6.57 -0.69,6.57 -0.63,6.57 -0.57,6.57 -0.51,6.57 -0.45,6.57 -0.39,6.57 -0.33,6.57 -0.27,6.57 -0.21,6.57 -0.15,6.57 -0.09,6.57 -0.03,6.57 0.03,6.57 0.09,6.57 0.15,6.57 0.21,6.57 0.27,6.57 0.33,6.57 0.39,6.57 0.45,6.57 0.51,6.57 0.57,6.57 0.63,6.57 0.69,6.57 0.76,6.57 0.82,6.57 0.88,6.57 0.94,6.57 1,6.57 1.06,6.57 1.12,6.57 1.18,6.57 1.24,6.57 1.3,6.57 1.36,6.57 1.42,6.57 1.48,6.57 1.54,6.57 1.6,6.57 1.66,6.57 1.72,6.57 1.78,6.57 1.84,6.57 1.9,6.57 1.96,6.57 2.02,6.57 2.08,6.57 2.14,6.57 2.2,6.57 2.27,6.57 2.33,6.57 2.39,6.57 2.45,6.57 2.51,6.57 2.57,6.57 2.63,6.57 2.69,6.57 2.75,6.57 2.81,6.57 2.87,6.57 2.93,6.57 2.99,6.57 3.05,6.57 3.11,6.57 3.17,6.57 3.23,6.57 3.29,6.57 3.35,6.57 3.41,6.57 3.47,6.57 3.53,6.57 3.59,6.57 3.65,6.57 3.72,6.57 3.78,6.57 3.84,6.57 3.9,6.57 3.96,6.57 4.02,6.57 4.08,6.57 4.14,6.57 4.2,6.57 4.26,6.57 4.32,6.57 4.38,6.57 4.44,6.57 4.5,6.57 4.56,6.57 4.62,6.57 4.68,6.57 4.74,6.57 4.8,6.57 4.86,6.57 4.92,6.57 4.98,6.57 5.04,6.57 5.1,6.57 5.16,6.57 5.23,6.57 5.29,6.57 5.35,6.57 5.41,6.57 5.47,6.57 5.53,6.57 5.59,6.57 5.65,6.57 5.71,6.57 5.77,6.57 5.83,6.57 5.89,6.57 5.95,6.57 6.01,6.57 6.07,6.57 6.13,6.57 6.19,6.57 6.25,6.57 6.31,6.57 6.37,6.57 6.43,6.57 6.49,6.57 6.55,6.57 6.61,6.57 6.68,6.57 6.74,6.57 6.8,6.58 6.86,6.58 6.92,6.58 6.98,6.58 7.04,6.58 7.1,6.58 7.16,6.58 7.22,6.58 7.28,6.58 7.34,6.58 7.4,6.58 7.46,6.58 7.52,6.58 7.58,6.58 7.64,6.58 7.7,6.58 7.76,6.58 7.82,6.58 7.88,6.58 7.94,6.58 8,6.58 8.06,6.58 8.12,6.58 8.19,6.58 8.25,6.58 8.31,6.58 8.37,6.58 8.43,6.58 8.49,6.58 8.55,6.58 8.61,6.58 8.67,6.58 8.73,6.58 8.79,6.58 8.85,6.58 8.91,6.58 8.97,6.58 9.03,6.58 9.09,6.58 9.15,6.58 9.21,6.58 9.27,6.58 9.33,6.58 9.39,6.58 9.45,6.58 9.51,6.58 9.57,6.58 9.64,6.58 9.7,6.58 9.76,6.58 9.82,6.58 9.88,6.58 9.94,6.58 10,6.58 10.06,6.58 10.12,6.58 10.18,6.58 10.24,6.58 10.3,6.58 10.36,6.58 10.42,6.58 10.48,6.58 10.54,6.58 10.6,6.58 10.66,6.58 10.72,6.58 10.78,6.58 10.84,6.58 10.9,6.58 10.96,6.58 11.02,6.58 11.08,6.58 11.15,6.58 11.21,6.58 11.27,6.58 11.33,6.58 11.39,6.58 11.45,6.58 11.51,6.58 11.57,6.58 11.63,6.58 11.69,6.58 11.75,6.58 11.81,6.58 11.87,6.58 11.93,6.58 11.99,6.58 12.05,6.58 12.11,6.58 12.17,6.58 12.23,6.58 12.29,6.58 12.35,6.58 12.41,6.58 12.47,6.58 12.53,6.58 12.6,6.58 12.66,6.58 12.72,6.58 12.78,6.58 12.84,6.58 12.9,6.58 12.96,6.58 13.02,6.58 13.08,6.58 13.14,6.58 13.2,6.58 13.26,6.58 13.32,6.58 13.38,6.58 13.44,6.58 13.5,6.58 13.56,6.58 13.62,6.58 13.68,6.58 13.74,6.58 13.8,6.58 13.86,6.58 13.92,6.58 13.98,6.58 14.04,6.58 14.11,6.58 14.17,6.58 14.23,6.58 14.29,6.58 14.35,6.58 14.41,6.58 14.47,6.58 14.53,6.58 14.59,6.58 14.65,6.58 14.71,6.58 14.77,6.58 14.83,6.58 14.89,6.58 14.95,6.58 15.01,6.58 15.07,6.58 15.13,6.58 15.19,6.58 15.25,6.58 15.31,6.58 15.37,6.58 15.43,6.58 15.49,6.58 15.56,6.58 15.62,6.58 15.68,6.58 15.74,6.58 15.8,6.58 15.86,6.58 15.92,6.58 15.98,6.58 16.04,6.58 16.1,6.58 16.16,6.58 16.22,6.58 16.28,6.58 16.34,6.58 16.4,6.58 16.46,6.58 16.52,6.58 16.58,6.58 16.64,6.58 16.7,6.58 16.76,6.58 16.82,6.58 16.88,6.58 16.94,6.58 17,6.58 17.07,6.58 17.13,6.58 17.19,6.58 17.25,6.58 17.31,6.58 17.37,6.58 17.43,6.58 17.49,6.58 17.55,6.58 17.61,6.58 17.67,6.58 17.73,6.58 17.79,6.58 17.85,6.58 17.91,6.58 17.97,6.58 18.03,6.58 18.09,6.58 18.15,6.58 18.21,6.58 18.27,6.58 18.33,6.58 18.39,6.58 18.45,6.58 18.52,6.58 18.58,6.58 18.64,6.58 18.7,6.58 18.76,6.58 18.82,6.58 18.88,6.58 18.94,6.58 19,6.58 19.06,6.58 19.12,6.58 19.18,6.58 19.24,6.58 19.3,6.58 19.36,6.58 19.42,6.58 19.48,6.58 19.54,6.58 19.6,6.58 19.66,6.58 19.72,6.58 19.78,6.58 19.84,6.58 19.9,6.58 19.96,6.58 20.03,6.58 20.09,6.58 20.15,6.58 20.21,6.58 20.27,6.58 20.33,6.58 20.39,6.58 20.45,6.58 20.51,6.58 20.57,6.58 20.63,6.58 20.69,6.58 20.75,6.58 20.81,6.58 20.87,6.58 20.93,6.58 20.99,6.58 21.05,6.58 21.11,6.58 21.17,6.58 21.23,6.58 21.29,6.58 21.35,6.58 21.41,6.58 21.48,6.58 21.54,6.58 21.6,6.58 21.66,6.58 21.72,6.58 21.78,6.58 21.84,6.58 21.9,6.58 21.96,6.58 22.02,6.58 22.08,6.58 22.14,6.58 22.2,6.58 22.26,6.58 22.32,6.58 22.38,6.58 22.44,6.58 22.5,6.58 22.56,6.58 22.62,6.58 22.68,6.58 22.74,6.58 22.8,6.58 22.86,6.58 22.92,6.58 22.99,6.58 23.05,6.58 23.11,6.58 23.17,6.58 23.23,6.58 23.29,6.58 23.35,6.58 23.41,6.58 23.47,6.58 23.53,6.58 23.59,6.58 23.65,6.58 23.71,6.58 23.77,6.58 23.83,6.58 23.89,6.58 23.95,6.58 24.01,6.58 24.07,6.58 24.13,6.58 \" class=\"primitive\"/>\n",
       "            </g>\n",
       "          </g>\n",
       "        </g>\n",
       "      </g>\n",
       "    </g>\n",
       "  </g>\n",
       "  <g class=\"guide ylabels\" font-size=\"2.82\" font-family=\"'PT Sans Caption','Helvetica Neue','Helvetica',sans-serif\" fill=\"#6C606B\" id=\"img-227a216c-99\">\n",
       "    <g transform=\"translate(93.83,54.91)\" id=\"img-227a216c-100\">\n",
       "      <g class=\"primitive\">\n",
       "        <text text-anchor=\"end\" dy=\"0.35em\">0.5</text>\n",
       "      </g>\n",
       "    </g>\n",
       "    <g transform=\"translate(93.83,45.33)\" id=\"img-227a216c-101\">\n",
       "      <g class=\"primitive\">\n",
       "        <text text-anchor=\"end\" dy=\"0.35em\">0.6</text>\n",
       "      </g>\n",
       "    </g>\n",
       "    <g transform=\"translate(93.83,35.75)\" id=\"img-227a216c-102\">\n",
       "      <g class=\"primitive\">\n",
       "        <text text-anchor=\"end\" dy=\"0.35em\">0.7</text>\n",
       "      </g>\n",
       "    </g>\n",
       "    <g transform=\"translate(93.83,26.17)\" id=\"img-227a216c-103\">\n",
       "      <g class=\"primitive\">\n",
       "        <text text-anchor=\"end\" dy=\"0.35em\">0.8</text>\n",
       "      </g>\n",
       "    </g>\n",
       "    <g transform=\"translate(93.83,16.58)\" id=\"img-227a216c-104\">\n",
       "      <g class=\"primitive\">\n",
       "        <text text-anchor=\"end\" dy=\"0.35em\">0.9</text>\n",
       "      </g>\n",
       "    </g>\n",
       "    <g transform=\"translate(93.83,7)\" id=\"img-227a216c-105\">\n",
       "      <g class=\"primitive\">\n",
       "        <text text-anchor=\"end\" dy=\"0.35em\">1.0</text>\n",
       "      </g>\n",
       "    </g>\n",
       "  </g>\n",
       "  <g font-size=\"3.88\" font-family=\"'PT Sans','Helvetica Neue','Helvetica',sans-serif\" fill=\"#564A55\" stroke=\"#000000\" stroke-opacity=\"0.000\" id=\"img-227a216c-106\">\n",
       "    <g transform=\"translate(85.01,28.96)\" id=\"img-227a216c-107\">\n",
       "      <g class=\"primitive\">\n",
       "        <text text-anchor=\"middle\" dy=\"0.35em\" transform=\"rotate(-90,0, 2)\">Mass</text>\n",
       "      </g>\n",
       "    </g>\n",
       "  </g>\n",
       "</g>\n",
       "<g class=\"plotroot xscalable yscalable\" id=\"img-227a216c-108\">\n",
       "  <g font-size=\"3.88\" font-family=\"'PT Sans','Helvetica Neue','Helvetica',sans-serif\" fill=\"#564A55\" stroke=\"#000000\" stroke-opacity=\"0.000\" id=\"img-227a216c-109\">\n",
       "    <g transform=\"translate(46.59,64.59)\" id=\"img-227a216c-110\">\n",
       "      <g class=\"primitive\">\n",
       "        <text text-anchor=\"middle\" dy=\"0.6em\">Time (s)</text>\n",
       "      </g>\n",
       "    </g>\n",
       "  </g>\n",
       "  <g class=\"guide xlabels\" font-size=\"2.82\" font-family=\"'PT Sans Caption','Helvetica Neue','Helvetica',sans-serif\" fill=\"#6C606B\" id=\"img-227a216c-111\">\n",
       "    <g transform=\"translate(23.98,57.91)\" id=\"img-227a216c-112\">\n",
       "      <g class=\"primitive\">\n",
       "        <text text-anchor=\"middle\" dy=\"0.6em\">0.00</text>\n",
       "      </g>\n",
       "    </g>\n",
       "    <g transform=\"translate(35.28,57.91)\" id=\"img-227a216c-113\">\n",
       "      <g class=\"primitive\">\n",
       "        <text text-anchor=\"middle\" dy=\"0.6em\">0.05</text>\n",
       "      </g>\n",
       "    </g>\n",
       "    <g transform=\"translate(46.59,57.91)\" id=\"img-227a216c-114\">\n",
       "      <g class=\"primitive\">\n",
       "        <text text-anchor=\"middle\" dy=\"0.6em\">0.10</text>\n",
       "      </g>\n",
       "    </g>\n",
       "    <g transform=\"translate(57.89,57.91)\" id=\"img-227a216c-115\">\n",
       "      <g class=\"primitive\">\n",
       "        <text text-anchor=\"middle\" dy=\"0.6em\">0.15</text>\n",
       "      </g>\n",
       "    </g>\n",
       "    <g transform=\"translate(69.2,57.91)\" id=\"img-227a216c-116\">\n",
       "      <g class=\"primitive\">\n",
       "        <text text-anchor=\"middle\" dy=\"0.6em\">0.20</text>\n",
       "      </g>\n",
       "    </g>\n",
       "  </g>\n",
       "  <g clip-path=\"url(#img-227a216c-117)\">\n",
       "    <g id=\"img-227a216c-118\">\n",
       "      <g pointer-events=\"visible\" stroke-width=\"0.3\" fill=\"#000000\" fill-opacity=\"0.000\" stroke=\"#000000\" stroke-opacity=\"0.000\" class=\"guide background\" id=\"img-227a216c-119\">\n",
       "        <g transform=\"translate(46.59,30.96)\" id=\"img-227a216c-120\">\n",
       "          <path d=\"M-24.61,-25.96 L24.61,-25.96 24.61,25.96 -24.61,25.96  z\" class=\"primitive\"/>\n",
       "        </g>\n",
       "      </g>\n",
       "      <g class=\"guide ygridlines xfixed\" stroke-dasharray=\"0.5,0.5\" stroke-width=\"0.2\" stroke=\"#D0D0E0\" id=\"img-227a216c-121\">\n",
       "        <g transform=\"translate(46.59,54.91)\" id=\"img-227a216c-122\">\n",
       "          <path fill=\"none\" d=\"M-24.61,0 L24.61,0 \" class=\"primitive\"/>\n",
       "        </g>\n",
       "        <g transform=\"translate(46.59,38.94)\" id=\"img-227a216c-123\">\n",
       "          <path fill=\"none\" d=\"M-24.61,0 L24.61,0 \" class=\"primitive\"/>\n",
       "        </g>\n",
       "        <g transform=\"translate(46.59,22.97)\" id=\"img-227a216c-124\">\n",
       "          <path fill=\"none\" d=\"M-24.61,0 L24.61,0 \" class=\"primitive\"/>\n",
       "        </g>\n",
       "        <g transform=\"translate(46.59,7)\" id=\"img-227a216c-125\">\n",
       "          <path fill=\"none\" d=\"M-24.61,0 L24.61,0 \" class=\"primitive\"/>\n",
       "        </g>\n",
       "      </g>\n",
       "      <g class=\"guide xgridlines yfixed\" stroke-dasharray=\"0.5,0.5\" stroke-width=\"0.2\" stroke=\"#D0D0E0\" id=\"img-227a216c-126\">\n",
       "        <g transform=\"translate(23.98,30.96)\" id=\"img-227a216c-127\">\n",
       "          <path fill=\"none\" d=\"M0,-25.96 L0,25.96 \" class=\"primitive\"/>\n",
       "        </g>\n",
       "        <g transform=\"translate(35.28,30.96)\" id=\"img-227a216c-128\">\n",
       "          <path fill=\"none\" d=\"M0,-25.96 L0,25.96 \" class=\"primitive\"/>\n",
       "        </g>\n",
       "        <g transform=\"translate(46.59,30.96)\" id=\"img-227a216c-129\">\n",
       "          <path fill=\"none\" d=\"M0,-25.96 L0,25.96 \" class=\"primitive\"/>\n",
       "        </g>\n",
       "        <g transform=\"translate(57.89,30.96)\" id=\"img-227a216c-130\">\n",
       "          <path fill=\"none\" d=\"M0,-25.96 L0,25.96 \" class=\"primitive\"/>\n",
       "        </g>\n",
       "        <g transform=\"translate(69.2,30.96)\" id=\"img-227a216c-131\">\n",
       "          <path fill=\"none\" d=\"M0,-25.96 L0,25.96 \" class=\"primitive\"/>\n",
       "        </g>\n",
       "      </g>\n",
       "      <g class=\"plotpanel\" id=\"img-227a216c-132\">\n",
       "        <metadata>\n",
       "          <boundingbox value=\"21.97833333333333mm 5.0mm 49.22166666666666mm 51.91499999999999mm\"/>\n",
       "          <unitbox value=\"-0.008845317510043124 1.0156261087342169 0.2176906350200863 -0.016252217468433822\"/>\n",
       "        </metadata>\n",
       "        <g stroke-width=\"0.3\" fill=\"#000000\" fill-opacity=\"0.000\" class=\"geometry\" id=\"img-227a216c-133\">\n",
       "          <g class=\"color_LCHab{Float32}(70.0f0,60.0f0,240.0f0)\" stroke-dasharray=\"none\" stroke-opacity=\"1\" stroke=\"#00BFFF\" id=\"img-227a216c-134\">\n",
       "            <g transform=\"translate(46.5,32.12)\" id=\"img-227a216c-135\">\n",
       "              <path fill=\"none\" d=\"M-22.47,22.8 L-22.41,22.8 -22.36,22.8 -22.3,22.8 -22.25,22.79 -22.19,22.79 -22.13,22.79 -22.08,22.79 -22.02,22.78 -21.96,22.78 -21.91,22.77 -21.85,22.77 -21.8,22.76 -21.74,22.76 -21.68,22.75 -21.63,22.74 -21.57,22.73 -21.51,22.73 -21.46,22.72 -21.4,22.71 -21.35,22.7 -21.29,22.69 -21.23,22.68 -21.18,22.66 -21.12,22.65 -21.06,22.64 -21.01,22.63 -20.95,22.61 -20.9,22.6 -20.84,22.59 -20.78,22.57 -20.73,22.56 -20.67,22.54 -20.61,22.52 -20.56,22.51 -20.5,22.49 -20.45,22.47 -20.39,22.45 -20.33,22.43 -20.28,22.41 -20.22,22.39 -20.16,22.37 -20.11,22.35 -20.05,22.33 -20,22.31 -19.94,22.29 -19.88,22.26 -19.83,22.24 -19.77,22.22 -19.71,22.19 -19.66,22.17 -19.6,22.14 -19.55,22.12 -19.49,22.09 -19.43,22.06 -19.38,22.03 -19.32,22.01 -19.26,21.98 -19.21,21.95 -19.15,21.92 -19.1,21.89 -19.04,21.86 -18.98,21.83 -18.93,21.8 -18.87,21.76 -18.81,21.73 -18.76,21.7 -18.7,21.67 -18.65,21.63 -18.59,21.6 -18.53,21.56 -18.48,21.53 -18.42,21.49 -18.36,21.46 -18.31,21.42 -18.25,21.38 -18.2,21.34 -18.14,21.31 -18.08,21.27 -18.03,21.23 -17.97,21.19 -17.91,21.15 -17.86,21.11 -17.8,21.07 -17.75,21.03 -17.69,20.98 -17.63,20.94 -17.58,20.9 -17.52,20.86 -17.46,20.81 -17.41,20.77 -17.35,20.72 -17.3,20.68 -17.24,20.63 -17.18,20.59 -17.13,20.54 -17.07,20.5 -17.01,20.45 -16.96,20.4 -16.9,20.35 -16.85,20.31 -16.79,20.26 -16.73,20.21 -16.68,20.17 -16.62,20.12 -16.56,20.07 -16.51,20.02 -16.45,19.97 -16.4,19.93 -16.34,19.88 -16.28,19.83 -16.23,19.78 -16.17,19.73 -16.11,19.68 -16.06,19.63 -16,19.58 -15.95,19.54 -15.89,19.49 -15.83,19.44 -15.78,19.39 -15.72,19.34 -15.66,19.29 -15.61,19.24 -15.55,19.19 -15.5,19.13 -15.44,19.08 -15.38,19.03 -15.33,18.98 -15.27,18.93 -15.21,18.88 -15.16,18.83 -15.1,18.78 -15.05,18.72 -14.99,18.67 -14.93,18.62 -14.88,18.57 -14.82,18.51 -14.76,18.46 -14.71,18.41 -14.65,18.36 -14.6,18.3 -14.54,18.25 -14.48,18.2 -14.43,18.14 -14.37,18.09 -14.31,18.03 -14.26,17.98 -14.2,17.92 -14.15,17.87 -14.09,17.82 -14.03,17.76 -13.98,17.71 -13.92,17.65 -13.86,17.59 -13.81,17.54 -13.75,17.48 -13.7,17.43 -13.64,17.37 -13.58,17.31 -13.53,17.26 -13.47,17.2 -13.41,17.14 -13.36,17.08 -13.3,17.03 -13.25,16.97 -13.19,16.91 -13.13,16.85 -13.08,16.79 -13.02,16.74 -12.96,16.68 -12.91,16.62 -12.85,16.56 -12.8,16.5 -12.74,16.44 -12.68,16.38 -12.63,16.32 -12.57,16.26 -12.51,16.2 -12.46,16.14 -12.4,16.08 -12.35,16.02 -12.29,15.95 -12.23,15.89 -12.18,15.83 -12.12,15.77 -12.06,15.71 -12.01,15.64 -11.95,15.58 -11.9,15.52 -11.84,15.45 -11.78,15.39 -11.73,15.33 -11.67,15.26 -11.61,15.2 -11.56,15.13 -11.5,15.07 -11.45,15 -11.39,14.94 -11.33,14.87 -11.28,14.81 -11.22,14.74 -11.16,14.67 -11.11,14.61 -11.05,14.54 -11,14.47 -10.94,14.4 -10.88,14.34 -10.83,14.27 -10.77,14.2 -10.71,14.13 -10.66,14.06 -10.6,13.99 -10.55,13.92 -10.49,13.85 -10.43,13.78 -10.38,13.71 -10.32,13.64 -10.26,13.57 -10.21,13.5 -10.15,13.43 -10.1,13.35 -10.04,13.28 -9.98,13.21 -9.93,13.13 -9.87,13.06 -9.81,12.99 -9.76,12.91 -9.7,12.84 -9.65,12.76 -9.59,12.69 -9.53,12.61 -9.48,12.54 -9.42,12.46 -9.36,12.38 -9.31,12.31 -9.25,12.23 -9.2,12.15 -9.14,12.07 -9.08,12 -9.03,11.92 -8.97,11.84 -8.91,11.76 -8.86,11.68 -8.8,11.6 -8.75,11.52 -8.69,11.44 -8.63,11.36 -8.58,11.27 -8.52,11.19 -8.47,11.11 -8.41,11.03 -8.35,10.94 -8.3,10.86 -8.24,10.77 -8.18,10.69 -8.13,10.6 -8.07,10.52 -8.02,10.43 -7.96,10.34 -7.9,10.26 -7.85,10.17 -7.79,10.08 -7.73,9.99 -7.68,9.9 -7.62,9.81 -7.57,9.72 -7.51,9.63 -7.45,9.54 -7.4,9.45 -7.34,9.36 -7.28,9.27 -7.23,9.17 -7.17,9.08 -7.12,8.99 -7.06,8.89 -7,8.8 -6.95,8.7 -6.89,8.61 -6.83,8.51 -6.78,8.41 -6.72,8.31 -6.67,8.21 -6.61,8.12 -6.55,8.02 -6.5,7.92 -6.44,7.81 -6.38,7.71 -6.33,7.61 -6.27,7.51 -6.22,7.41 -6.16,7.3 -6.1,7.2 -6.05,7.09 -5.99,6.99 -5.93,6.88 -5.88,6.78 -5.82,6.67 -5.77,6.57 -5.71,6.47 -5.65,6.36 -5.6,6.26 -5.54,6.16 -5.48,6.05 -5.43,5.95 -5.37,5.85 -5.32,5.75 -5.26,5.65 -5.2,5.55 -5.15,5.44 -5.09,5.34 -5.03,5.24 -4.98,5.14 -4.92,5.04 -4.87,4.94 -4.81,4.85 -4.75,4.75 -4.7,4.65 -4.64,4.55 -4.58,4.45 -4.53,4.35 -4.47,4.26 -4.42,4.16 -4.36,4.06 -4.3,3.97 -4.25,3.87 -4.19,3.77 -4.13,3.68 -4.08,3.58 -4.02,3.49 -3.97,3.39 -3.91,3.3 -3.85,3.2 -3.8,3.11 -3.74,3.02 -3.68,2.92 -3.63,2.83 -3.57,2.74 -3.52,2.64 -3.46,2.55 -3.4,2.46 -3.35,2.37 -3.29,2.27 -3.23,2.18 -3.18,2.09 -3.12,2 -3.07,1.91 -3.01,1.82 -2.95,1.73 -2.9,1.64 -2.84,1.55 -2.78,1.46 -2.73,1.37 -2.67,1.28 -2.62,1.19 -2.56,1.1 -2.5,1.01 -2.45,0.93 -2.39,0.84 -2.33,0.75 -2.28,0.66 -2.22,0.58 -2.17,0.49 -2.11,0.4 -2.05,0.32 -2,0.23 -1.94,0.14 -1.88,0.06 -1.83,-0.03 -1.77,-0.11 -1.72,-0.2 -1.66,-0.28 -1.6,-0.37 -1.55,-0.45 -1.49,-0.54 -1.43,-0.62 -1.38,-0.71 -1.32,-0.79 -1.27,-0.87 -1.21,-0.96 -1.15,-1.04 -1.1,-1.12 -1.04,-1.2 -0.98,-1.29 -0.93,-1.37 -0.87,-1.45 -0.82,-1.53 -0.76,-1.61 -0.7,-1.69 -0.65,-1.78 -0.59,-1.86 -0.53,-1.94 -0.48,-2.02 -0.42,-2.1 -0.37,-2.18 -0.31,-2.26 -0.25,-2.34 -0.2,-2.42 -0.14,-2.49 -0.08,-2.57 -0.03,-2.65 0.03,-2.73 0.08,-2.81 0.14,-2.89 0.2,-2.96 0.25,-3.04 0.31,-3.12 0.37,-3.2 0.42,-3.27 0.48,-3.35 0.53,-3.43 0.59,-3.5 0.65,-3.58 0.7,-3.66 0.76,-3.73 0.82,-3.81 0.87,-3.88 0.93,-3.96 0.98,-4.03 1.04,-4.11 1.1,-4.18 1.15,-4.25 1.21,-4.33 1.27,-4.4 1.32,-4.48 1.38,-4.55 1.43,-4.62 1.49,-4.7 1.55,-4.77 1.6,-4.84 1.66,-4.91 1.72,-4.99 1.77,-5.06 1.83,-5.13 1.88,-5.2 1.94,-5.27 2,-5.34 2.05,-5.41 2.11,-5.48 2.17,-5.56 2.22,-5.63 2.28,-5.7 2.33,-5.77 2.39,-5.84 2.45,-5.9 2.5,-5.97 2.56,-6.04 2.62,-6.11 2.67,-6.18 2.73,-6.25 2.78,-6.32 2.84,-6.39 2.9,-6.45 2.95,-6.52 3.01,-6.59 3.07,-6.66 3.12,-6.72 3.18,-6.79 3.23,-6.86 3.29,-6.92 3.35,-6.99 3.4,-7.06 3.46,-7.12 3.52,-7.19 3.57,-7.25 3.63,-7.32 3.68,-7.38 3.74,-7.45 3.8,-7.51 3.85,-7.58 3.91,-7.64 3.97,-7.7 4.02,-7.77 4.08,-7.83 4.13,-7.9 4.19,-7.96 4.25,-8.02 4.3,-8.09 4.36,-8.15 4.42,-8.21 4.47,-8.27 4.53,-8.33 4.58,-8.4 4.64,-8.46 4.7,-8.52 4.75,-8.58 4.81,-8.64 4.87,-8.7 4.92,-8.76 4.98,-8.82 5.03,-8.88 5.09,-8.94 5.15,-9 5.2,-9.06 5.26,-9.12 5.32,-9.18 5.37,-9.24 5.43,-9.3 5.48,-9.36 5.54,-9.42 5.6,-9.48 5.65,-9.53 5.71,-9.59 5.77,-9.65 5.82,-9.71 5.88,-9.77 5.93,-9.82 5.99,-9.88 6.05,-9.94 6.1,-9.99 6.16,-10.05 6.22,-10.11 6.27,-10.16 6.33,-10.22 6.38,-10.27 6.44,-10.33 6.5,-10.38 6.55,-10.44 6.61,-10.49 6.67,-10.55 6.72,-10.6 6.78,-10.66 6.83,-10.71 6.89,-10.76 6.95,-10.82 7,-10.87 7.06,-10.92 7.12,-10.98 7.17,-11.03 7.23,-11.08 7.28,-11.13 7.34,-11.19 7.4,-11.24 7.45,-11.29 7.51,-11.34 7.57,-11.39 7.62,-11.45 7.68,-11.5 7.73,-11.55 7.79,-11.6 7.85,-11.65 7.9,-11.7 7.96,-11.75 8.02,-11.8 8.07,-11.85 8.13,-11.9 8.18,-11.95 8.24,-12 8.3,-12.04 8.35,-12.09 8.41,-12.14 8.47,-12.19 8.52,-12.24 8.58,-12.29 8.63,-12.33 8.69,-12.38 8.75,-12.43 8.8,-12.48 8.86,-12.52 8.91,-12.57 8.97,-12.62 9.03,-12.66 9.08,-12.71 9.14,-12.76 9.2,-12.8 9.25,-12.85 9.31,-12.89 9.36,-12.94 9.42,-12.98 9.48,-13.03 9.53,-13.07 9.59,-13.12 9.65,-13.16 9.7,-13.2 9.76,-13.25 9.81,-13.29 9.87,-13.34 9.93,-13.38 9.98,-13.42 10.04,-13.46 10.1,-13.51 10.15,-13.55 10.21,-13.59 10.26,-13.63 10.32,-13.68 10.38,-13.72 10.43,-13.76 10.49,-13.8 10.55,-13.84 10.6,-13.88 10.66,-13.92 10.71,-13.96 10.77,-14 10.83,-14.04 10.88,-14.08 10.94,-14.12 11,-14.16 11.05,-14.2 11.11,-14.24 11.16,-14.28 11.22,-14.32 11.28,-14.36 11.33,-14.4 11.39,-14.44 11.45,-14.47 11.5,-14.51 11.56,-14.55 11.61,-14.59 11.67,-14.62 11.73,-14.66 11.78,-14.7 11.84,-14.73 11.9,-14.77 11.95,-14.81 12.01,-14.84 12.06,-14.88 12.12,-14.91 12.18,-14.95 12.23,-14.99 12.29,-15.02 12.35,-15.06 12.4,-15.09 12.46,-15.13 12.51,-15.16 12.57,-15.19 12.63,-15.23 12.68,-15.26 12.74,-15.29 12.8,-15.33 12.85,-15.36 12.91,-15.39 12.96,-15.43 13.02,-15.46 13.08,-15.49 13.13,-15.52 13.19,-15.56 13.25,-15.59 13.3,-15.62 13.36,-15.65 13.41,-15.68 13.47,-15.71 13.53,-15.74 13.58,-15.78 13.64,-15.81 13.7,-15.84 13.75,-15.87 13.81,-15.9 13.86,-15.93 13.92,-15.96 13.98,-15.98 14.03,-16.01 14.09,-16.04 14.15,-16.07 14.2,-16.1 14.26,-16.13 14.31,-16.16 14.37,-16.18 14.43,-16.21 14.48,-16.24 14.54,-16.27 14.6,-16.29 14.65,-16.32 14.71,-16.35 14.76,-16.37 14.82,-16.4 14.88,-16.43 14.93,-16.45 14.99,-16.48 15.05,-16.51 15.1,-16.53 15.16,-16.56 15.21,-16.58 15.27,-16.61 15.33,-16.63 15.38,-16.65 15.44,-16.68 15.5,-16.7 15.55,-16.73 15.61,-16.75 15.66,-16.77 15.72,-16.8 15.78,-16.82 15.83,-16.84 15.89,-16.87 15.95,-16.89 16,-16.91 16.06,-16.93 16.11,-16.96 16.17,-16.98 16.23,-17 16.28,-17.02 16.34,-17.04 16.4,-17.06 16.45,-17.08 16.51,-17.1 16.56,-17.12 16.62,-17.15 16.68,-17.17 16.73,-17.18 16.79,-17.2 16.85,-17.22 16.9,-17.24 16.96,-17.26 17.01,-17.28 17.07,-17.3 17.13,-17.32 17.18,-17.34 17.24,-17.36 17.3,-17.37 17.35,-17.39 17.41,-17.41 17.46,-17.43 17.52,-17.44 17.58,-17.46 17.63,-17.48 17.69,-17.49 17.75,-17.51 17.8,-17.53 17.86,-17.54 17.91,-17.56 17.97,-17.57 18.03,-17.59 18.08,-17.6 18.14,-17.62 18.2,-17.63 18.25,-17.65 18.31,-17.66 18.36,-17.68 18.42,-17.69 18.48,-17.71 18.53,-17.72 18.59,-17.73 18.65,-17.75 18.7,-17.76 18.76,-17.77 18.81,-17.78 18.87,-17.8 18.93,-17.81 18.98,-17.82 19.04,-17.83 19.1,-17.85 19.15,-17.86 19.21,-17.87 19.26,-17.88 19.32,-17.89 19.38,-17.9 19.43,-17.91 19.49,-17.92 19.55,-17.93 19.6,-17.94 19.66,-17.95 19.71,-17.96 19.77,-17.97 19.83,-17.98 19.88,-17.99 19.94,-18 20,-18.01 20.05,-18.02 20.11,-18.02 20.16,-18.03 20.22,-18.04 20.28,-18.05 20.33,-18.06 20.39,-18.06 20.45,-18.07 20.5,-18.08 20.56,-18.08 20.61,-18.09 20.67,-18.1 20.73,-18.1 20.78,-18.11 20.84,-18.11 20.9,-18.12 20.95,-18.13 21.01,-18.13 21.06,-18.14 21.12,-18.14 21.18,-18.15 21.23,-18.15 21.29,-18.15 21.35,-18.16 21.4,-18.16 21.46,-18.17 21.51,-18.17 21.57,-18.17 21.63,-18.18 21.68,-18.18 21.74,-18.18 21.8,-18.18 21.85,-18.19 21.91,-18.19 21.96,-18.19 22.02,-18.19 22.08,-18.19 22.13,-18.19 22.19,-18.2 22.25,-18.2 22.3,-18.2 22.36,-18.2 22.41,-18.2 22.47,-18.2 \" class=\"primitive\"/>\n",
       "            </g>\n",
       "          </g>\n",
       "        </g>\n",
       "      </g>\n",
       "    </g>\n",
       "  </g>\n",
       "  <g class=\"guide ylabels\" font-size=\"2.82\" font-family=\"'PT Sans Caption','Helvetica Neue','Helvetica',sans-serif\" fill=\"#6C606B\" id=\"img-227a216c-136\">\n",
       "    <g transform=\"translate(20.98,54.91)\" id=\"img-227a216c-137\">\n",
       "      <g class=\"primitive\">\n",
       "        <text text-anchor=\"end\" dy=\"0.35em\">1.000</text>\n",
       "      </g>\n",
       "    </g>\n",
       "    <g transform=\"translate(20.98,38.94)\" id=\"img-227a216c-138\">\n",
       "      <g class=\"primitive\">\n",
       "        <text text-anchor=\"end\" dy=\"0.35em\">1.005</text>\n",
       "      </g>\n",
       "    </g>\n",
       "    <g transform=\"translate(20.98,22.97)\" id=\"img-227a216c-139\">\n",
       "      <g class=\"primitive\">\n",
       "        <text text-anchor=\"end\" dy=\"0.35em\">1.010</text>\n",
       "      </g>\n",
       "    </g>\n",
       "    <g transform=\"translate(20.98,7)\" id=\"img-227a216c-140\">\n",
       "      <g class=\"primitive\">\n",
       "        <text text-anchor=\"end\" dy=\"0.35em\">1.015</text>\n",
       "      </g>\n",
       "    </g>\n",
       "  </g>\n",
       "  <g font-size=\"3.88\" font-family=\"'PT Sans','Helvetica Neue','Helvetica',sans-serif\" fill=\"#564A55\" stroke=\"#000000\" stroke-opacity=\"0.000\" id=\"img-227a216c-141\">\n",
       "    <g transform=\"translate(8.81,28.96)\" id=\"img-227a216c-142\">\n",
       "      <g class=\"primitive\">\n",
       "        <text text-anchor=\"middle\" dy=\"0.35em\" transform=\"rotate(-90,0, 2)\">Altitude</text>\n",
       "      </g>\n",
       "    </g>\n",
       "  </g>\n",
       "</g>\n",
       "<defs>\n",
       "  <clipPath id=\"img-227a216c-4\">\n",
       "    <path d=\"M92.48,81.2 L147.4,81.2 147.4,133.11 92.48,133.11 \" />\n",
       "  </clipPath>\n",
       "  <clipPath id=\"img-227a216c-41\">\n",
       "    <path d=\"M21.42,81.2 L71.2,81.2 71.2,133.11 21.42,133.11 \" />\n",
       "  </clipPath>\n",
       "  <clipPath id=\"img-227a216c-78\">\n",
       "    <path d=\"M94.83,5 L147.4,5 147.4,56.91 94.83,56.91 \" />\n",
       "  </clipPath>\n",
       "  <clipPath id=\"img-227a216c-117\">\n",
       "    <path d=\"M21.98,5 L71.2,5 71.2,56.91 21.98,56.91 \" />\n",
       "  </clipPath>\n",
       "</defs>\n",
       "</svg>\n",
       "\n",
       "</html>\n"
      ],
      "text/plain": [
       "SVG(152.39999999999998mm, 152.39999999999998mm, IOBuffer(data=UInt8[...], readable=true, writable=true, seekable=true, append=false, size=62035, maxsize=Inf, ptr=62036, mark=-1), nothing, \"img-227a216c\", 0, Compose.SVGPropertyFrame[], Dict{Type, Union{Nothing, Compose.Property}}(Compose.Property{Compose.StrokePrimitive} => nothing, Compose.Property{Compose.StrokeOpacityPrimitive} => nothing, Compose.Property{Compose.SVGClassPrimitive} => nothing, Compose.Property{Compose.JSCallPrimitive} => nothing, Compose.Property{Compose.SVGAttributePrimitive} => nothing, Compose.Property{Compose.StrokeDashPrimitive} => nothing, Compose.Property{Compose.FontSizePrimitive} => nothing, Compose.Property{Compose.LineWidthPrimitive} => nothing, Compose.Property{Compose.FillPrimitive} => nothing, Compose.Property{Compose.FontPrimitive} => nothing…), OrderedCollections.OrderedDict{Compose.ClipPrimitive, String}(Compose.ClipPrimitive{Tuple{Measures.AbsoluteLength, Measures.AbsoluteLength}}(Tuple{Measures.AbsoluteLength, Measures.AbsoluteLength}[(92.48499999999999mm, 81.19999999999999mm), (147.39999999999998mm, 81.19999999999999mm), (147.39999999999998mm, 133.11499999999998mm), (92.48499999999999mm, 133.11499999999998mm)]) => \"img-227a216c-4\", Compose.ClipPrimitive{Tuple{Measures.AbsoluteLength, Measures.AbsoluteLength}}(Tuple{Measures.AbsoluteLength, Measures.AbsoluteLength}[(21.418333333333337mm, 81.19999999999999mm), (71.19999999999999mm, 81.19999999999999mm), (71.19999999999999mm, 133.11499999999998mm), (21.418333333333337mm, 133.11499999999998mm)]) => \"img-227a216c-41\", Compose.ClipPrimitive{Tuple{Measures.AbsoluteLength, Measures.AbsoluteLength}}(Tuple{Measures.AbsoluteLength, Measures.AbsoluteLength}[(94.83166666666665mm, 5.0mm), (147.39999999999998mm, 5.0mm), (147.39999999999998mm, 56.91499999999999mm), (94.83166666666665mm, 56.91499999999999mm)]) => \"img-227a216c-78\", Compose.ClipPrimitive{Tuple{Measures.AbsoluteLength, Measures.AbsoluteLength}}(Tuple{Measures.AbsoluteLength, Measures.AbsoluteLength}[(21.97833333333333mm, 5.0mm), (71.19999999999999mm, 5.0mm), (71.19999999999999mm, 56.91499999999999mm), (21.97833333333333mm, 56.91499999999999mm)]) => \"img-227a216c-117\"), Tuple{Compose.FormPrimitive, String}[], Set{AbstractString}(), true, false, nothing, true, \"img-227a216c-142\", false, 142, Set(AbstractString[\"C:\\\\Users\\\\thasa\\\\.julia\\\\packages\\\\Gadfly\\\\OQ068\\\\src\\\\gadfly.js\"]), Set(Tuple{AbstractString, AbstractString}[(\"Snap.svg\", \"Snap\"), (\"Gadfly\", \"Gadfly\")]), AbstractString[\"fig.select(\\\"#img-227a216c-5\\\")\\n   .init_gadfly();\", \"fig.select(\\\"#img-227a216c-42\\\")\\n   .init_gadfly();\", \"fig.select(\\\"#img-227a216c-79\\\")\\n   .init_gadfly();\", \"fig.select(\\\"#img-227a216c-118\\\")\\n   .init_gadfly();\"], false, :none, (Measures.BoundingBox{Tuple{Measures.AbsoluteLength, Measures.AbsoluteLength}, Tuple{Measures.AbsoluteLength, Measures.AbsoluteLength}}((21.97833333333333mm, 5.0mm), (49.22166666666666mm, 51.91499999999999mm)), Compose.UnitBox{Float64, Float64, Float64, Float64}(-0.008845317510043124, 1.0156261087342169, 0.2176906350200863, -0.016252217468433822, 0.0mm, 0.0mm, 0.0mm, 0.0mm), Compose.IdentityTransform()))"
      ]
     },
     "metadata": {},
     "output_type": "display_data"
    }
   ],
   "source": [
    "h_plot = plot(x = (1:n) * value.(Δt), y = value.(h)[:], Geom.line,\n",
    "                Guide.xlabel(\"Time (s)\"), Guide.ylabel(\"Altitude\"))\n",
    "m_plot = plot(x = (1:n) * value.(Δt), y = value.(m)[:], Geom.line,\n",
    "                Guide.xlabel(\"Time (s)\"), Guide.ylabel(\"Mass\"))\n",
    "v_plot = plot(x = (1:n) * value.(Δt), y = value.(v)[:], Geom.line,\n",
    "                Guide.xlabel(\"Time (s)\"), Guide.ylabel(\"Velocity\"))\n",
    "T_plot = plot(x = (1:n) * value.(Δt), y = value.(T)[:], Geom.line,\n",
    "                Guide.xlabel(\"Time (s)\"), Guide.ylabel(\"Thrust\"))\n",
    "draw(SVG(6inch, 6inch), vstack(hstack(h_plot, m_plot), hstack(v_plot, T_plot)))"
   ]
  },
  {
   "cell_type": "markdown",
   "metadata": {},
   "source": [
    "### Questions:     \n",
    "    - i) Transformer le modèle JuMP utilisé ci-dessus en un NLPModel en utilisant le package `NLPModelsJuMP`.    \n",
    "    - ii) Résoudre ce nouveau modèle avec `Ipopt` en utilisant `NLPModelsIpopt`.    \n",
    "    - iii) Calcul séparément la différence entre les h,v,m,T, Δt calculés.    \n",
    "    - iv) Est-ce que le contrôle T atteint ses bornes ?    \n",
    "    - v) Reproduire les graphiques ci-dessous avec la solution calculée via `NLPModelsIpopt`.\n"
   ]
  },
  {
   "cell_type": "code",
   "execution_count": 12,
   "metadata": {},
   "outputs": [],
   "source": [
    "using NLPModels, LinearAlgebra, NLPModelsJuMP, NLPModelsIpopt"
   ]
  },
  {
   "cell_type": "code",
   "execution_count": null,
   "metadata": {},
   "outputs": [],
   "source": []
  },
  {
   "cell_type": "markdown",
   "metadata": {},
   "source": [
    "# Rapport\n",
    "## Exercice 1"
   ]
  },
  {
   "cell_type": "code",
   "execution_count": 15,
   "metadata": {},
   "outputs": [
    {
     "ename": "ArgumentError",
     "evalue": "ArgumentError: Package NLSProblems not found in current path.\n- Run `import Pkg; Pkg.add(\"NLSProblems\")` to install the NLSProblems package.",
     "output_type": "error",
     "traceback": [
      "ArgumentError: Package NLSProblems not found in current path.\n",
      "- Run `import Pkg; Pkg.add(\"NLSProblems\")` to install the NLSProblems package.\n",
      "\n",
      "Stacktrace:\n",
      "  [1] macro expansion\n",
      "    @ Base .\\loading.jl:1766 [inlined]\n",
      "  [2] macro expansion\n",
      "    @ Base .\\lock.jl:267 [inlined]\n",
      "  [3] __require(into::Module, mod::Symbol)\n",
      "    @ Base .\\loading.jl:1747\n",
      "  [4] #invoke_in_world#3\n",
      "    @ Base .\\essentials.jl:921 [inlined]\n",
      "  [5] invoke_in_world\n",
      "    @ Base .\\essentials.jl:918 [inlined]\n",
      "  [6] require(into::Module, mod::Symbol)\n",
      "    @ Base .\\loading.jl:1740\n",
      "  [7] eval\n",
      "    @ .\\boot.jl:385 [inlined]\n",
      "  [8] include_string(mapexpr::typeof(REPL.softscope), mod::Module, code::String, filename::String)\n",
      "    @ Base .\\loading.jl:2070\n",
      "  [9] #invokelatest#2\n",
      "    @ .\\essentials.jl:887 [inlined]\n",
      " [10] invokelatest\n",
      "    @ .\\essentials.jl:884 [inlined]\n",
      " [11] (::VSCodeServer.var\"#208#209\"{VSCodeServer.NotebookRunCellArguments, String})()\n",
      "    @ VSCodeServer c:\\Users\\thasa\\.vscode\\extensions\\julialang.language-julia-1.66.2\\scripts\\packages\\VSCodeServer\\src\\serve_notebook.jl:19\n",
      " [12] withpath(f::VSCodeServer.var\"#208#209\"{VSCodeServer.NotebookRunCellArguments, String}, path::String)\n",
      "    @ VSCodeServer c:\\Users\\thasa\\.vscode\\extensions\\julialang.language-julia-1.66.2\\scripts\\packages\\VSCodeServer\\src\\repl.jl:274\n",
      " [13] notebook_runcell_request(conn::VSCodeServer.JSONRPC.JSONRPCEndpoint{Base.PipeEndpoint, Base.PipeEndpoint}, params::VSCodeServer.NotebookRunCellArguments)\n",
      "    @ VSCodeServer c:\\Users\\thasa\\.vscode\\extensions\\julialang.language-julia-1.66.2\\scripts\\packages\\VSCodeServer\\src\\serve_notebook.jl:13\n",
      " [14] dispatch_msg(x::VSCodeServer.JSONRPC.JSONRPCEndpoint{Base.PipeEndpoint, Base.PipeEndpoint}, dispatcher::VSCodeServer.JSONRPC.MsgDispatcher, msg::Dict{String, Any})\n",
      "    @ VSCodeServer.JSONRPC c:\\Users\\thasa\\.vscode\\extensions\\julialang.language-julia-1.66.2\\scripts\\packages\\JSONRPC\\src\\typed.jl:67\n",
      " [15] serve_notebook(pipename::String, outputchannel_logger::Base.CoreLogging.SimpleLogger; crashreporting_pipename::String)\n",
      "    @ VSCodeServer c:\\Users\\thasa\\.vscode\\extensions\\julialang.language-julia-1.66.2\\scripts\\packages\\VSCodeServer\\src\\serve_notebook.jl:139\n",
      " [16] top-level scope\n",
      "    @ c:\\Users\\thasa\\.vscode\\extensions\\julialang.language-julia-1.66.2\\scripts\\notebook\\notebook.jl:32"
     ]
    }
   ],
   "source": [
    "using NLSProblems"
   ]
  }
 ],
 "metadata": {
  "kernelspec": {
   "display_name": "Julia 1.10.0",
   "language": "julia",
   "name": "julia-1.10"
  },
  "language_info": {
   "file_extension": ".jl",
   "mimetype": "application/julia",
   "name": "julia",
   "version": "1.10.0"
  }
 },
 "nbformat": 4,
 "nbformat_minor": 4
}
