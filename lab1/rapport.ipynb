{
 "cells": [
  {
   "cell_type": "code",
   "execution_count": 24,
   "metadata": {},
   "outputs": [
    {
     "data": {
      "text/plain": [
       "quad"
      ]
     },
     "metadata": {},
     "output_type": "display_data"
    }
   ],
   "source": [
    "\"\"\"\n",
    " Fonction qui résout une équation polynomiale du second degré\n",
    "\"\"\"\n",
    "function quad(a,b,c)\n",
    "    r1 = (-b + ComplexF64(b^2 - 4*a*c)^0.5)/(2*a)\n",
    "    r2 = (-b - ComplexF64(b^2 - 4*a*c)^0.5)/(2*a)\n",
    "    if r1 == r2\n",
    "        return r1\n",
    "    end\n",
    "    return (r1,r2)\n",
    "end"
   ]
  }
 ],
 "metadata": {
  "kernelspec": {
   "display_name": "Julia 1.10.0",
   "language": "julia",
   "name": "julia-1.10"
  },
  "language_info": {
   "file_extension": ".jl",
   "mimetype": "application/julia",
   "name": "julia",
   "version": "1.10.0"
  }
 },
 "nbformat": 4,
 "nbformat_minor": 2
}
