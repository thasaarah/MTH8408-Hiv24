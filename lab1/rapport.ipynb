{
 "cells": [
  {
   "cell_type": "code",
   "execution_count": null,
   "metadata": {},
   "outputs": [],
   "source": [
    "\"\"\"\n",
    " Fonction qui résout une équation polynomiale du second degré\n",
    "\"\"\"\n",
    "function quad(a,b,c)\n",
    "    r1 = (-b + ComplexF64(b^2 - 4*a*c)^0.5)/(2*a)\n",
    "    r2 = (-b - ComplexF64(b^2 - 4*a*c)^0.5)/(2*a)\n",
    "    if r1 == r2\n",
    "        return r1\n",
    "    end\n",
    "    return (r1,r2)\n",
    "end"
   ]
  },
  {
   "cell_type": "code",
   "execution_count": 3,
   "metadata": {},
   "outputs": [
    {
     "data": {
      "text/plain": [
       "is_symmetric_positive_definite (generic function with 1 method)"
      ]
     },
     "metadata": {},
     "output_type": "display_data"
    }
   ],
   "source": [
    "using LinearAlgebra\n",
    "\n",
    "\"\"\"\n",
    " Fonction qui vérifie si une matrice est symétrique définie positive\n",
    "\"\"\"\n",
    "\n",
    "function is_symmetric_positive_definite(A)\n",
    "    # Matrice doit être carrée\n",
    "    if size(A, 1) != size(A, 2)\n",
    "        return false\n",
    "    end\n",
    "    \n",
    "    # Matrice doit être symétrique\n",
    "    if A != transpose(A)\n",
    "        return false\n",
    "    end\n",
    "    \n",
    "    # Matrice doit être définie positive\n",
    "    eigenvalues = eigen(A).values\n",
    "    for val in eigenvalues\n",
    "        if val <= 0\n",
    "            return false\n",
    "        end\n",
    "    end\n",
    "    return true\n",
    "end"
   ]
  },
  {
   "cell_type": "code",
   "execution_count": 6,
   "metadata": {},
   "outputs": [
    {
     "name": "stdout",
     "output_type": "stream",
     "text": [
      "Le résultat du test positif est : true\n",
      "Le résultat du test négatif est : false\n"
     ]
    }
   ],
   "source": [
    "# Test positif\n",
    "A1 = [4.0 1.0 2.0; 1.0 5.0 3.0; 2.0 3.0 6.0]\n",
    "println(\"Le résultat du test positif est : \", is_symmetric_positive_definite(A1))\n",
    "\n",
    "# Test négatif\n",
    "A2 = [1.0 2.0 3.0; 4.0 5.0 6.0; 7.0 8.0 9.0]\n",
    "println(\"Le résultat du test négatif est : \", is_symmetric_positive_definite(A2))"
   ]
  },
  {
   "cell_type": "code",
   "execution_count": null,
   "metadata": {},
   "outputs": [],
   "source": []
  }
 ],
 "metadata": {
  "kernelspec": {
   "display_name": "Julia 1.10.0",
   "language": "julia",
   "name": "julia-1.10"
  },
  "language_info": {
   "file_extension": ".jl",
   "mimetype": "application/julia",
   "name": "julia",
   "version": "1.10.0"
  }
 },
 "nbformat": 4,
 "nbformat_minor": 2
}
